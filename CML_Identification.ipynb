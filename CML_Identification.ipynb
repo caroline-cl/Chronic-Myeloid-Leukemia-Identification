{
 "cells": [
  {
   "cell_type": "markdown",
   "metadata": {},
   "source": [
    "# Imports"
   ]
  },
  {
   "cell_type": "code",
   "execution_count": 74,
   "metadata": {},
   "outputs": [],
   "source": [
    "import pandas as pd\n",
    "import numpy as np\n",
    "from scipy.io import mmread\n",
    "from sklearn.model_selection import train_test_split, cross_val_score, KFold\n",
    "from sklearn.neighbors import KNeighborsClassifier\n",
    "from scipy.stats import pearsonr, ranksums\n",
    "from sklearn.metrics import accuracy_score\n",
    "from sklearn.preprocessing import LabelEncoder, OneHotEncoder\n",
    "import matplotlib.pyplot as plt\n",
    "import statsmodels.stats.multitest as smt\n",
    "from sklearn.metrics import roc_curve, roc_auc_score\n",
    "from sklearn import tree\n",
    "from sklearn.linear_model import LogisticRegression, LogisticRegressionCV"
   ]
  },
  {
   "cell_type": "markdown",
   "metadata": {},
   "source": [
    "# Data Preprocessing"
   ]
  },
  {
   "cell_type": "code",
   "execution_count": 2,
   "metadata": {},
   "outputs": [
    {
     "name": "stdout",
     "output_type": "stream",
     "text": [
      "(27118, 2151)\n"
     ]
    },
    {
     "data": {
      "text/html": [
       "<div>\n",
       "<style scoped>\n",
       "    .dataframe tbody tr th:only-of-type {\n",
       "        vertical-align: middle;\n",
       "    }\n",
       "\n",
       "    .dataframe tbody tr th {\n",
       "        vertical-align: top;\n",
       "    }\n",
       "\n",
       "    .dataframe thead th {\n",
       "        text-align: right;\n",
       "    }\n",
       "</style>\n",
       "<table border=\"1\" class=\"dataframe\">\n",
       "  <thead>\n",
       "    <tr style=\"text-align: right;\">\n",
       "      <th></th>\n",
       "      <th>SRR3052083</th>\n",
       "      <th>SRR3052084</th>\n",
       "      <th>SRR3052085</th>\n",
       "      <th>SRR3052086</th>\n",
       "      <th>SRR3052087</th>\n",
       "      <th>SRR3052088</th>\n",
       "      <th>SRR3052089</th>\n",
       "      <th>SRR3052090</th>\n",
       "      <th>SRR3052091</th>\n",
       "      <th>SRR3052092</th>\n",
       "      <th>...</th>\n",
       "      <th>SRR5456187</th>\n",
       "      <th>SRR5456188</th>\n",
       "      <th>SRR5456189</th>\n",
       "      <th>SRR5456190</th>\n",
       "      <th>SRR5456191</th>\n",
       "      <th>SRR5456192</th>\n",
       "      <th>SRR5456193</th>\n",
       "      <th>SRR5456194</th>\n",
       "      <th>SRR5456195</th>\n",
       "      <th>SRR5456196</th>\n",
       "    </tr>\n",
       "  </thead>\n",
       "  <tbody>\n",
       "    <tr>\n",
       "      <th>ENSG00000000003</th>\n",
       "      <td>1.848425</td>\n",
       "      <td>0.000000</td>\n",
       "      <td>0.000000</td>\n",
       "      <td>0.000000</td>\n",
       "      <td>0.000000</td>\n",
       "      <td>0.000000</td>\n",
       "      <td>0.000000</td>\n",
       "      <td>7.220118</td>\n",
       "      <td>0.000000</td>\n",
       "      <td>0.000000</td>\n",
       "      <td>...</td>\n",
       "      <td>0.000000</td>\n",
       "      <td>0.0000</td>\n",
       "      <td>0.000000</td>\n",
       "      <td>1.594196</td>\n",
       "      <td>0.409923</td>\n",
       "      <td>2.122996</td>\n",
       "      <td>0.00000</td>\n",
       "      <td>0.000000</td>\n",
       "      <td>0.000000</td>\n",
       "      <td>1.246196</td>\n",
       "    </tr>\n",
       "    <tr>\n",
       "      <th>ENSG00000000419</th>\n",
       "      <td>0.922133</td>\n",
       "      <td>201.239100</td>\n",
       "      <td>0.000000</td>\n",
       "      <td>64.100410</td>\n",
       "      <td>1.302134</td>\n",
       "      <td>0.000000</td>\n",
       "      <td>0.000000</td>\n",
       "      <td>0.771098</td>\n",
       "      <td>127.333510</td>\n",
       "      <td>258.883200</td>\n",
       "      <td>...</td>\n",
       "      <td>0.000000</td>\n",
       "      <td>508.2891</td>\n",
       "      <td>60.324370</td>\n",
       "      <td>0.000000</td>\n",
       "      <td>1.229770</td>\n",
       "      <td>0.424553</td>\n",
       "      <td>445.82940</td>\n",
       "      <td>267.926670</td>\n",
       "      <td>0.000000</td>\n",
       "      <td>0.287090</td>\n",
       "    </tr>\n",
       "    <tr>\n",
       "      <th>ENSG00000000457</th>\n",
       "      <td>14.105330</td>\n",
       "      <td>45.350548</td>\n",
       "      <td>27.500156</td>\n",
       "      <td>24.328178</td>\n",
       "      <td>21.817270</td>\n",
       "      <td>15.758317</td>\n",
       "      <td>3.566042</td>\n",
       "      <td>19.376453</td>\n",
       "      <td>23.881630</td>\n",
       "      <td>37.535576</td>\n",
       "      <td>...</td>\n",
       "      <td>18.358406</td>\n",
       "      <td>1588.4178</td>\n",
       "      <td>40.131010</td>\n",
       "      <td>13.045530</td>\n",
       "      <td>34.460392</td>\n",
       "      <td>13.971558</td>\n",
       "      <td>27.20065</td>\n",
       "      <td>30.016335</td>\n",
       "      <td>12.008236</td>\n",
       "      <td>14.492656</td>\n",
       "    </tr>\n",
       "    <tr>\n",
       "      <th>ENSG00000000460</th>\n",
       "      <td>0.922133</td>\n",
       "      <td>0.000000</td>\n",
       "      <td>0.000000</td>\n",
       "      <td>0.000000</td>\n",
       "      <td>1.953201</td>\n",
       "      <td>1.820742</td>\n",
       "      <td>0.000000</td>\n",
       "      <td>0.771098</td>\n",
       "      <td>10.582026</td>\n",
       "      <td>0.000000</td>\n",
       "      <td>...</td>\n",
       "      <td>0.000000</td>\n",
       "      <td>0.0000</td>\n",
       "      <td>0.781743</td>\n",
       "      <td>1.438031</td>\n",
       "      <td>0.000000</td>\n",
       "      <td>0.525876</td>\n",
       "      <td>0.00000</td>\n",
       "      <td>0.000000</td>\n",
       "      <td>0.726846</td>\n",
       "      <td>0.000000</td>\n",
       "    </tr>\n",
       "    <tr>\n",
       "      <th>ENSG00000000938</th>\n",
       "      <td>0.000000</td>\n",
       "      <td>0.000000</td>\n",
       "      <td>0.000000</td>\n",
       "      <td>503.646100</td>\n",
       "      <td>0.000000</td>\n",
       "      <td>0.000000</td>\n",
       "      <td>0.000000</td>\n",
       "      <td>0.000000</td>\n",
       "      <td>0.000000</td>\n",
       "      <td>0.000000</td>\n",
       "      <td>...</td>\n",
       "      <td>0.000000</td>\n",
       "      <td>0.0000</td>\n",
       "      <td>0.000000</td>\n",
       "      <td>0.000000</td>\n",
       "      <td>0.000000</td>\n",
       "      <td>0.000000</td>\n",
       "      <td>0.00000</td>\n",
       "      <td>0.000000</td>\n",
       "      <td>0.000000</td>\n",
       "      <td>0.000000</td>\n",
       "    </tr>\n",
       "  </tbody>\n",
       "</table>\n",
       "<p>5 rows × 2151 columns</p>\n",
       "</div>"
      ],
      "text/plain": [
       "                 SRR3052083  SRR3052084  SRR3052085  SRR3052086  SRR3052087  \\\n",
       "ENSG00000000003    1.848425    0.000000    0.000000    0.000000    0.000000   \n",
       "ENSG00000000419    0.922133  201.239100    0.000000   64.100410    1.302134   \n",
       "ENSG00000000457   14.105330   45.350548   27.500156   24.328178   21.817270   \n",
       "ENSG00000000460    0.922133    0.000000    0.000000    0.000000    1.953201   \n",
       "ENSG00000000938    0.000000    0.000000    0.000000  503.646100    0.000000   \n",
       "\n",
       "                 SRR3052088  SRR3052089  SRR3052090  SRR3052091  SRR3052092  \\\n",
       "ENSG00000000003    0.000000    0.000000    7.220118    0.000000    0.000000   \n",
       "ENSG00000000419    0.000000    0.000000    0.771098  127.333510  258.883200   \n",
       "ENSG00000000457   15.758317    3.566042   19.376453   23.881630   37.535576   \n",
       "ENSG00000000460    1.820742    0.000000    0.771098   10.582026    0.000000   \n",
       "ENSG00000000938    0.000000    0.000000    0.000000    0.000000    0.000000   \n",
       "\n",
       "                 ...  SRR5456187  SRR5456188  SRR5456189  SRR5456190  \\\n",
       "ENSG00000000003  ...    0.000000      0.0000    0.000000    1.594196   \n",
       "ENSG00000000419  ...    0.000000    508.2891   60.324370    0.000000   \n",
       "ENSG00000000457  ...   18.358406   1588.4178   40.131010   13.045530   \n",
       "ENSG00000000460  ...    0.000000      0.0000    0.781743    1.438031   \n",
       "ENSG00000000938  ...    0.000000      0.0000    0.000000    0.000000   \n",
       "\n",
       "                 SRR5456191  SRR5456192  SRR5456193  SRR5456194  SRR5456195  \\\n",
       "ENSG00000000003    0.409923    2.122996     0.00000    0.000000    0.000000   \n",
       "ENSG00000000419    1.229770    0.424553   445.82940  267.926670    0.000000   \n",
       "ENSG00000000457   34.460392   13.971558    27.20065   30.016335   12.008236   \n",
       "ENSG00000000460    0.000000    0.525876     0.00000    0.000000    0.726846   \n",
       "ENSG00000000938    0.000000    0.000000     0.00000    0.000000    0.000000   \n",
       "\n",
       "                 SRR5456196  \n",
       "ENSG00000000003    1.246196  \n",
       "ENSG00000000419    0.287090  \n",
       "ENSG00000000457   14.492656  \n",
       "ENSG00000000460    0.000000  \n",
       "ENSG00000000938    0.000000  \n",
       "\n",
       "[5 rows x 2151 columns]"
      ]
     },
     "execution_count": 2,
     "metadata": {},
     "output_type": "execute_result"
    }
   ],
   "source": [
    "#read in the sparse matrix\n",
    "data = mmread(\"E-GEOD-76312.aggregated_filtered_normalised_counts.mtx\")\n",
    "#transform sparse matrix into pandas dataframe\n",
    "data = pd.DataFrame.sparse.from_spmatrix(data)\n",
    "\n",
    "#load the genes (in the format of ensembl id)\n",
    "gene = pd.read_csv(\"E-GEOD-76312.aggregated_filtered_normalised_counts.mtx_rows\",delimiter = \"\\t\",header = None)[0].values\n",
    "#load the gene names\n",
    "cell_id = pd.read_csv(\"E-GEOD-76312.aggregated_filtered_normalised_counts.mtx_cols\", delimiter = \"\\t\",header = None)[0].values\n",
    "\n",
    "#transform the row and column index of the dataframe into gene ensembl and cell id respectively\n",
    "data.index = gene\n",
    "data.columns = cell_id\n",
    "\n",
    "print(data.shape)\n",
    "data.head()"
   ]
  },
  {
   "cell_type": "code",
   "execution_count": 3,
   "metadata": {},
   "outputs": [
    {
     "name": "stdout",
     "output_type": "stream",
     "text": [
      "(2151, 27118)\n"
     ]
    },
    {
     "data": {
      "text/html": [
       "<div>\n",
       "<style scoped>\n",
       "    .dataframe tbody tr th:only-of-type {\n",
       "        vertical-align: middle;\n",
       "    }\n",
       "\n",
       "    .dataframe tbody tr th {\n",
       "        vertical-align: top;\n",
       "    }\n",
       "\n",
       "    .dataframe thead th {\n",
       "        text-align: right;\n",
       "    }\n",
       "</style>\n",
       "<table border=\"1\" class=\"dataframe\">\n",
       "  <thead>\n",
       "    <tr style=\"text-align: right;\">\n",
       "      <th></th>\n",
       "      <th>ENSG00000000003</th>\n",
       "      <th>ENSG00000000419</th>\n",
       "      <th>ENSG00000000457</th>\n",
       "      <th>ENSG00000000460</th>\n",
       "      <th>ENSG00000000938</th>\n",
       "      <th>ENSG00000000971</th>\n",
       "      <th>ENSG00000001036</th>\n",
       "      <th>ENSG00000001084</th>\n",
       "      <th>ENSG00000001167</th>\n",
       "      <th>ENSG00000001460</th>\n",
       "      <th>...</th>\n",
       "      <th>ENSG00000288393</th>\n",
       "      <th>ENSG00000288460</th>\n",
       "      <th>ENSG00000288525</th>\n",
       "      <th>ENSG00000288534</th>\n",
       "      <th>ENSG00000288547</th>\n",
       "      <th>ENSG00000288550</th>\n",
       "      <th>ENSG00000288556</th>\n",
       "      <th>ENSG00000288558</th>\n",
       "      <th>ENSG00000288564</th>\n",
       "      <th>ENSG00000288579</th>\n",
       "    </tr>\n",
       "  </thead>\n",
       "  <tbody>\n",
       "    <tr>\n",
       "      <th>SRR3052083</th>\n",
       "      <td>1.848425</td>\n",
       "      <td>0.922133</td>\n",
       "      <td>14.105330</td>\n",
       "      <td>0.922133</td>\n",
       "      <td>0.0000</td>\n",
       "      <td>0.000000</td>\n",
       "      <td>0.000000</td>\n",
       "      <td>0.000000</td>\n",
       "      <td>0.000000</td>\n",
       "      <td>3.538667</td>\n",
       "      <td>...</td>\n",
       "      <td>0.0</td>\n",
       "      <td>0.0</td>\n",
       "      <td>2.7664</td>\n",
       "      <td>0.000000</td>\n",
       "      <td>0.0</td>\n",
       "      <td>0.0</td>\n",
       "      <td>0.0</td>\n",
       "      <td>0.0</td>\n",
       "      <td>0.0</td>\n",
       "      <td>0.000000</td>\n",
       "    </tr>\n",
       "    <tr>\n",
       "      <th>SRR3052084</th>\n",
       "      <td>0.000000</td>\n",
       "      <td>201.239100</td>\n",
       "      <td>45.350548</td>\n",
       "      <td>0.000000</td>\n",
       "      <td>0.0000</td>\n",
       "      <td>0.000000</td>\n",
       "      <td>0.698747</td>\n",
       "      <td>1.213876</td>\n",
       "      <td>20.962408</td>\n",
       "      <td>14.077494</td>\n",
       "      <td>...</td>\n",
       "      <td>0.0</td>\n",
       "      <td>0.0</td>\n",
       "      <td>0.0000</td>\n",
       "      <td>0.000000</td>\n",
       "      <td>0.0</td>\n",
       "      <td>0.0</td>\n",
       "      <td>0.0</td>\n",
       "      <td>0.0</td>\n",
       "      <td>0.0</td>\n",
       "      <td>1.397494</td>\n",
       "    </tr>\n",
       "    <tr>\n",
       "      <th>SRR3052085</th>\n",
       "      <td>0.000000</td>\n",
       "      <td>0.000000</td>\n",
       "      <td>27.500156</td>\n",
       "      <td>0.000000</td>\n",
       "      <td>0.0000</td>\n",
       "      <td>0.000000</td>\n",
       "      <td>0.000000</td>\n",
       "      <td>0.000000</td>\n",
       "      <td>0.401888</td>\n",
       "      <td>0.406227</td>\n",
       "      <td>...</td>\n",
       "      <td>0.0</td>\n",
       "      <td>0.0</td>\n",
       "      <td>0.0000</td>\n",
       "      <td>0.000000</td>\n",
       "      <td>0.0</td>\n",
       "      <td>0.0</td>\n",
       "      <td>0.0</td>\n",
       "      <td>0.0</td>\n",
       "      <td>0.0</td>\n",
       "      <td>5.224539</td>\n",
       "    </tr>\n",
       "    <tr>\n",
       "      <th>SRR3052086</th>\n",
       "      <td>0.000000</td>\n",
       "      <td>64.100410</td>\n",
       "      <td>24.328178</td>\n",
       "      <td>0.000000</td>\n",
       "      <td>503.6461</td>\n",
       "      <td>0.000000</td>\n",
       "      <td>3.052401</td>\n",
       "      <td>0.000000</td>\n",
       "      <td>0.000000</td>\n",
       "      <td>9.157202</td>\n",
       "      <td>...</td>\n",
       "      <td>0.0</td>\n",
       "      <td>0.0</td>\n",
       "      <td>0.0000</td>\n",
       "      <td>29.308508</td>\n",
       "      <td>0.0</td>\n",
       "      <td>0.0</td>\n",
       "      <td>0.0</td>\n",
       "      <td>0.0</td>\n",
       "      <td>0.0</td>\n",
       "      <td>6.104801</td>\n",
       "    </tr>\n",
       "    <tr>\n",
       "      <th>SRR3052087</th>\n",
       "      <td>0.000000</td>\n",
       "      <td>1.302134</td>\n",
       "      <td>21.817270</td>\n",
       "      <td>1.953201</td>\n",
       "      <td>0.0000</td>\n",
       "      <td>1.953201</td>\n",
       "      <td>0.000000</td>\n",
       "      <td>0.000000</td>\n",
       "      <td>0.651067</td>\n",
       "      <td>3.906401</td>\n",
       "      <td>...</td>\n",
       "      <td>0.0</td>\n",
       "      <td>0.0</td>\n",
       "      <td>0.0000</td>\n",
       "      <td>0.000000</td>\n",
       "      <td>0.0</td>\n",
       "      <td>0.0</td>\n",
       "      <td>0.0</td>\n",
       "      <td>0.0</td>\n",
       "      <td>0.0</td>\n",
       "      <td>0.651067</td>\n",
       "    </tr>\n",
       "  </tbody>\n",
       "</table>\n",
       "<p>5 rows × 27118 columns</p>\n",
       "</div>"
      ],
      "text/plain": [
       "            ENSG00000000003  ENSG00000000419  ENSG00000000457  \\\n",
       "SRR3052083         1.848425         0.922133        14.105330   \n",
       "SRR3052084         0.000000       201.239100        45.350548   \n",
       "SRR3052085         0.000000         0.000000        27.500156   \n",
       "SRR3052086         0.000000        64.100410        24.328178   \n",
       "SRR3052087         0.000000         1.302134        21.817270   \n",
       "\n",
       "            ENSG00000000460  ENSG00000000938  ENSG00000000971  \\\n",
       "SRR3052083         0.922133           0.0000         0.000000   \n",
       "SRR3052084         0.000000           0.0000         0.000000   \n",
       "SRR3052085         0.000000           0.0000         0.000000   \n",
       "SRR3052086         0.000000         503.6461         0.000000   \n",
       "SRR3052087         1.953201           0.0000         1.953201   \n",
       "\n",
       "            ENSG00000001036  ENSG00000001084  ENSG00000001167  \\\n",
       "SRR3052083         0.000000         0.000000         0.000000   \n",
       "SRR3052084         0.698747         1.213876        20.962408   \n",
       "SRR3052085         0.000000         0.000000         0.401888   \n",
       "SRR3052086         3.052401         0.000000         0.000000   \n",
       "SRR3052087         0.000000         0.000000         0.651067   \n",
       "\n",
       "            ENSG00000001460  ...  ENSG00000288393  ENSG00000288460  \\\n",
       "SRR3052083         3.538667  ...              0.0              0.0   \n",
       "SRR3052084        14.077494  ...              0.0              0.0   \n",
       "SRR3052085         0.406227  ...              0.0              0.0   \n",
       "SRR3052086         9.157202  ...              0.0              0.0   \n",
       "SRR3052087         3.906401  ...              0.0              0.0   \n",
       "\n",
       "            ENSG00000288525  ENSG00000288534  ENSG00000288547  \\\n",
       "SRR3052083           2.7664         0.000000              0.0   \n",
       "SRR3052084           0.0000         0.000000              0.0   \n",
       "SRR3052085           0.0000         0.000000              0.0   \n",
       "SRR3052086           0.0000        29.308508              0.0   \n",
       "SRR3052087           0.0000         0.000000              0.0   \n",
       "\n",
       "            ENSG00000288550  ENSG00000288556  ENSG00000288558  \\\n",
       "SRR3052083              0.0              0.0              0.0   \n",
       "SRR3052084              0.0              0.0              0.0   \n",
       "SRR3052085              0.0              0.0              0.0   \n",
       "SRR3052086              0.0              0.0              0.0   \n",
       "SRR3052087              0.0              0.0              0.0   \n",
       "\n",
       "            ENSG00000288564  ENSG00000288579  \n",
       "SRR3052083              0.0         0.000000  \n",
       "SRR3052084              0.0         1.397494  \n",
       "SRR3052085              0.0         5.224539  \n",
       "SRR3052086              0.0         6.104801  \n",
       "SRR3052087              0.0         0.651067  \n",
       "\n",
       "[5 rows x 27118 columns]"
      ]
     },
     "execution_count": 3,
     "metadata": {},
     "output_type": "execute_result"
    }
   ],
   "source": [
    "X = data.T\n",
    "print(X.shape)\n",
    "X.head()"
   ]
  },
  {
   "cell_type": "code",
   "execution_count": 4,
   "metadata": {},
   "outputs": [],
   "source": [
    "meta =  pd.read_csv(\"ExpDesign-E-GEOD-76312.tsv\",delimiter = \"\\t\")\n",
    "\n",
    "#View the distribution of disease type of cells\n",
    "meta[\"Sample Characteristic[disease]\"].value_counts()\n",
    "y = meta[\"Sample Characteristic[disease]\"]"
   ]
  },
  {
   "cell_type": "markdown",
   "metadata": {},
   "source": [
    "## One-Hot Encoding"
   ]
  },
  {
   "cell_type": "code",
   "execution_count": 5,
   "metadata": {},
   "outputs": [
    {
     "name": "stdout",
     "output_type": "stream",
     "text": [
      "[1 1 1 ... 0 0 0]\n",
      "[[0. 1.]\n",
      " [0. 1.]\n",
      " [0. 1.]\n",
      " ...\n",
      " [1. 0.]\n",
      " [1. 0.]\n",
      " [1. 0.]]\n"
     ]
    }
   ],
   "source": [
    "# Integer mapping\n",
    "label_encoder = LabelEncoder()\n",
    "integer_encoded = label_encoder.fit_transform(y)\n",
    "print(integer_encoded)\n",
    "integer_encoded = integer_encoded.reshape(len(integer_encoded), 1)\n",
    "\n",
    "# One hot encoding\n",
    "onehot_encoder = OneHotEncoder(sparse = False)\n",
    "onehot_encoded = onehot_encoder.fit_transform(integer_encoded)\n",
    "print(onehot_encoded)\n",
    "\n",
    "y = integer_encoded.ravel()"
   ]
  },
  {
   "cell_type": "markdown",
   "metadata": {},
   "source": [
    "## Visualization of Data"
   ]
  },
  {
   "cell_type": "code",
   "execution_count": 6,
   "metadata": {},
   "outputs": [
    {
     "data": {
      "image/png": "[encoded data removed]",
      "text/plain": [
       "<Figure size 432x288 with 1 Axes>"
      ]
     },
     "metadata": {
      "needs_background": "light"
     },
     "output_type": "display_data"
    }
   ],
   "source": [
    "#Visualization of the Data\n",
    "#1. Show the data is unbalanced (y-axis: number of samples, x-axis: cell type, histogram)\n",
    "cell_type = ['Normal', 'CML']\n",
    "sample_size = [187, 1964]\n",
    "\n",
    "type = [i for i,_ in enumerate(cell_type)]\n",
    "plt.bar(type, sample_size)\n",
    "plt.xlabel('Cell Type')\n",
    "plt.ylabel('Number of Cells')\n",
    "plt.title('Number of Samples for Normal and CML Cells')\n",
    "plt.xticks(type, cell_type)\n",
    "plt.show()"
   ]
  },
  {
   "cell_type": "markdown",
   "metadata": {},
   "source": [
    "## Train/Test Split"
   ]
  },
  {
   "cell_type": "code",
   "execution_count": 68,
   "metadata": {},
   "outputs": [],
   "source": [
    "# For Wilcoxon Test\n",
    "#Split dataset by class label and then do train/test split\n",
    "#Get the set for class 0\n",
    "index = [i for i in range(len(y)) if y[i] == 0]\n",
    "data_class0 = data.iloc[:,index]\n",
    "y_class0 = y[index]\n",
    "\n",
    "#Get the set for class 1\n",
    "index = [i for i in range(len(y)) if y[i] == 1]\n",
    "data_class1 = data.iloc[:,index]\n",
    "y_class1 = y[index]\n",
    "\n",
    "# Split Data into training and testing set\n",
    "# Validation will be automatically split when evaluating model with cv\n",
    "# X_train0, X_test0, y_train0, y_test0 = train_test_split(data_class0.T, y_class0, test_size=0.3, shuffle=False)\n",
    "# X_train1, X_test1, y_train1, y_test1 = train_test_split(data_class1.T, y_class1, test_size=0.3, shuffle=False)\n",
    "X_train0, X_test0, y_train0, y_test0 = train_test_split(data_class0.T, y_class0, test_size=0.3, shuffle=True)\n",
    "X_train1, X_test1, y_train1, y_test1 = train_test_split(data_class1.T, y_class1, test_size=0.3, shuffle=True)\n",
    "X_train_m1 = pd.concat([X_train0, X_train1])\n",
    "X_test_m1 = pd.concat([X_test0, X_test1])\n",
    "y_train_m1 = np.concatenate((y_train0, y_train1))\n",
    "y_test_m1 = np.concatenate((y_test0, y_test1))"
   ]
  },
  {
   "cell_type": "code",
   "execution_count": 50,
   "metadata": {},
   "outputs": [],
   "source": [
    "# For Correlation\n",
    "#Use the whole dataset\n",
    "X_train_m2, X_test_m2, y_train_m2, y_test_m2 = train_test_split(X, y, test_size=0.3, shuffle=False)"
   ]
  },
  {
   "cell_type": "markdown",
   "metadata": {},
   "source": [
    "## Feature Selection"
   ]
  },
  {
   "cell_type": "code",
   "execution_count": 69,
   "metadata": {},
   "outputs": [],
   "source": [
    "# Wilcoxon features\n",
    "p_val = []\n",
    "for i in range(X_train0.shape[1]):\n",
    "    p = ranksums(X_train0.iloc[:,i], X_train1.iloc[:,i]).pvalue\n",
    "    p_val.append(p)\n",
    "    # if p <= 0.03:\n",
    "    #     index3.append(i)\n",
    "\n",
    "index4 = []\n",
    "adj_p = smt.multipletests(p_val, alpha = 0.03)\n",
    "for index, j in enumerate(adj_p[1]):\n",
    "    if j <= 0.03: \n",
    "        index4.append(index)\n",
    "\n",
    "X_m1 = X.iloc[:,index4]\n",
    "X_train_m1 = X_train_m1.iloc[:,index4]\n",
    "X_test_m1 = X_test_m1.iloc[:, index4]"
   ]
  },
  {
   "cell_type": "code",
   "execution_count": 10,
   "metadata": {},
   "outputs": [
    {
     "name": "stderr",
     "output_type": "stream",
     "text": [
      "/opt/anaconda3/lib/python3.8/site-packages/scipy/stats/stats.py:4023: PearsonRConstantInputWarning: An input array is constant; the correlation coefficient is not defined.\n",
      "  warnings.warn(PearsonRConstantInputWarning())\n"
     ]
    },
    {
     "name": "stdout",
     "output_type": "stream",
     "text": [
      "[26571, 25432, 25364, 22219, 25350, 25999, 13551, 26052, 22187, 26435, 26295, 26561, 12678, 22125, 26160, 13498, 26587, 12594, 23593, 26496, 26836, 27008, 26265, 12535, 12674, 25240, 22215, 22119, 26181, 26585, 26219, 12570, 26453, 26550, 26390, 26462, 26355, 26199, 22251, 12661, 26383, 25994, 22257, 26369, 26242, 26687, 22213, 25264, 26649, 22820, 22596, 26381, 26698, 26677, 22453, 22161, 26630, 22337, 26208, 13483, 22355, 25349, 26686, 25956, 20137, 27088, 26422, 12618, 22769, 22742, 23631, 25274, 26958, 22318, 26183, 12393, 23615, 13470, 26619, 26912, 20023, 26572, 13489, 26742, 22699, 22540, 22792, 22879, 22509, 23387, 13521, 12882, 20246, 25376, 22181, 26236, 19499, 22920, 26503, 24812]\n"
     ]
    }
   ],
   "source": [
    "# Correlation features\n",
    "def corr(X,y):\n",
    "    corr = []\n",
    "    for i in range(X.shape[1]):\n",
    "        corr.append(abs(pearsonr(X.iloc[:,i], y)[0])) \n",
    "    c = sorted(range(len(corr)), key=lambda x: corr[x])[-100:]\n",
    "    return c\n",
    "c_m2 = corr(X_train_m2,y_train_m2)\n",
    "print(c_m2)\n",
    "\n",
    "#X with selected features\n",
    "X_m2 = X.iloc[:,c_m2]"
   ]
  },
  {
   "cell_type": "code",
   "execution_count": 70,
   "metadata": {},
   "outputs": [],
   "source": [
    "# Wilcoxon + Correlation\n",
    "c = corr(X_train_m1,y_train_m1)\n",
    "X_m3 = X.iloc[:,index4].iloc[:,c]\n",
    "X_train_m3 = X_train_m1.iloc[:,c]\n",
    "X_test_m3 = X_test_m1.iloc[:, c]\n",
    "y_train_m3 = y_train_m1\n",
    "y_test_m3 = y_test_m1"
   ]
  },
  {
   "cell_type": "markdown",
   "metadata": {},
   "source": [
    "# Model Training & Evaluation"
   ]
  },
  {
   "cell_type": "markdown",
   "metadata": {},
   "source": [
    "### Wilcoxon"
   ]
  },
  {
   "cell_type": "code",
   "execution_count": 32,
   "metadata": {},
   "outputs": [
    {
     "name": "stdout",
     "output_type": "stream",
     "text": [
      "No Skill: ROC AUC=0.500\n",
      "Logistic: ROC AUC=0.545\n"
     ]
    },
    {
     "data": {
      "image/png": "[encoded data removed]",
      "text/plain": [
       "<Figure size 432x288 with 1 Axes>"
      ]
     },
     "metadata": {
      "needs_background": "light"
     },
     "output_type": "display_data"
    }
   ],
   "source": [
    "# Standard DT\n",
    "clf = tree.DecisionTreeClassifier()\n",
    "clf.fit(X_train_m1, y_train_m1)\n",
    "lr_probs = clf.predict_proba(X_test_m1)\n",
    "lr_probs = lr_probs[:, 1]\n",
    "ns_probs = [0 for _ in range(len(y_test_m1))]\n",
    "# calculate scores\n",
    "ns_auc = roc_auc_score(y_test_m1, ns_probs)\n",
    "lr_auc = roc_auc_score(y_test_m1, lr_probs)\n",
    "# summarize scores\n",
    "print('No Skill: ROC AUC=%.3f' % (ns_auc))\n",
    "print('Logistic: ROC AUC=%.3f' % (lr_auc))\n",
    "# calculate roc curves\n",
    "ns_fpr, ns_tpr, _ = roc_curve(y_test_m1, ns_probs)\n",
    "lr_fpr, lr_tpr, _ = roc_curve(y_test_m1, lr_probs)\n",
    "# axis labels\n",
    "plt.plot(ns_fpr, ns_tpr, linestyle='--', label='No Skill')\n",
    "plt.plot(lr_fpr, lr_tpr, marker = '.', label='Logistic')\n",
    "plt.title('ROC Curve for Testing Set')\n",
    "plt.ylabel('True Positive Rate')\n",
    "plt.xlabel('False Positive Rate')\n",
    "plt.legend()\n",
    "plt.show()\n",
    "plt.show()"
   ]
  },
  {
   "cell_type": "code",
   "execution_count": 33,
   "metadata": {},
   "outputs": [
    {
     "name": "stdout",
     "output_type": "stream",
     "text": [
      "No Skill: ROC AUC=0.500\n",
      "Logistic: ROC AUC=0.651\n"
     ]
    },
    {
     "data": {
      "image/png": "[encoded data removed]",
      "text/plain": [
       "<Figure size 432x288 with 1 Axes>"
      ]
     },
     "metadata": {
      "needs_background": "light"
     },
     "output_type": "display_data"
    }
   ],
   "source": [
    "# Cost-sensitive DT\n",
    "clf = tree.DecisionTreeClassifier(class_weight=weights)\n",
    "clf.fit(X_train_m1, y_train_m1)\n",
    "lr_probs = clf.predict_proba(X_test_m1)\n",
    "lr_probs = lr_probs[:, 1]\n",
    "ns_probs = [0 for _ in range(len(y_test_m1))]\n",
    "# calculate scores\n",
    "ns_auc = roc_auc_score(y_test_m1, ns_probs)\n",
    "lr_auc = roc_auc_score(y_test_m1, lr_probs)\n",
    "# summarize scores\n",
    "print('No Skill: ROC AUC=%.3f' % (ns_auc))\n",
    "print('Logistic: ROC AUC=%.3f' % (lr_auc))\n",
    "# calculate roc curves\n",
    "ns_fpr, ns_tpr, _ = roc_curve(y_test_m1, ns_probs)\n",
    "lr_fpr, lr_tpr, _ = roc_curve(y_test_m1, lr_probs)\n",
    "# axis labels\n",
    "plt.plot(ns_fpr, ns_tpr, linestyle='--', label='No Skill')\n",
    "plt.plot(lr_fpr, lr_tpr, marker = '.', label='Logistic')\n",
    "plt.title('ROC Curve for Testing Set')\n",
    "plt.ylabel('True Positive Rate')\n",
    "plt.xlabel('False Positive Rate')\n",
    "plt.legend()\n",
    "plt.show()\n",
    "plt.show()"
   ]
  },
  {
   "cell_type": "code",
   "execution_count": 23,
   "metadata": {},
   "outputs": [
    {
     "name": "stdout",
     "output_type": "stream",
     "text": [
      "No Skill: ROC AUC=0.500\n",
      "Logistic: ROC AUC=0.808\n"
     ]
    },
    {
     "name": "stderr",
     "output_type": "stream",
     "text": [
      "/opt/anaconda3/lib/python3.8/site-packages/sklearn/linear_model/_logistic.py:814: ConvergenceWarning: lbfgs failed to converge (status=1):\n",
      "STOP: TOTAL NO. of ITERATIONS REACHED LIMIT.\n",
      "\n",
      "Increase the number of iterations (max_iter) or scale the data as shown in:\n",
      "    https://scikit-learn.org/stable/modules/preprocessing.html\n",
      "Please also refer to the documentation for alternative solver options:\n",
      "    https://scikit-learn.org/stable/modules/linear_model.html#logistic-regression\n",
      "  n_iter_i = _check_optimize_result(\n"
     ]
    },
    {
     "data": {
      "image/png": "[encoded data removed]",
      "text/plain": [
       "<Figure size 432x288 with 1 Axes>"
      ]
     },
     "metadata": {
      "needs_background": "light"
     },
     "output_type": "display_data"
    }
   ],
   "source": [
    "# Standard LR\n",
    "weights = {0:1.0, 1:10.5}\n",
    "model = LogisticRegression(solver='lbfgs')\n",
    "model.fit(X_train_m1, y_train_m1) #.decision_function(X_test_selected)\n",
    "lr_probs = model.predict_proba(X_test_m1)\n",
    "lr_probs = lr_probs[:, 1]\n",
    "ns_probs = [0 for _ in range(len(y_test_m1))]\n",
    "# calculate scores\n",
    "ns_auc = roc_auc_score(y_test_m1, ns_probs)\n",
    "lr_auc = roc_auc_score(y_test_m1, lr_probs)\n",
    "# summarize scores\n",
    "print('No Skill: ROC AUC=%.3f' % (ns_auc))\n",
    "print('Logistic: ROC AUC=%.3f' % (lr_auc))\n",
    "# calculate roc curves\n",
    "ns_fpr, ns_tpr, _ = roc_curve(y_test_m1, ns_probs)\n",
    "lr_fpr, lr_tpr, _ = roc_curve(y_test_m1, lr_probs)\n",
    "# axis labels\n",
    "plt.plot(ns_fpr, ns_tpr, linestyle='--', label='No Skill')\n",
    "plt.plot(lr_fpr, lr_tpr, marker = '.', label='Logistic')\n",
    "plt.title('ROC Curve for Testing Set')\n",
    "plt.ylabel('True Positive Rate')\n",
    "plt.xlabel('False Positive Rate')\n",
    "plt.legend()\n",
    "plt.show()"
   ]
  },
  {
   "cell_type": "code",
   "execution_count": 24,
   "metadata": {},
   "outputs": [
    {
     "name": "stdout",
     "output_type": "stream",
     "text": [
      "No Skill: ROC AUC=0.500\n",
      "Logistic: ROC AUC=0.829\n"
     ]
    },
    {
     "name": "stderr",
     "output_type": "stream",
     "text": [
      "/opt/anaconda3/lib/python3.8/site-packages/sklearn/linear_model/_logistic.py:814: ConvergenceWarning: lbfgs failed to converge (status=1):\n",
      "STOP: TOTAL NO. of ITERATIONS REACHED LIMIT.\n",
      "\n",
      "Increase the number of iterations (max_iter) or scale the data as shown in:\n",
      "    https://scikit-learn.org/stable/modules/preprocessing.html\n",
      "Please also refer to the documentation for alternative solver options:\n",
      "    https://scikit-learn.org/stable/modules/linear_model.html#logistic-regression\n",
      "  n_iter_i = _check_optimize_result(\n"
     ]
    },
    {
     "data": {
      "image/png": "[encoded data removed]",
      "text/plain": [
       "<Figure size 432x288 with 1 Axes>"
      ]
     },
     "metadata": {
      "needs_background": "light"
     },
     "output_type": "display_data"
    }
   ],
   "source": [
    "# Cost-sensitive LR\n",
    "model = LogisticRegression(solver='lbfgs', class_weight=weights)\n",
    "model.fit(X_train_m1, y_train_m1) #.decision_function(X_test_selected)\n",
    "lr_probs = model.predict_proba(X_test_m1)\n",
    "lr_probs = lr_probs[:, 1]\n",
    "ns_probs = [0 for _ in range(len(y_test_m1))]\n",
    "# calculate scores\n",
    "ns_auc = roc_auc_score(y_test_m1, ns_probs)\n",
    "lr_auc = roc_auc_score(y_test_m1, lr_probs)\n",
    "# summarize scores\n",
    "print('No Skill: ROC AUC=%.3f' % (ns_auc))\n",
    "print('Logistic: ROC AUC=%.3f' % (lr_auc))\n",
    "# calculate roc curves\n",
    "ns_fpr, ns_tpr, _ = roc_curve(y_test_m1, ns_probs)\n",
    "lr_fpr, lr_tpr, _ = roc_curve(y_test_m1, lr_probs)\n",
    "# axis labels\n",
    "plt.plot(ns_fpr, ns_tpr, linestyle='--', label='No Skill')\n",
    "plt.plot(lr_fpr, lr_tpr, marker = '.', label='Logistic')\n",
    "plt.title('ROC Curve for Testing Set')\n",
    "plt.ylabel('True Positive Rate')\n",
    "plt.xlabel('False Positive Rate')\n",
    "plt.legend()\n",
    "plt.show()\n",
    "plt.show()"
   ]
  },
  {
   "cell_type": "code",
   "execution_count": 72,
   "metadata": {},
   "outputs": [
    {
     "name": "stdout",
     "output_type": "stream",
     "text": [
      "No Skill: ROC AUC=0.500\n",
      "Logistic: ROC AUC=0.920\n"
     ]
    },
    {
     "name": "stderr",
     "output_type": "stream",
     "text": [
      "/opt/anaconda3/lib/python3.8/site-packages/sklearn/linear_model/_logistic.py:814: ConvergenceWarning: lbfgs failed to converge (status=1):\n",
      "STOP: TOTAL NO. of ITERATIONS REACHED LIMIT.\n",
      "\n",
      "Increase the number of iterations (max_iter) or scale the data as shown in:\n",
      "    https://scikit-learn.org/stable/modules/preprocessing.html\n",
      "Please also refer to the documentation for alternative solver options:\n",
      "    https://scikit-learn.org/stable/modules/linear_model.html#logistic-regression\n",
      "  n_iter_i = _check_optimize_result(\n"
     ]
    },
    {
     "data": {
      "image/png": "[encoded data removed]",
      "text/plain": [
       "<Figure size 432x288 with 1 Axes>"
      ]
     },
     "metadata": {
      "needs_background": "light"
     },
     "output_type": "display_data"
    }
   ],
   "source": [
    "#Shuffle = True\n",
    "# Cost-sensitive LR\n",
    "model = LogisticRegression(solver='lbfgs', class_weight=weights)\n",
    "model.fit(X_train_m1, y_train_m1) #.decision_function(X_test_selected)\n",
    "lr_probs = model.predict_proba(X_test_m1)\n",
    "lr_probs = lr_probs[:, 1]\n",
    "ns_probs = [0 for _ in range(len(y_test_m1))]\n",
    "# calculate scores\n",
    "ns_auc = roc_auc_score(y_test_m1, ns_probs)\n",
    "lr_auc = roc_auc_score(y_test_m1, lr_probs)\n",
    "# summarize scores\n",
    "print('No Skill: ROC AUC=%.3f' % (ns_auc))\n",
    "print('Logistic: ROC AUC=%.3f' % (lr_auc))\n",
    "# calculate roc curves\n",
    "ns_fpr, ns_tpr, _ = roc_curve(y_test_m1, ns_probs)\n",
    "lr_fpr, lr_tpr, _ = roc_curve(y_test_m1, lr_probs)\n",
    "# axis labels\n",
    "plt.plot(ns_fpr, ns_tpr, linestyle='--', label='No Skill')\n",
    "plt.plot(lr_fpr, lr_tpr, marker = '.', label='Logistic')\n",
    "plt.title('ROC Curve for Testing Set')\n",
    "plt.ylabel('True Positive Rate')\n",
    "plt.xlabel('False Positive Rate')\n",
    "plt.legend()\n",
    "plt.show()\n",
    "plt.show()"
   ]
  },
  {
   "cell_type": "markdown",
   "metadata": {},
   "source": [
    "### Correlation"
   ]
  },
  {
   "cell_type": "code",
   "execution_count": 73,
   "metadata": {},
   "outputs": [],
   "source": [
    "# Standard LR\n",
    "# model = LogisticRegression(solver='lbfgs')\n",
    "# model.fit(X_train_m2, y_train_m2) #.decision_function(X_test_selected)\n",
    "# lr_probs = model.predict_proba(X_test_m2)\n",
    "# lr_probs = lr_probs[:, 1]\n",
    "# ns_probs = [0 for _ in range(len(y_test_m2))]\n",
    "# # calculate scores\n",
    "# ns_auc = roc_auc_score(y_test_m2, ns_probs)\n",
    "# lr_auc = roc_auc_score(y_test_m2, lr_probs)\n",
    "# # summarize scores\n",
    "# print('No Skill: ROC AUC=%.3f' % (ns_auc))\n",
    "# print('Logistic: ROC AUC=%.3f' % (lr_auc))\n",
    "# # calculate roc curves\n",
    "# ns_fpr, ns_tpr, _ = roc_curve(y_test_m2, ns_probs)\n",
    "# lr_fpr, lr_tpr, _ = roc_curve(y_test_m2, lr_probs)\n",
    "# # axis labels\n",
    "# plt.plot(ns_fpr, ns_tpr, linestyle='--', label='No Skill')\n",
    "# plt.plot(lr_fpr, lr_tpr, marker = '.', label='Logistic')\n",
    "# plt.title('ROC Curve for Testing Set')\n",
    "# plt.ylabel('True Positive Rate')\n",
    "# plt.xlabel('False Positive Rate')\n",
    "# plt.legend()\n",
    "# plt.show()"
   ]
  },
  {
   "cell_type": "code",
   "execution_count": 99,
   "metadata": {},
   "outputs": [
    {
     "name": "stdout",
     "output_type": "stream",
     "text": [
      "No Skill: ROC AUC=0.500\n",
      "Logistic: ROC AUC=0.733\n"
     ]
    },
    {
     "data": {
      "image/png": "[encoded data removed]",
      "text/plain": [
       "<Figure size 432x288 with 1 Axes>"
      ]
     },
     "metadata": {
      "needs_background": "light"
     },
     "output_type": "display_data"
    }
   ],
   "source": [
    "# Cost-sensitive DT\n",
    "X_train_m2, X_test_m2, y_train_m2, y_test_m2 = train_test_split(X, y, test_size=0.3, shuffle=True)\n",
    "c_m2 = corr(X_train_m2,y_train_m2)\n",
    "X_train_m2 = X_train_m2.iloc[:,c_m2]\n",
    "X_test_m2 = X_test_m2.iloc[:,c_m2]\n",
    "clf = tree.DecisionTreeClassifier(class_weight=weights)\n",
    "clf.fit(X_train_m2, y_train_m2)\n",
    "lr_probs = clf.predict_proba(X_test_m2)\n",
    "lr_probs = lr_probs[:, 1]\n",
    "ns_probs = [0 for _ in range(len(y_test_m2))]\n",
    "# calculate scores\n",
    "ns_auc = roc_auc_score(y_test_m2, ns_probs)\n",
    "lr_auc = roc_auc_score(y_test_m2, lr_probs)\n",
    "# summarize scores\n",
    "print('No Skill: ROC AUC=%.3f' % (ns_auc))\n",
    "print('Logistic: ROC AUC=%.3f' % (lr_auc))\n",
    "# calculate roc curves\n",
    "ns_fpr, ns_tpr, _ = roc_curve(y_test_m2, ns_probs)\n",
    "lr_fpr, lr_tpr, _ = roc_curve(y_test_m2, lr_probs)\n",
    "# axis labels\n",
    "plt.plot(ns_fpr, ns_tpr, linestyle='--', label='No Skill')\n",
    "plt.plot(lr_fpr, lr_tpr, marker = '.', label='Logistic')\n",
    "plt.title('ROC Curve for Testing Set')\n",
    "plt.ylabel('True Positive Rate')\n",
    "plt.xlabel('False Positive Rate')\n",
    "plt.legend()\n",
    "plt.show()\n",
    "plt.show()"
   ]
  },
  {
   "cell_type": "code",
   "execution_count": 98,
   "metadata": {},
   "outputs": [
    {
     "ename": "IndexError",
     "evalue": "positional indexers are out-of-bounds",
     "output_type": "error",
     "traceback": [
      "\u001b[0;31m---------------------------------------------------------------------------\u001b[0m",
      "\u001b[0;31mIndexError\u001b[0m                                Traceback (most recent call last)",
      "\u001b[0;32m<ipython-input-98-e810e723cf68>\u001b[0m in \u001b[0;36m<module>\u001b[0;34m\u001b[0m\n\u001b[1;32m      1\u001b[0m \u001b[0;31m# Cost-sensitive LR\u001b[0m\u001b[0;34m\u001b[0m\u001b[0;34m\u001b[0m\u001b[0;34m\u001b[0m\u001b[0m\n\u001b[0;32m----> 2\u001b[0;31m \u001b[0mX_train_m2\u001b[0m \u001b[0;34m=\u001b[0m \u001b[0mX_train_m2\u001b[0m\u001b[0;34m.\u001b[0m\u001b[0miloc\u001b[0m\u001b[0;34m[\u001b[0m\u001b[0;34m:\u001b[0m\u001b[0;34m,\u001b[0m\u001b[0mc_m2\u001b[0m\u001b[0;34m]\u001b[0m\u001b[0;34m\u001b[0m\u001b[0;34m\u001b[0m\u001b[0m\n\u001b[0m\u001b[1;32m      3\u001b[0m \u001b[0mX_test_m2\u001b[0m \u001b[0;34m=\u001b[0m \u001b[0mX_test_m2\u001b[0m\u001b[0;34m.\u001b[0m\u001b[0miloc\u001b[0m\u001b[0;34m[\u001b[0m\u001b[0;34m:\u001b[0m\u001b[0;34m,\u001b[0m\u001b[0mc_m2\u001b[0m\u001b[0;34m]\u001b[0m\u001b[0;34m\u001b[0m\u001b[0;34m\u001b[0m\u001b[0m\n\u001b[1;32m      4\u001b[0m \u001b[0;34m\u001b[0m\u001b[0m\n\u001b[1;32m      5\u001b[0m \u001b[0mmodel\u001b[0m \u001b[0;34m=\u001b[0m \u001b[0mLogisticRegression\u001b[0m\u001b[0;34m(\u001b[0m\u001b[0msolver\u001b[0m\u001b[0;34m=\u001b[0m\u001b[0;34m'lbfgs'\u001b[0m\u001b[0;34m,\u001b[0m \u001b[0mclass_weight\u001b[0m\u001b[0;34m=\u001b[0m\u001b[0mweights\u001b[0m\u001b[0;34m)\u001b[0m\u001b[0;34m\u001b[0m\u001b[0;34m\u001b[0m\u001b[0m\n",
      "\u001b[0;32m/opt/anaconda3/lib/python3.8/site-packages/pandas/core/indexing.py\u001b[0m in \u001b[0;36m__getitem__\u001b[0;34m(self, key)\u001b[0m\n\u001b[1;32m    923\u001b[0m                 \u001b[0;32mwith\u001b[0m \u001b[0msuppress\u001b[0m\u001b[0;34m(\u001b[0m\u001b[0mKeyError\u001b[0m\u001b[0;34m,\u001b[0m \u001b[0mIndexError\u001b[0m\u001b[0;34m)\u001b[0m\u001b[0;34m:\u001b[0m\u001b[0;34m\u001b[0m\u001b[0;34m\u001b[0m\u001b[0m\n\u001b[1;32m    924\u001b[0m                     \u001b[0;32mreturn\u001b[0m \u001b[0mself\u001b[0m\u001b[0;34m.\u001b[0m\u001b[0mobj\u001b[0m\u001b[0;34m.\u001b[0m\u001b[0m_get_value\u001b[0m\u001b[0;34m(\u001b[0m\u001b[0;34m*\u001b[0m\u001b[0mkey\u001b[0m\u001b[0;34m,\u001b[0m \u001b[0mtakeable\u001b[0m\u001b[0;34m=\u001b[0m\u001b[0mself\u001b[0m\u001b[0;34m.\u001b[0m\u001b[0m_takeable\u001b[0m\u001b[0;34m)\u001b[0m\u001b[0;34m\u001b[0m\u001b[0;34m\u001b[0m\u001b[0m\n\u001b[0;32m--> 925\u001b[0;31m             \u001b[0;32mreturn\u001b[0m \u001b[0mself\u001b[0m\u001b[0;34m.\u001b[0m\u001b[0m_getitem_tuple\u001b[0m\u001b[0;34m(\u001b[0m\u001b[0mkey\u001b[0m\u001b[0;34m)\u001b[0m\u001b[0;34m\u001b[0m\u001b[0;34m\u001b[0m\u001b[0m\n\u001b[0m\u001b[1;32m    926\u001b[0m         \u001b[0;32melse\u001b[0m\u001b[0;34m:\u001b[0m\u001b[0;34m\u001b[0m\u001b[0;34m\u001b[0m\u001b[0m\n\u001b[1;32m    927\u001b[0m             \u001b[0;31m# we by definition only have the 0th axis\u001b[0m\u001b[0;34m\u001b[0m\u001b[0;34m\u001b[0m\u001b[0;34m\u001b[0m\u001b[0m\n",
      "\u001b[0;32m/opt/anaconda3/lib/python3.8/site-packages/pandas/core/indexing.py\u001b[0m in \u001b[0;36m_getitem_tuple\u001b[0;34m(self, tup)\u001b[0m\n\u001b[1;32m   1504\u001b[0m     \u001b[0;32mdef\u001b[0m \u001b[0m_getitem_tuple\u001b[0m\u001b[0;34m(\u001b[0m\u001b[0mself\u001b[0m\u001b[0;34m,\u001b[0m \u001b[0mtup\u001b[0m\u001b[0;34m:\u001b[0m \u001b[0mtuple\u001b[0m\u001b[0;34m)\u001b[0m\u001b[0;34m:\u001b[0m\u001b[0;34m\u001b[0m\u001b[0;34m\u001b[0m\u001b[0m\n\u001b[1;32m   1505\u001b[0m \u001b[0;34m\u001b[0m\u001b[0m\n\u001b[0;32m-> 1506\u001b[0;31m         \u001b[0mself\u001b[0m\u001b[0;34m.\u001b[0m\u001b[0m_has_valid_tuple\u001b[0m\u001b[0;34m(\u001b[0m\u001b[0mtup\u001b[0m\u001b[0;34m)\u001b[0m\u001b[0;34m\u001b[0m\u001b[0;34m\u001b[0m\u001b[0m\n\u001b[0m\u001b[1;32m   1507\u001b[0m         \u001b[0;32mwith\u001b[0m \u001b[0msuppress\u001b[0m\u001b[0;34m(\u001b[0m\u001b[0mIndexingError\u001b[0m\u001b[0;34m)\u001b[0m\u001b[0;34m:\u001b[0m\u001b[0;34m\u001b[0m\u001b[0;34m\u001b[0m\u001b[0m\n\u001b[1;32m   1508\u001b[0m             \u001b[0;32mreturn\u001b[0m \u001b[0mself\u001b[0m\u001b[0;34m.\u001b[0m\u001b[0m_getitem_lowerdim\u001b[0m\u001b[0;34m(\u001b[0m\u001b[0mtup\u001b[0m\u001b[0;34m)\u001b[0m\u001b[0;34m\u001b[0m\u001b[0;34m\u001b[0m\u001b[0m\n",
      "\u001b[0;32m/opt/anaconda3/lib/python3.8/site-packages/pandas/core/indexing.py\u001b[0m in \u001b[0;36m_has_valid_tuple\u001b[0;34m(self, key)\u001b[0m\n\u001b[1;32m    752\u001b[0m         \u001b[0;32mfor\u001b[0m \u001b[0mi\u001b[0m\u001b[0;34m,\u001b[0m \u001b[0mk\u001b[0m \u001b[0;32min\u001b[0m \u001b[0menumerate\u001b[0m\u001b[0;34m(\u001b[0m\u001b[0mkey\u001b[0m\u001b[0;34m)\u001b[0m\u001b[0;34m:\u001b[0m\u001b[0;34m\u001b[0m\u001b[0;34m\u001b[0m\u001b[0m\n\u001b[1;32m    753\u001b[0m             \u001b[0;32mtry\u001b[0m\u001b[0;34m:\u001b[0m\u001b[0;34m\u001b[0m\u001b[0;34m\u001b[0m\u001b[0m\n\u001b[0;32m--> 754\u001b[0;31m                 \u001b[0mself\u001b[0m\u001b[0;34m.\u001b[0m\u001b[0m_validate_key\u001b[0m\u001b[0;34m(\u001b[0m\u001b[0mk\u001b[0m\u001b[0;34m,\u001b[0m \u001b[0mi\u001b[0m\u001b[0;34m)\u001b[0m\u001b[0;34m\u001b[0m\u001b[0;34m\u001b[0m\u001b[0m\n\u001b[0m\u001b[1;32m    755\u001b[0m             \u001b[0;32mexcept\u001b[0m \u001b[0mValueError\u001b[0m \u001b[0;32mas\u001b[0m \u001b[0merr\u001b[0m\u001b[0;34m:\u001b[0m\u001b[0;34m\u001b[0m\u001b[0;34m\u001b[0m\u001b[0m\n\u001b[1;32m    756\u001b[0m                 raise ValueError(\n",
      "\u001b[0;32m/opt/anaconda3/lib/python3.8/site-packages/pandas/core/indexing.py\u001b[0m in \u001b[0;36m_validate_key\u001b[0;34m(self, key, axis)\u001b[0m\n\u001b[1;32m   1422\u001b[0m             \u001b[0;31m# check that the key does not exceed the maximum size of the index\u001b[0m\u001b[0;34m\u001b[0m\u001b[0;34m\u001b[0m\u001b[0;34m\u001b[0m\u001b[0m\n\u001b[1;32m   1423\u001b[0m             \u001b[0;32mif\u001b[0m \u001b[0mlen\u001b[0m\u001b[0;34m(\u001b[0m\u001b[0marr\u001b[0m\u001b[0;34m)\u001b[0m \u001b[0;32mand\u001b[0m \u001b[0;34m(\u001b[0m\u001b[0marr\u001b[0m\u001b[0;34m.\u001b[0m\u001b[0mmax\u001b[0m\u001b[0;34m(\u001b[0m\u001b[0;34m)\u001b[0m \u001b[0;34m>=\u001b[0m \u001b[0mlen_axis\u001b[0m \u001b[0;32mor\u001b[0m \u001b[0marr\u001b[0m\u001b[0;34m.\u001b[0m\u001b[0mmin\u001b[0m\u001b[0;34m(\u001b[0m\u001b[0;34m)\u001b[0m \u001b[0;34m<\u001b[0m \u001b[0;34m-\u001b[0m\u001b[0mlen_axis\u001b[0m\u001b[0;34m)\u001b[0m\u001b[0;34m:\u001b[0m\u001b[0;34m\u001b[0m\u001b[0;34m\u001b[0m\u001b[0m\n\u001b[0;32m-> 1424\u001b[0;31m                 \u001b[0;32mraise\u001b[0m \u001b[0mIndexError\u001b[0m\u001b[0;34m(\u001b[0m\u001b[0;34m\"positional indexers are out-of-bounds\"\u001b[0m\u001b[0;34m)\u001b[0m\u001b[0;34m\u001b[0m\u001b[0;34m\u001b[0m\u001b[0m\n\u001b[0m\u001b[1;32m   1425\u001b[0m         \u001b[0;32melse\u001b[0m\u001b[0;34m:\u001b[0m\u001b[0;34m\u001b[0m\u001b[0;34m\u001b[0m\u001b[0m\n\u001b[1;32m   1426\u001b[0m             \u001b[0;32mraise\u001b[0m \u001b[0mValueError\u001b[0m\u001b[0;34m(\u001b[0m\u001b[0;34mf\"Can only index by location with a [{self._valid_types}]\"\u001b[0m\u001b[0;34m)\u001b[0m\u001b[0;34m\u001b[0m\u001b[0;34m\u001b[0m\u001b[0m\n",
      "\u001b[0;31mIndexError\u001b[0m: positional indexers are out-of-bounds"
     ]
    }
   ],
   "source": [
    "# Cost-sensitive LR\n",
    "X_train_m2 = X_train_m2.iloc[:,c_m2]\n",
    "X_test_m2 = X_test_m2.iloc[:,c_m2]\n",
    "\n",
    "model = LogisticRegression(solver='lbfgs', class_weight=weights)\n",
    "model.fit(X_train_m2, y_train_m2) #.decision_function(X_test_selected)\n",
    "lr_probs = model.predict_proba(X_test_m2)\n",
    "lr_probs = lr_probs[:, 1]\n",
    "ns_probs = [0 for _ in range(len(y_test_m2))]\n",
    "# calculate scores\n",
    "ns_auc = roc_auc_score(y_test_m2, ns_probs)\n",
    "lr_auc = roc_auc_score(y_test_m2, lr_probs)\n",
    "# summarize scores\n",
    "print('No Skill: ROC AUC=%.3f' % (ns_auc))\n",
    "print('Logistic: ROC AUC=%.3f' % (lr_auc))\n",
    "# calculate roc curves\n",
    "ns_fpr, ns_tpr, _ = roc_curve(y_test_m2, ns_probs)\n",
    "lr_fpr, lr_tpr, _ = roc_curve(y_test_m2, lr_probs)\n",
    "# axis labels\n",
    "plt.plot(ns_fpr, ns_tpr, linestyle='--', label='No Skill')\n",
    "plt.plot(lr_fpr, lr_tpr, marker = '.', label='Logistic')\n",
    "plt.title('ROC Curve for Testing Set')\n",
    "plt.ylabel('True Positive Rate')\n",
    "plt.xlabel('False Positive Rate')\n",
    "plt.legend()\n",
    "plt.show()"
   ]
  },
  {
   "cell_type": "code",
   "execution_count": 92,
   "metadata": {},
   "outputs": [
    {
     "name": "stdout",
     "output_type": "stream",
     "text": [
      "No Skill: ROC AUC=0.500\n",
      "Logistic: ROC AUC=0.838\n"
     ]
    },
    {
     "data": {
      "image/png": "[encoded data removed]",
      "text/plain": [
       "<Figure size 432x288 with 1 Axes>"
      ]
     },
     "metadata": {
      "needs_background": "light"
     },
     "output_type": "display_data"
    }
   ],
   "source": [
    "# Cost-sensitive LR (Shuffle = True)\n",
    "X_train_m2, X_test_m2, y_train_m2, y_test_m2 = train_test_split(X, y, test_size=0.3, shuffle=True)\n",
    "c_m2 = corr(X_train_m2,y_train_m2)\n",
    "X_train_m2 = X_train_m2.iloc[:,c_m2]\n",
    "X_test_m2 = X_test_m2.iloc[:,c_m2]\n",
    "\n",
    "model = LogisticRegression(solver='lbfgs', class_weight=weights)\n",
    "model.fit(X_train_m2, y_train_m2) #.decision_function(X_test_selected)\n",
    "lr_probs = model.predict_proba(X_test_m2)\n",
    "lr_probs = lr_probs[:, 1]\n",
    "ns_probs = [0 for _ in range(len(y_test_m2))]\n",
    "# calculate scores\n",
    "ns_auc = roc_auc_score(y_test_m2, ns_probs)\n",
    "lr_auc = roc_auc_score(y_test_m2, lr_probs)\n",
    "# summarize scores\n",
    "print('No Skill: ROC AUC=%.3f' % (ns_auc))\n",
    "print('Logistic: ROC AUC=%.3f' % (lr_auc))\n",
    "# calculate roc curves\n",
    "ns_fpr, ns_tpr, _ = roc_curve(y_test_m2, ns_probs)\n",
    "lr_fpr, lr_tpr, _ = roc_curve(y_test_m2, lr_probs)\n",
    "# axis labels\n",
    "plt.plot(ns_fpr, ns_tpr, linestyle='--', label='No Skill')\n",
    "plt.plot(lr_fpr, lr_tpr, marker = '.', label='Logistic')\n",
    "plt.title('ROC Curve for Testing Set')\n",
    "plt.ylabel('True Positive Rate')\n",
    "plt.xlabel('False Positive Rate')\n",
    "plt.legend()\n",
    "plt.show()"
   ]
  },
  {
   "cell_type": "markdown",
   "metadata": {},
   "source": [
    "### Wilcoxon + Correlation"
   ]
  },
  {
   "cell_type": "code",
   "execution_count": 67,
   "metadata": {},
   "outputs": [
    {
     "name": "stdout",
     "output_type": "stream",
     "text": [
      "No Skill: ROC AUC=0.500\n",
      "Logistic: ROC AUC=0.825\n"
     ]
    },
    {
     "name": "stderr",
     "output_type": "stream",
     "text": [
      "/opt/anaconda3/lib/python3.8/site-packages/sklearn/linear_model/_logistic.py:814: ConvergenceWarning: lbfgs failed to converge (status=1):\n",
      "STOP: TOTAL NO. of ITERATIONS REACHED LIMIT.\n",
      "\n",
      "Increase the number of iterations (max_iter) or scale the data as shown in:\n",
      "    https://scikit-learn.org/stable/modules/preprocessing.html\n",
      "Please also refer to the documentation for alternative solver options:\n",
      "    https://scikit-learn.org/stable/modules/linear_model.html#logistic-regression\n",
      "  n_iter_i = _check_optimize_result(\n"
     ]
    },
    {
     "data": {
      "image/png": "[encoded data removed]",
      "text/plain": [
       "<Figure size 432x288 with 1 Axes>"
      ]
     },
     "metadata": {
      "needs_background": "light"
     },
     "output_type": "display_data"
    }
   ],
   "source": [
    "# For Correlation + Wilcoxon\n",
    "model = LogisticRegression(solver='lbfgs', class_weight=weights)\n",
    "model.fit(X_train_m3, y_train_m3) #.decision_function(X_test_selected)\n",
    "lr_probs = model.predict_proba(X_test_m3)\n",
    "lr_probs = lr_probs[:, 1]\n",
    "ns_probs = [0 for _ in range(len(y_test_m3))]\n",
    "# calculate scores\n",
    "ns_auc = roc_auc_score(y_test_m3, ns_probs)\n",
    "lr_auc = roc_auc_score(y_test_m3, lr_probs)\n",
    "# summarize scores\n",
    "print('No Skill: ROC AUC=%.3f' % (ns_auc))\n",
    "print('Logistic: ROC AUC=%.3f' % (lr_auc))\n",
    "# calculate roc curves\n",
    "ns_fpr, ns_tpr, _ = roc_curve(y_test_m3, ns_probs)\n",
    "lr_fpr, lr_tpr, _ = roc_curve(y_test_m3, lr_probs)\n",
    "# axis labels\n",
    "plt.plot(ns_fpr, ns_tpr, linestyle='--', label='No Skill')\n",
    "plt.plot(lr_fpr, lr_tpr, marker = '.', label='Logistic')\n",
    "plt.title('ROC Curve for Testing Set')\n",
    "plt.ylabel('True Positive Rate')\n",
    "plt.xlabel('False Positive Rate')\n",
    "plt.legend()\n",
    "plt.show()"
   ]
  },
  {
   "cell_type": "code",
   "execution_count": 71,
   "metadata": {},
   "outputs": [
    {
     "name": "stdout",
     "output_type": "stream",
     "text": [
      "No Skill: ROC AUC=0.500\n",
      "Logistic: ROC AUC=0.933\n"
     ]
    },
    {
     "name": "stderr",
     "output_type": "stream",
     "text": [
      "/opt/anaconda3/lib/python3.8/site-packages/sklearn/linear_model/_logistic.py:814: ConvergenceWarning: lbfgs failed to converge (status=1):\n",
      "STOP: TOTAL NO. of ITERATIONS REACHED LIMIT.\n",
      "\n",
      "Increase the number of iterations (max_iter) or scale the data as shown in:\n",
      "    https://scikit-learn.org/stable/modules/preprocessing.html\n",
      "Please also refer to the documentation for alternative solver options:\n",
      "    https://scikit-learn.org/stable/modules/linear_model.html#logistic-regression\n",
      "  n_iter_i = _check_optimize_result(\n"
     ]
    },
    {
     "data": {
      "image/png": "[encoded data removed]",
      "text/plain": [
       "<Figure size 432x288 with 1 Axes>"
      ]
     },
     "metadata": {
      "needs_background": "light"
     },
     "output_type": "display_data"
    }
   ],
   "source": [
    "# Cost-sensitive LR (Shuffle = True)\n",
    "# For Correlation + Wilcoxon\n",
    "# X_train_m3, X_test_m3, y_train_m3, y_test_m3 = train_test_split(X_m3, y, test_size=0.3, shuffle=True)\n",
    "\n",
    "model = LogisticRegression(solver='lbfgs', class_weight=weights)\n",
    "model.fit(X_train_m3, y_train_m3) #.decision_function(X_test_selected)\n",
    "lr_probs = model.predict_proba(X_test_m3)\n",
    "lr_probs = lr_probs[:, 1]\n",
    "ns_probs = [0 for _ in range(len(y_test_m3))]\n",
    "# calculate scores\n",
    "ns_auc = roc_auc_score(y_test_m3, ns_probs)\n",
    "lr_auc = roc_auc_score(y_test_m3, lr_probs)\n",
    "# summarize scores\n",
    "print('No Skill: ROC AUC=%.3f' % (ns_auc))\n",
    "print('Logistic: ROC AUC=%.3f' % (lr_auc))\n",
    "# calculate roc curves\n",
    "ns_fpr, ns_tpr, _ = roc_curve(y_test_m3, ns_probs)\n",
    "lr_fpr, lr_tpr, _ = roc_curve(y_test_m3, lr_probs)\n",
    "# axis labels\n",
    "plt.plot(ns_fpr, ns_tpr, linestyle='--', label='No Skill')\n",
    "plt.plot(lr_fpr, lr_tpr, marker = '.', label='Logistic')\n",
    "plt.title('ROC Curve for Testing Set')\n",
    "plt.ylabel('True Positive Rate')\n",
    "plt.xlabel('False Positive Rate')\n",
    "plt.legend()\n",
    "plt.show()"
   ]
  },
  {
   "cell_type": "code",
   "execution_count": 80,
   "metadata": {},
   "outputs": [
    {
     "name": "stdout",
     "output_type": "stream",
     "text": [
      "No Skill: ROC AUC=0.500\n",
      "Logistic: ROC AUC=0.939\n"
     ]
    },
    {
     "data": {
      "image/png": "[encoded data removed]",
      "text/plain": [
       "<Figure size 432x288 with 1 Axes>"
      ]
     },
     "metadata": {
      "needs_background": "light"
     },
     "output_type": "display_data"
    }
   ],
   "source": [
    "import warnings\n",
    "warnings.filterwarnings(\"ignore\")\n",
    "model = LogisticRegressionCV(cv=5, random_state=0, class_weight=weights)\n",
    "model.fit(X_train_m3, y_train_m3) #.decision_function(X_test_selected)\n",
    "lr_probs = model.predict_proba(X_test_m3)\n",
    "lr_probs = lr_probs[:, 1]\n",
    "ns_probs = [0 for _ in range(len(y_test_m3))]\n",
    "# calculate scores\n",
    "ns_auc = roc_auc_score(y_test_m3, ns_probs)\n",
    "lr_auc = roc_auc_score(y_test_m3, lr_probs)\n",
    "# summarize scores\n",
    "print('No Skill: ROC AUC=%.3f' % (ns_auc))\n",
    "print('Logistic: ROC AUC=%.3f' % (lr_auc))\n",
    "# calculate roc curves\n",
    "ns_fpr, ns_tpr, _ = roc_curve(y_test_m3, ns_probs)\n",
    "lr_fpr, lr_tpr, _ = roc_curve(y_test_m3, lr_probs)\n",
    "# axis labels\n",
    "plt.plot(ns_fpr, ns_tpr, linestyle='--', label='No Skill')\n",
    "plt.plot(lr_fpr, lr_tpr, marker = '.', label='Logistic')\n",
    "plt.title('ROC Curve for Testing Set')\n",
    "plt.ylabel('True Positive Rate')\n",
    "plt.xlabel('False Positive Rate')\n",
    "plt.legend()\n",
    "plt.show()\n"
   ]
  },
  {
   "cell_type": "markdown",
   "metadata": {},
   "source": [
    "### No Feature Selection"
   ]
  },
  {
   "cell_type": "code",
   "execution_count": 37,
   "metadata": {},
   "outputs": [
    {
     "name": "stderr",
     "output_type": "stream",
     "text": [
      "/opt/anaconda3/lib/python3.8/site-packages/sklearn/linear_model/_logistic.py:814: ConvergenceWarning: lbfgs failed to converge (status=1):\n",
      "STOP: TOTAL NO. of ITERATIONS REACHED LIMIT.\n",
      "\n",
      "Increase the number of iterations (max_iter) or scale the data as shown in:\n",
      "    https://scikit-learn.org/stable/modules/preprocessing.html\n",
      "Please also refer to the documentation for alternative solver options:\n",
      "    https://scikit-learn.org/stable/modules/linear_model.html#logistic-regression\n",
      "  n_iter_i = _check_optimize_result(\n"
     ]
    },
    {
     "name": "stdout",
     "output_type": "stream",
     "text": [
      "No Skill: ROC AUC=0.500\n",
      "Logistic: ROC AUC=0.958\n"
     ]
    },
    {
     "data": {
      "image/png": "[encoded data removed]",
      "text/plain": [
       "<Figure size 432x288 with 1 Axes>"
      ]
     },
     "metadata": {
      "needs_background": "light"
     },
     "output_type": "display_data"
    }
   ],
   "source": [
    "# Cost-sensitive LR (Shuffle = True)\n",
    "X_train_m2, X_test_m2, y_train_m2, y_test_m2 = train_test_split(X, y, test_size=0.3, shuffle=True)\n",
    "model = LogisticRegression(solver='lbfgs', class_weight=weights)\n",
    "model.fit(X_train_m2, y_train_m2) #.decision_function(X_test_selected)\n",
    "lr_probs = model.predict_proba(X_test_m2)\n",
    "lr_probs = lr_probs[:, 1]\n",
    "ns_probs = [0 for _ in range(len(y_test_m2))]\n",
    "# calculate scores\n",
    "ns_auc = roc_auc_score(y_test_m2, ns_probs)\n",
    "lr_auc = roc_auc_score(y_test_m2, lr_probs)\n",
    "# summarize scores\n",
    "print('No Skill: ROC AUC=%.3f' % (ns_auc))\n",
    "print('Logistic: ROC AUC=%.3f' % (lr_auc))\n",
    "# calculate roc curves\n",
    "ns_fpr, ns_tpr, _ = roc_curve(y_test_m2, ns_probs)\n",
    "lr_fpr, lr_tpr, _ = roc_curve(y_test_m2, lr_probs)\n",
    "# axis labels\n",
    "plt.plot(ns_fpr, ns_tpr, linestyle='--', label='No Skill')\n",
    "plt.plot(lr_fpr, lr_tpr, marker = '.', label='Logistic')\n",
    "plt.title('ROC Curve for Testing Set')\n",
    "plt.ylabel('True Positive Rate')\n",
    "plt.xlabel('False Positive Rate')\n",
    "plt.legend()\n",
    "plt.show()"
   ]
  },
  {
   "cell_type": "code",
   "execution_count": 81,
   "metadata": {},
   "outputs": [
    {
     "name": "stdout",
     "output_type": "stream",
     "text": [
      "No Skill: ROC AUC=0.500\n",
      "Logistic: ROC AUC=0.978\n"
     ]
    },
    {
     "data": {
      "image/png": "[encoded data removed]",
      "text/plain": [
       "<Figure size 432x288 with 1 Axes>"
      ]
     },
     "metadata": {
      "needs_background": "light"
     },
     "output_type": "display_data"
    }
   ],
   "source": [
    "# Cost-sensitive LR (Shuffle = True)\n",
    "X_train_m2, X_test_m2, y_train_m2, y_test_m2 = train_test_split(X, y, test_size=0.3, shuffle=True)\n",
    "model = LogisticRegressionCV(cv=5, random_state=0, solver='lbfgs', class_weight=weights)\n",
    "model.fit(X_train_m2, y_train_m2) #.decision_function(X_test_selected)\n",
    "lr_probs = model.predict_proba(X_test_m2)\n",
    "lr_probs = lr_probs[:, 1]\n",
    "ns_probs = [0 for _ in range(len(y_test_m2))]\n",
    "# calculate scores\n",
    "ns_auc = roc_auc_score(y_test_m2, ns_probs)\n",
    "lr_auc = roc_auc_score(y_test_m2, lr_probs)\n",
    "# summarize scores\n",
    "print('No Skill: ROC AUC=%.3f' % (ns_auc))\n",
    "print('Logistic: ROC AUC=%.3f' % (lr_auc))\n",
    "# calculate roc curves\n",
    "ns_fpr, ns_tpr, _ = roc_curve(y_test_m2, ns_probs)\n",
    "lr_fpr, lr_tpr, _ = roc_curve(y_test_m2, lr_probs)\n",
    "# axis labels\n",
    "plt.plot(ns_fpr, ns_tpr, linestyle='--', label='No Skill')\n",
    "plt.plot(lr_fpr, lr_tpr, marker = '.', label='Logistic')\n",
    "plt.title('ROC Curve for Testing Set')\n",
    "plt.ylabel('True Positive Rate')\n",
    "plt.xlabel('False Positive Rate')\n",
    "plt.legend()\n",
    "plt.show()"
   ]
  },
  {
   "cell_type": "code",
   "execution_count": null,
   "metadata": {},
   "outputs": [],
   "source": []
  }
 ],
 "metadata": {
  "kernelspec": {
   "display_name": "Python 3",
   "language": "python",
   "name": "python3"
  },
  "language_info": {
   "codemirror_mode": {
    "name": "ipython",
    "version": 3
   },
   "file_extension": ".py",
   "mimetype": "text/x-python",
   "name": "python",
   "nbconvert_exporter": "python",
   "pygments_lexer": "ipython3",
   "version": "3.8.8"
  }
 },
 "nbformat": 4,
 "nbformat_minor": 2
}

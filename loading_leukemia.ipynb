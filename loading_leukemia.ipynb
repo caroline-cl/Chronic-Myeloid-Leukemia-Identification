{
 "cells": [
  {
   "cell_type": "markdown",
   "id": "e4607f73",
   "metadata": {},
   "source": [
    "## Imports"
   ]
  },
  {
   "cell_type": "code",
   "execution_count": 4,
   "id": "7121526b-2a25-45e7-a05d-89419f8f668a",
   "metadata": {},
   "outputs": [],
   "source": [
    "#Import Libraries\n",
    "import pandas as pd\n",
    "import numpy as np\n",
    "from scipy.io import mmread\n",
    "from sklearn.model_selection import train_test_split, cross_val_score, KFold\n",
    "from sklearn.neighbors import KNeighborsClassifier\n",
    "from scipy.stats import pearsonr, ranksums\n",
    "from sklearn.metrics import accuracy_score\n",
    "from sklearn.preprocessing import LabelEncoder, OneHotEncoder\n",
    "import matplotlib.pyplot as plt"
   ]
  },
  {
   "cell_type": "markdown",
   "id": "83a4e5e1",
   "metadata": {},
   "source": [
    "## Data Preprocessing"
   ]
  },
  {
   "cell_type": "code",
   "execution_count": 5,
   "id": "0e674435-d082-4239-b57d-b4ef5e46f471",
   "metadata": {},
   "outputs": [],
   "source": [
    "#read in the sparse matrix\n",
    "data = mmread(\"E-GEOD-76312.aggregated_filtered_normalised_counts.mtx\")\n",
    "#transform sparse matrix into pandas dataframe\n",
    "data = pd.DataFrame.sparse.from_spmatrix(data)\n",
    "\n",
    "#Loading the data can take a while"
   ]
  },
  {
   "cell_type": "code",
   "execution_count": 6,
   "id": "34842bf8-b59c-47e5-8519-3a5f99984182",
   "metadata": {},
   "outputs": [],
   "source": [
    "#load the genes (in the format of ensembl id)\n",
    "gene = pd.read_csv(\"E-GEOD-76312.aggregated_filtered_normalised_counts.mtx_rows\",delimiter = \"\\t\",header = None)[0].values\n",
    "#load the gene names\n",
    "cell_id = pd.read_csv(\"E-GEOD-76312.aggregated_filtered_normalised_counts.mtx_cols\", delimiter = \"\\t\",header = None)[0].values"
   ]
  },
  {
   "cell_type": "code",
   "execution_count": 7,
   "id": "04158c0b-98e6-4cb0-8443-c53670828472",
   "metadata": {},
   "outputs": [],
   "source": [
    "#transform the row and column index of the dataframe into gene ensembl and cell id respectively\n",
    "data.index = gene\n",
    "data.columns = cell_id"
   ]
  },
  {
   "cell_type": "code",
   "execution_count": 8,
   "id": "b636b656-fc65-4cc9-821c-facbad94e896",
   "metadata": {},
   "outputs": [
    {
     "data": {
      "text/html": [
       "<div>\n",
       "<style scoped>\n",
       "    .dataframe tbody tr th:only-of-type {\n",
       "        vertical-align: middle;\n",
       "    }\n",
       "\n",
       "    .dataframe tbody tr th {\n",
       "        vertical-align: top;\n",
       "    }\n",
       "\n",
       "    .dataframe thead th {\n",
       "        text-align: right;\n",
       "    }\n",
       "</style>\n",
       "<table border=\"1\" class=\"dataframe\">\n",
       "  <thead>\n",
       "    <tr style=\"text-align: right;\">\n",
       "      <th></th>\n",
       "      <th>SRR3052083</th>\n",
       "      <th>SRR3052084</th>\n",
       "      <th>SRR3052085</th>\n",
       "      <th>SRR3052086</th>\n",
       "      <th>SRR3052087</th>\n",
       "      <th>SRR3052088</th>\n",
       "      <th>SRR3052089</th>\n",
       "      <th>SRR3052090</th>\n",
       "      <th>SRR3052091</th>\n",
       "      <th>SRR3052092</th>\n",
       "      <th>...</th>\n",
       "      <th>SRR5456187</th>\n",
       "      <th>SRR5456188</th>\n",
       "      <th>SRR5456189</th>\n",
       "      <th>SRR5456190</th>\n",
       "      <th>SRR5456191</th>\n",
       "      <th>SRR5456192</th>\n",
       "      <th>SRR5456193</th>\n",
       "      <th>SRR5456194</th>\n",
       "      <th>SRR5456195</th>\n",
       "      <th>SRR5456196</th>\n",
       "    </tr>\n",
       "  </thead>\n",
       "  <tbody>\n",
       "    <tr>\n",
       "      <th>ENSG00000000003</th>\n",
       "      <td>1.848425</td>\n",
       "      <td>0.000000</td>\n",
       "      <td>0.000000</td>\n",
       "      <td>0.000000</td>\n",
       "      <td>0.000000</td>\n",
       "      <td>0.000000</td>\n",
       "      <td>0.000000</td>\n",
       "      <td>7.220118</td>\n",
       "      <td>0.000000</td>\n",
       "      <td>0.000000</td>\n",
       "      <td>...</td>\n",
       "      <td>0.000000</td>\n",
       "      <td>0.0000</td>\n",
       "      <td>0.000000</td>\n",
       "      <td>1.594196</td>\n",
       "      <td>0.409923</td>\n",
       "      <td>2.122996</td>\n",
       "      <td>0.00000</td>\n",
       "      <td>0.000000</td>\n",
       "      <td>0.000000</td>\n",
       "      <td>1.246196</td>\n",
       "    </tr>\n",
       "    <tr>\n",
       "      <th>ENSG00000000419</th>\n",
       "      <td>0.922133</td>\n",
       "      <td>201.239100</td>\n",
       "      <td>0.000000</td>\n",
       "      <td>64.100410</td>\n",
       "      <td>1.302134</td>\n",
       "      <td>0.000000</td>\n",
       "      <td>0.000000</td>\n",
       "      <td>0.771098</td>\n",
       "      <td>127.333510</td>\n",
       "      <td>258.883200</td>\n",
       "      <td>...</td>\n",
       "      <td>0.000000</td>\n",
       "      <td>508.2891</td>\n",
       "      <td>60.324370</td>\n",
       "      <td>0.000000</td>\n",
       "      <td>1.229770</td>\n",
       "      <td>0.424553</td>\n",
       "      <td>445.82940</td>\n",
       "      <td>267.926670</td>\n",
       "      <td>0.000000</td>\n",
       "      <td>0.287090</td>\n",
       "    </tr>\n",
       "    <tr>\n",
       "      <th>ENSG00000000457</th>\n",
       "      <td>14.105330</td>\n",
       "      <td>45.350548</td>\n",
       "      <td>27.500156</td>\n",
       "      <td>24.328178</td>\n",
       "      <td>21.817270</td>\n",
       "      <td>15.758317</td>\n",
       "      <td>3.566042</td>\n",
       "      <td>19.376453</td>\n",
       "      <td>23.881630</td>\n",
       "      <td>37.535576</td>\n",
       "      <td>...</td>\n",
       "      <td>18.358406</td>\n",
       "      <td>1588.4178</td>\n",
       "      <td>40.131010</td>\n",
       "      <td>13.045530</td>\n",
       "      <td>34.460392</td>\n",
       "      <td>13.971558</td>\n",
       "      <td>27.20065</td>\n",
       "      <td>30.016335</td>\n",
       "      <td>12.008236</td>\n",
       "      <td>14.492656</td>\n",
       "    </tr>\n",
       "    <tr>\n",
       "      <th>ENSG00000000460</th>\n",
       "      <td>0.922133</td>\n",
       "      <td>0.000000</td>\n",
       "      <td>0.000000</td>\n",
       "      <td>0.000000</td>\n",
       "      <td>1.953201</td>\n",
       "      <td>1.820742</td>\n",
       "      <td>0.000000</td>\n",
       "      <td>0.771098</td>\n",
       "      <td>10.582026</td>\n",
       "      <td>0.000000</td>\n",
       "      <td>...</td>\n",
       "      <td>0.000000</td>\n",
       "      <td>0.0000</td>\n",
       "      <td>0.781743</td>\n",
       "      <td>1.438031</td>\n",
       "      <td>0.000000</td>\n",
       "      <td>0.525876</td>\n",
       "      <td>0.00000</td>\n",
       "      <td>0.000000</td>\n",
       "      <td>0.726846</td>\n",
       "      <td>0.000000</td>\n",
       "    </tr>\n",
       "    <tr>\n",
       "      <th>ENSG00000000938</th>\n",
       "      <td>0.000000</td>\n",
       "      <td>0.000000</td>\n",
       "      <td>0.000000</td>\n",
       "      <td>503.646100</td>\n",
       "      <td>0.000000</td>\n",
       "      <td>0.000000</td>\n",
       "      <td>0.000000</td>\n",
       "      <td>0.000000</td>\n",
       "      <td>0.000000</td>\n",
       "      <td>0.000000</td>\n",
       "      <td>...</td>\n",
       "      <td>0.000000</td>\n",
       "      <td>0.0000</td>\n",
       "      <td>0.000000</td>\n",
       "      <td>0.000000</td>\n",
       "      <td>0.000000</td>\n",
       "      <td>0.000000</td>\n",
       "      <td>0.00000</td>\n",
       "      <td>0.000000</td>\n",
       "      <td>0.000000</td>\n",
       "      <td>0.000000</td>\n",
       "    </tr>\n",
       "  </tbody>\n",
       "</table>\n",
       "<p>5 rows × 2151 columns</p>\n",
       "</div>"
      ],
      "text/plain": [
       "                 SRR3052083  SRR3052084  SRR3052085  SRR3052086  SRR3052087  \\\n",
       "ENSG00000000003    1.848425    0.000000    0.000000    0.000000    0.000000   \n",
       "ENSG00000000419    0.922133  201.239100    0.000000   64.100410    1.302134   \n",
       "ENSG00000000457   14.105330   45.350548   27.500156   24.328178   21.817270   \n",
       "ENSG00000000460    0.922133    0.000000    0.000000    0.000000    1.953201   \n",
       "ENSG00000000938    0.000000    0.000000    0.000000  503.646100    0.000000   \n",
       "\n",
       "                 SRR3052088  SRR3052089  SRR3052090  SRR3052091  SRR3052092  \\\n",
       "ENSG00000000003    0.000000    0.000000    7.220118    0.000000    0.000000   \n",
       "ENSG00000000419    0.000000    0.000000    0.771098  127.333510  258.883200   \n",
       "ENSG00000000457   15.758317    3.566042   19.376453   23.881630   37.535576   \n",
       "ENSG00000000460    1.820742    0.000000    0.771098   10.582026    0.000000   \n",
       "ENSG00000000938    0.000000    0.000000    0.000000    0.000000    0.000000   \n",
       "\n",
       "                 ...  SRR5456187  SRR5456188  SRR5456189  SRR5456190  \\\n",
       "ENSG00000000003  ...    0.000000      0.0000    0.000000    1.594196   \n",
       "ENSG00000000419  ...    0.000000    508.2891   60.324370    0.000000   \n",
       "ENSG00000000457  ...   18.358406   1588.4178   40.131010   13.045530   \n",
       "ENSG00000000460  ...    0.000000      0.0000    0.781743    1.438031   \n",
       "ENSG00000000938  ...    0.000000      0.0000    0.000000    0.000000   \n",
       "\n",
       "                 SRR5456191  SRR5456192  SRR5456193  SRR5456194  SRR5456195  \\\n",
       "ENSG00000000003    0.409923    2.122996     0.00000    0.000000    0.000000   \n",
       "ENSG00000000419    1.229770    0.424553   445.82940  267.926670    0.000000   \n",
       "ENSG00000000457   34.460392   13.971558    27.20065   30.016335   12.008236   \n",
       "ENSG00000000460    0.000000    0.525876     0.00000    0.000000    0.726846   \n",
       "ENSG00000000938    0.000000    0.000000     0.00000    0.000000    0.000000   \n",
       "\n",
       "                 SRR5456196  \n",
       "ENSG00000000003    1.246196  \n",
       "ENSG00000000419    0.287090  \n",
       "ENSG00000000457   14.492656  \n",
       "ENSG00000000460    0.000000  \n",
       "ENSG00000000938    0.000000  \n",
       "\n",
       "[5 rows x 2151 columns]"
      ]
     },
     "execution_count": 8,
     "metadata": {},
     "output_type": "execute_result"
    }
   ],
   "source": [
    "data.head()"
   ]
  },
  {
   "cell_type": "code",
   "execution_count": 9,
   "id": "6333237b-c1c0-4aa7-9740-ac9a501edf9f",
   "metadata": {},
   "outputs": [
    {
     "data": {
      "text/plain": [
       "(27118, 2151)"
      ]
     },
     "execution_count": 9,
     "metadata": {},
     "output_type": "execute_result"
    }
   ],
   "source": [
    "#The dataset contains 2151 cells with 27118 genes\n",
    "data.shape"
   ]
  },
  {
   "cell_type": "code",
   "execution_count": 10,
   "id": "1b5c5441",
   "metadata": {},
   "outputs": [
    {
     "name": "stdout",
     "output_type": "stream",
     "text": [
      "(2151, 27118)\n"
     ]
    },
    {
     "data": {
      "text/html": [
       "<div>\n",
       "<style scoped>\n",
       "    .dataframe tbody tr th:only-of-type {\n",
       "        vertical-align: middle;\n",
       "    }\n",
       "\n",
       "    .dataframe tbody tr th {\n",
       "        vertical-align: top;\n",
       "    }\n",
       "\n",
       "    .dataframe thead th {\n",
       "        text-align: right;\n",
       "    }\n",
       "</style>\n",
       "<table border=\"1\" class=\"dataframe\">\n",
       "  <thead>\n",
       "    <tr style=\"text-align: right;\">\n",
       "      <th></th>\n",
       "      <th>ENSG00000000003</th>\n",
       "      <th>ENSG00000000419</th>\n",
       "      <th>ENSG00000000457</th>\n",
       "      <th>ENSG00000000460</th>\n",
       "      <th>ENSG00000000938</th>\n",
       "      <th>ENSG00000000971</th>\n",
       "      <th>ENSG00000001036</th>\n",
       "      <th>ENSG00000001084</th>\n",
       "      <th>ENSG00000001167</th>\n",
       "      <th>ENSG00000001460</th>\n",
       "      <th>...</th>\n",
       "      <th>ENSG00000288393</th>\n",
       "      <th>ENSG00000288460</th>\n",
       "      <th>ENSG00000288525</th>\n",
       "      <th>ENSG00000288534</th>\n",
       "      <th>ENSG00000288547</th>\n",
       "      <th>ENSG00000288550</th>\n",
       "      <th>ENSG00000288556</th>\n",
       "      <th>ENSG00000288558</th>\n",
       "      <th>ENSG00000288564</th>\n",
       "      <th>ENSG00000288579</th>\n",
       "    </tr>\n",
       "  </thead>\n",
       "  <tbody>\n",
       "    <tr>\n",
       "      <th>SRR3052083</th>\n",
       "      <td>1.848425</td>\n",
       "      <td>0.922133</td>\n",
       "      <td>14.105330</td>\n",
       "      <td>0.922133</td>\n",
       "      <td>0.0000</td>\n",
       "      <td>0.000000</td>\n",
       "      <td>0.000000</td>\n",
       "      <td>0.000000</td>\n",
       "      <td>0.000000</td>\n",
       "      <td>3.538667</td>\n",
       "      <td>...</td>\n",
       "      <td>0.0</td>\n",
       "      <td>0.0</td>\n",
       "      <td>2.7664</td>\n",
       "      <td>0.000000</td>\n",
       "      <td>0.0</td>\n",
       "      <td>0.0</td>\n",
       "      <td>0.0</td>\n",
       "      <td>0.0</td>\n",
       "      <td>0.0</td>\n",
       "      <td>0.000000</td>\n",
       "    </tr>\n",
       "    <tr>\n",
       "      <th>SRR3052084</th>\n",
       "      <td>0.000000</td>\n",
       "      <td>201.239100</td>\n",
       "      <td>45.350548</td>\n",
       "      <td>0.000000</td>\n",
       "      <td>0.0000</td>\n",
       "      <td>0.000000</td>\n",
       "      <td>0.698747</td>\n",
       "      <td>1.213876</td>\n",
       "      <td>20.962408</td>\n",
       "      <td>14.077494</td>\n",
       "      <td>...</td>\n",
       "      <td>0.0</td>\n",
       "      <td>0.0</td>\n",
       "      <td>0.0000</td>\n",
       "      <td>0.000000</td>\n",
       "      <td>0.0</td>\n",
       "      <td>0.0</td>\n",
       "      <td>0.0</td>\n",
       "      <td>0.0</td>\n",
       "      <td>0.0</td>\n",
       "      <td>1.397494</td>\n",
       "    </tr>\n",
       "    <tr>\n",
       "      <th>SRR3052085</th>\n",
       "      <td>0.000000</td>\n",
       "      <td>0.000000</td>\n",
       "      <td>27.500156</td>\n",
       "      <td>0.000000</td>\n",
       "      <td>0.0000</td>\n",
       "      <td>0.000000</td>\n",
       "      <td>0.000000</td>\n",
       "      <td>0.000000</td>\n",
       "      <td>0.401888</td>\n",
       "      <td>0.406227</td>\n",
       "      <td>...</td>\n",
       "      <td>0.0</td>\n",
       "      <td>0.0</td>\n",
       "      <td>0.0000</td>\n",
       "      <td>0.000000</td>\n",
       "      <td>0.0</td>\n",
       "      <td>0.0</td>\n",
       "      <td>0.0</td>\n",
       "      <td>0.0</td>\n",
       "      <td>0.0</td>\n",
       "      <td>5.224539</td>\n",
       "    </tr>\n",
       "    <tr>\n",
       "      <th>SRR3052086</th>\n",
       "      <td>0.000000</td>\n",
       "      <td>64.100410</td>\n",
       "      <td>24.328178</td>\n",
       "      <td>0.000000</td>\n",
       "      <td>503.6461</td>\n",
       "      <td>0.000000</td>\n",
       "      <td>3.052401</td>\n",
       "      <td>0.000000</td>\n",
       "      <td>0.000000</td>\n",
       "      <td>9.157202</td>\n",
       "      <td>...</td>\n",
       "      <td>0.0</td>\n",
       "      <td>0.0</td>\n",
       "      <td>0.0000</td>\n",
       "      <td>29.308508</td>\n",
       "      <td>0.0</td>\n",
       "      <td>0.0</td>\n",
       "      <td>0.0</td>\n",
       "      <td>0.0</td>\n",
       "      <td>0.0</td>\n",
       "      <td>6.104801</td>\n",
       "    </tr>\n",
       "    <tr>\n",
       "      <th>SRR3052087</th>\n",
       "      <td>0.000000</td>\n",
       "      <td>1.302134</td>\n",
       "      <td>21.817270</td>\n",
       "      <td>1.953201</td>\n",
       "      <td>0.0000</td>\n",
       "      <td>1.953201</td>\n",
       "      <td>0.000000</td>\n",
       "      <td>0.000000</td>\n",
       "      <td>0.651067</td>\n",
       "      <td>3.906401</td>\n",
       "      <td>...</td>\n",
       "      <td>0.0</td>\n",
       "      <td>0.0</td>\n",
       "      <td>0.0000</td>\n",
       "      <td>0.000000</td>\n",
       "      <td>0.0</td>\n",
       "      <td>0.0</td>\n",
       "      <td>0.0</td>\n",
       "      <td>0.0</td>\n",
       "      <td>0.0</td>\n",
       "      <td>0.651067</td>\n",
       "    </tr>\n",
       "  </tbody>\n",
       "</table>\n",
       "<p>5 rows × 27118 columns</p>\n",
       "</div>"
      ],
      "text/plain": [
       "            ENSG00000000003  ENSG00000000419  ENSG00000000457  \\\n",
       "SRR3052083         1.848425         0.922133        14.105330   \n",
       "SRR3052084         0.000000       201.239100        45.350548   \n",
       "SRR3052085         0.000000         0.000000        27.500156   \n",
       "SRR3052086         0.000000        64.100410        24.328178   \n",
       "SRR3052087         0.000000         1.302134        21.817270   \n",
       "\n",
       "            ENSG00000000460  ENSG00000000938  ENSG00000000971  \\\n",
       "SRR3052083         0.922133           0.0000         0.000000   \n",
       "SRR3052084         0.000000           0.0000         0.000000   \n",
       "SRR3052085         0.000000           0.0000         0.000000   \n",
       "SRR3052086         0.000000         503.6461         0.000000   \n",
       "SRR3052087         1.953201           0.0000         1.953201   \n",
       "\n",
       "            ENSG00000001036  ENSG00000001084  ENSG00000001167  \\\n",
       "SRR3052083         0.000000         0.000000         0.000000   \n",
       "SRR3052084         0.698747         1.213876        20.962408   \n",
       "SRR3052085         0.000000         0.000000         0.401888   \n",
       "SRR3052086         3.052401         0.000000         0.000000   \n",
       "SRR3052087         0.000000         0.000000         0.651067   \n",
       "\n",
       "            ENSG00000001460  ...  ENSG00000288393  ENSG00000288460  \\\n",
       "SRR3052083         3.538667  ...              0.0              0.0   \n",
       "SRR3052084        14.077494  ...              0.0              0.0   \n",
       "SRR3052085         0.406227  ...              0.0              0.0   \n",
       "SRR3052086         9.157202  ...              0.0              0.0   \n",
       "SRR3052087         3.906401  ...              0.0              0.0   \n",
       "\n",
       "            ENSG00000288525  ENSG00000288534  ENSG00000288547  \\\n",
       "SRR3052083           2.7664         0.000000              0.0   \n",
       "SRR3052084           0.0000         0.000000              0.0   \n",
       "SRR3052085           0.0000         0.000000              0.0   \n",
       "SRR3052086           0.0000        29.308508              0.0   \n",
       "SRR3052087           0.0000         0.000000              0.0   \n",
       "\n",
       "            ENSG00000288550  ENSG00000288556  ENSG00000288558  \\\n",
       "SRR3052083              0.0              0.0              0.0   \n",
       "SRR3052084              0.0              0.0              0.0   \n",
       "SRR3052085              0.0              0.0              0.0   \n",
       "SRR3052086              0.0              0.0              0.0   \n",
       "SRR3052087              0.0              0.0              0.0   \n",
       "\n",
       "            ENSG00000288564  ENSG00000288579  \n",
       "SRR3052083              0.0         0.000000  \n",
       "SRR3052084              0.0         1.397494  \n",
       "SRR3052085              0.0         5.224539  \n",
       "SRR3052086              0.0         6.104801  \n",
       "SRR3052087              0.0         0.651067  \n",
       "\n",
       "[5 rows x 27118 columns]"
      ]
     },
     "execution_count": 10,
     "metadata": {},
     "output_type": "execute_result"
    }
   ],
   "source": [
    "X = data.T\n",
    "print(X.shape)\n",
    "X.head()"
   ]
  },
  {
   "cell_type": "markdown",
   "id": "ba878414-8ec1-4059-8969-2402f3949089",
   "metadata": {},
   "source": [
    "### Load the meta"
   ]
  },
  {
   "cell_type": "code",
   "execution_count": 11,
   "id": "258d1400-fd57-46d3-b865-c1599ae1f383",
   "metadata": {},
   "outputs": [],
   "source": [
    "meta =  pd.read_csv(\"ExpDesign-E-GEOD-76312.tsv\",delimiter = \"\\t\")"
   ]
  },
  {
   "cell_type": "code",
   "execution_count": 11,
   "id": "042ab7d3-ff7f-43dd-8da8-9284fd8d8624",
   "metadata": {},
   "outputs": [
    {
     "data": {
      "text/plain": [
       "Index(['Assay', 'Sample Characteristic[organism]',\n",
       "       'Sample Characteristic Ontology Term[organism]',\n",
       "       'Sample Characteristic[individual]',\n",
       "       'Sample Characteristic Ontology Term[individual]',\n",
       "       'Sample Characteristic[age]',\n",
       "       'Sample Characteristic Ontology Term[age]',\n",
       "       'Sample Characteristic[organism part]',\n",
       "       'Sample Characteristic Ontology Term[organism part]',\n",
       "       'Sample Characteristic[cell type]',\n",
       "       'Sample Characteristic Ontology Term[cell type]',\n",
       "       'Sample Characteristic[facs marker]',\n",
       "       'Sample Characteristic Ontology Term[facs marker]',\n",
       "       'Sample Characteristic[disease]',\n",
       "       'Sample Characteristic Ontology Term[disease]',\n",
       "       'Sample Characteristic[clinical information]',\n",
       "       'Sample Characteristic Ontology Term[clinical information]',\n",
       "       'Sample Characteristic[clinical history]',\n",
       "       'Sample Characteristic Ontology Term[clinical history]',\n",
       "       'Factor Value[single cell identifier]',\n",
       "       'Factor Value Ontology Term[single cell identifier]',\n",
       "       'Factor Value[disease]', 'Factor Value Ontology Term[disease]',\n",
       "       'Factor Value[clinical information]',\n",
       "       'Factor Value Ontology Term[clinical information]',\n",
       "       'Factor Value[sampling time point]',\n",
       "       'Factor Value Ontology Term[sampling time point]'],\n",
       "      dtype='object')"
      ]
     },
     "execution_count": 11,
     "metadata": {},
     "output_type": "execute_result"
    }
   ],
   "source": [
    "#Viewing the columns in meta\n",
    "meta.columns"
   ]
  },
  {
   "cell_type": "code",
   "execution_count": 12,
   "id": "42b32363-4b4e-49d5-abca-ccc2b1973741",
   "metadata": {},
   "outputs": [
    {
     "data": {
      "text/plain": [
       "chronic phase chronic myeloid leukemia    1964\n",
       "normal                                     187\n",
       "Name: Sample Characteristic[disease], dtype: int64"
      ]
     },
     "execution_count": 12,
     "metadata": {},
     "output_type": "execute_result"
    }
   ],
   "source": [
    "#View the distribution of disease type of cells\n",
    "meta[\"Sample Characteristic[disease]\"].value_counts()"
   ]
  },
  {
   "cell_type": "markdown",
   "id": "f7bcc28d",
   "metadata": {},
   "source": [
    "## One-Hot Encoding"
   ]
  },
  {
   "cell_type": "code",
   "execution_count": 14,
   "id": "e5eebad4",
   "metadata": {},
   "outputs": [
    {
     "name": "stdout",
     "output_type": "stream",
     "text": [
      "[1 1 1 ... 0 0 0]\n",
      "[[0. 1.]\n",
      " [0. 1.]\n",
      " [0. 1.]\n",
      " ...\n",
      " [1. 0.]\n",
      " [1. 0.]\n",
      " [1. 0.]]\n"
     ]
    }
   ],
   "source": [
    "### One Hot Encoding\n",
    "# type = (['normal', 'chronic phase chronic myeloid leukemia'])\n",
    "y = meta[\"Sample Characteristic[disease]\"]\n",
    "\n",
    "# Integer mapping\n",
    "label_encoder = LabelEncoder()\n",
    "integer_encoded = label_encoder.fit_transform(y)\n",
    "print(integer_encoded)\n",
    "integer_encoded = integer_encoded.reshape(len(integer_encoded), 1)\n",
    "\n",
    "# One hot encoding\n",
    "onehot_encoder = OneHotEncoder(sparse = False)\n",
    "onehot_encoded = onehot_encoder.fit_transform(integer_encoded)\n",
    "print(onehot_encoded)"
   ]
  },
  {
   "cell_type": "code",
   "execution_count": 15,
   "id": "4dbb7870",
   "metadata": {},
   "outputs": [],
   "source": [
    "y = integer_encoded.ravel()"
   ]
  },
  {
   "cell_type": "code",
   "execution_count": 47,
   "id": "b7363225",
   "metadata": {},
   "outputs": [
    {
     "data": {
      "image/png": "[encoded data removed]",
      "text/plain": [
       "<Figure size 432x288 with 1 Axes>"
      ]
     },
     "metadata": {
      "needs_background": "light"
     },
     "output_type": "display_data"
    }
   ],
   "source": [
    "import matplotlib.pyplot as plt\n",
    "#Visualization of the Data\n",
    "#1. Show the data is unbalanced (y-axis: number of samples, x-axis: cell type, histogram)\n",
    "cell_type = ['Normal', 'CML']\n",
    "sample_size = [187, 1964]\n",
    "\n",
    "type = [i for i,_ in enumerate(cell_type)]\n",
    "plt.bar(type, sample_size)\n",
    "plt.xlabel('Cell Type')\n",
    "plt.ylabel('Number of Cells')\n",
    "plt.title('Number of Samples for Normal and CML Cells')\n",
    "plt.xticks(type, cell_type)\n",
    "plt.show()"
   ]
  },
  {
   "cell_type": "code",
   "execution_count": 48,
   "id": "ed9dfdbc",
   "metadata": {},
   "outputs": [
    {
     "name": "stdout",
     "output_type": "stream",
     "text": [
      "[33, 0, 0, 0, 0, 0, 154]\n",
      "[236, 357, 302, 169, 137, 733, 30]\n",
      "[269, 357, 302, 169, 137, 733, 184]\n"
     ]
    },
    {
     "data": {
      "image/png": "[encoded data removed]",
      "text/plain": [
       "<Figure size 432x288 with 1 Axes>"
      ]
     },
     "metadata": {
      "needs_background": "light"
     },
     "output_type": "display_data"
    }
   ],
   "source": [
    "#2. Show the number of cml cells detected in each age group\n",
    "#Get the corresponding cell type for each age entry\n",
    "df1 = pd.DataFrame(\n",
    "    {\n",
    "        'age': meta[\"Sample Characteristic[age]\"],\n",
    "        'cell type': y\n",
    "    }\n",
    ")\n",
    "\n",
    "#Group by age range\n",
    "group1 = ['20 year', '22 year', '23 year', '24 year']\n",
    "group2 = ['31 year', '33 year', '34 year', '35 year', '38 year',]\n",
    "group3 = ['40 year', '47 year', '49 year']\n",
    "group4 = ['54 year', '55 year', '57 year']\n",
    "group5 = ['60 year', '61 year', '63 year']\n",
    "group6 = ['70 year', '72 year', '73 year', '74 year']\n",
    "group7 = ['not available year']\n",
    "\n",
    "lst = []\n",
    "lst.append(group1)\n",
    "lst.append(group2)\n",
    "lst.append(group3)\n",
    "lst.append(group4)\n",
    "lst.append(group5)\n",
    "lst.append(group6)\n",
    "lst.append(group7)\n",
    "\n",
    "#Get the number of normal and cml cell for each age entry\n",
    "agegroup = 1\n",
    "normal_lst = []\n",
    "cml_lst = []\n",
    "group_pop = []\n",
    "for group in lst:\n",
    "    normal = 0\n",
    "    cml = 0\n",
    "    pop = 0\n",
    "    for age in group:\n",
    "        for i in range(len(df1)):\n",
    "            if df1['age'][i] == age:\n",
    "                pop += 1\n",
    "                if df1['cell type'][i] == 1:\n",
    "                    normal += 1\n",
    "                else:\n",
    "                    cml += 1\n",
    "    normal_lst.append(normal)\n",
    "    cml_lst.append(cml)\n",
    "    group_pop.append(pop)\n",
    "    agegroup += 1\n",
    "\n",
    "print(normal_lst)\n",
    "print(cml_lst)\n",
    "print(group_pop)\n",
    "\n",
    "#Plot\n",
    "ind = np.arange(7)\n",
    "width = 0.35\n",
    "# plt.bar(ind, normal_lst, width, label = 'Normal')\n",
    "plt.bar(ind, cml_lst, width, label = 'CML')\n",
    "plt.ylabel('Number of CML Cells')\n",
    "plt.xlabel('Age Range')\n",
    "plt.title('Number of CML Cells In Each Age Group')\n",
    "plt.xticks(ind + width / 2, ('20-29', '30-39', '40-49', '50-59', '60-69', '70-79', 'Unknown'))\n",
    "# plt.legend(loc = 'best')\n",
    "plt.show()\n"
   ]
  },
  {
   "cell_type": "markdown",
   "id": "27a337fb",
   "metadata": {},
   "source": [
    "## Feature Selection"
   ]
  },
  {
   "cell_type": "code",
   "execution_count": 50,
   "id": "6ea1d9be-f7c3-4f27-88d6-bd64c33e39ed",
   "metadata": {},
   "outputs": [
    {
     "name": "stdout",
     "output_type": "stream",
     "text": [
      "[686, 1989, 1585, 971, 781, 591, 788, 93, 246, 1247, 890, 1397, 1493, 1494, 1678, 900, 945, 67, 174, 1205, 2123, 734, 778, 1498, 2087, 1317, 363, 1854, 1934, 1388, 1806, 798, 2023, 687, 741, 855, 533, 1460, 82, 1432, 1071, 1515, 489, 1706, 1931, 1216, 1473, 1697, 148, 1979, 1393, 1095, 1939, 1647, 221, 1184, 1343, 86, 1604, 2024, 403, 776, 1307, 258, 1199, 1505, 145, 1966, 1954, 31, 326, 366, 215, 1586, 1197, 1100, 1947, 1117, 151, 928, 1793, 1311, 2005, 335, 554, 2149, 990, 204, 109, 432, 1679, 1794, 1946, 1789, 497, 577, 1108, 1514, 160, 1318]\n",
      "[1679, 1794, 1946, 1789, 497, 577, 1108, 1514, 160, 1318]\n"
     ]
    },
    {
     "data": {
      "text/html": [
       "<style type=\"text/css\">\n",
       "#T_3febf_row0_col0, #T_3febf_row1_col1, #T_3febf_row2_col2, #T_3febf_row3_col3, #T_3febf_row4_col4, #T_3febf_row5_col5, #T_3febf_row6_col6, #T_3febf_row7_col7, #T_3febf_row8_col8, #T_3febf_row9_col9 {\n",
       "  background-color: #08306b;\n",
       "  color: #f1f1f1;\n",
       "}\n",
       "#T_3febf_row0_col1, #T_3febf_row4_col2 {\n",
       "  background-color: #f2f8fd;\n",
       "  color: #000000;\n",
       "}\n",
       "#T_3febf_row0_col2, #T_3febf_row0_col4 {\n",
       "  background-color: #e9f2fa;\n",
       "  color: #000000;\n",
       "}\n",
       "#T_3febf_row0_col3, #T_3febf_row2_col4 {\n",
       "  background-color: #deebf7;\n",
       "  color: #000000;\n",
       "}\n",
       "#T_3febf_row0_col5, #T_3febf_row3_col5 {\n",
       "  background-color: #d6e6f4;\n",
       "  color: #000000;\n",
       "}\n",
       "#T_3febf_row0_col6, #T_3febf_row2_col8, #T_3febf_row7_col5 {\n",
       "  background-color: #dceaf6;\n",
       "  color: #000000;\n",
       "}\n",
       "#T_3febf_row0_col7, #T_3febf_row9_col7 {\n",
       "  background-color: #d9e8f5;\n",
       "  color: #000000;\n",
       "}\n",
       "#T_3febf_row0_col8 {\n",
       "  background-color: #d8e7f5;\n",
       "  color: #000000;\n",
       "}\n",
       "#T_3febf_row0_col9, #T_3febf_row3_col9 {\n",
       "  background-color: #c7dcef;\n",
       "  color: #000000;\n",
       "}\n",
       "#T_3febf_row1_col0, #T_3febf_row2_col6, #T_3febf_row3_col1, #T_3febf_row7_col2, #T_3febf_row7_col6 {\n",
       "  background-color: #eef5fc;\n",
       "  color: #000000;\n",
       "}\n",
       "#T_3febf_row1_col2, #T_3febf_row4_col0, #T_3febf_row4_col5, #T_3febf_row4_col7, #T_3febf_row4_col8, #T_3febf_row4_col9, #T_3febf_row6_col2, #T_3febf_row6_col3, #T_3febf_row7_col1, #T_3febf_row8_col1, #T_3febf_row8_col6, #T_3febf_row9_col4 {\n",
       "  background-color: #f7fbff;\n",
       "  color: #000000;\n",
       "}\n",
       "#T_3febf_row1_col3, #T_3febf_row1_col8, #T_3febf_row8_col3 {\n",
       "  background-color: #e7f1fa;\n",
       "  color: #000000;\n",
       "}\n",
       "#T_3febf_row1_col4, #T_3febf_row1_col9, #T_3febf_row3_col8, #T_3febf_row5_col3, #T_3febf_row6_col0 {\n",
       "  background-color: #dfecf7;\n",
       "  color: #000000;\n",
       "}\n",
       "#T_3febf_row1_col5, #T_3febf_row9_col2 {\n",
       "  background-color: #e3eef8;\n",
       "  color: #000000;\n",
       "}\n",
       "#T_3febf_row1_col6, #T_3febf_row4_col3 {\n",
       "  background-color: #edf4fc;\n",
       "  color: #000000;\n",
       "}\n",
       "#T_3febf_row1_col7, #T_3febf_row8_col2 {\n",
       "  background-color: #ecf4fb;\n",
       "  color: #000000;\n",
       "}\n",
       "#T_3febf_row2_col0 {\n",
       "  background-color: #e3eef9;\n",
       "  color: #000000;\n",
       "}\n",
       "#T_3febf_row2_col1, #T_3febf_row5_col4 {\n",
       "  background-color: #f5fafe;\n",
       "  color: #000000;\n",
       "}\n",
       "#T_3febf_row2_col3, #T_3febf_row2_col5, #T_3febf_row7_col0 {\n",
       "  background-color: #dfebf7;\n",
       "  color: #000000;\n",
       "}\n",
       "#T_3febf_row2_col7, #T_3febf_row3_col4 {\n",
       "  background-color: #e1edf8;\n",
       "  color: #000000;\n",
       "}\n",
       "#T_3febf_row2_col9, #T_3febf_row6_col4, #T_3febf_row7_col8 {\n",
       "  background-color: #d0e2f2;\n",
       "  color: #000000;\n",
       "}\n",
       "#T_3febf_row3_col0 {\n",
       "  background-color: #e0ecf8;\n",
       "  color: #000000;\n",
       "}\n",
       "#T_3febf_row3_col2 {\n",
       "  background-color: #e7f0fa;\n",
       "  color: #000000;\n",
       "}\n",
       "#T_3febf_row3_col6 {\n",
       "  background-color: #f6faff;\n",
       "  color: #000000;\n",
       "}\n",
       "#T_3febf_row3_col7, #T_3febf_row5_col0, #T_3febf_row5_col7, #T_3febf_row6_col5, #T_3febf_row8_col0 {\n",
       "  background-color: #e2edf8;\n",
       "  color: #000000;\n",
       "}\n",
       "#T_3febf_row4_col1, #T_3febf_row9_col1 {\n",
       "  background-color: #f2f7fd;\n",
       "  color: #000000;\n",
       "}\n",
       "#T_3febf_row4_col6 {\n",
       "  background-color: #dae8f6;\n",
       "  color: #000000;\n",
       "}\n",
       "#T_3febf_row5_col1 {\n",
       "  background-color: #f4f9fe;\n",
       "  color: #000000;\n",
       "}\n",
       "#T_3febf_row5_col2 {\n",
       "  background-color: #f1f7fd;\n",
       "  color: #000000;\n",
       "}\n",
       "#T_3febf_row5_col6, #T_3febf_row6_col7 {\n",
       "  background-color: #eaf3fb;\n",
       "  color: #000000;\n",
       "}\n",
       "#T_3febf_row5_col8 {\n",
       "  background-color: #cee0f2;\n",
       "  color: #000000;\n",
       "}\n",
       "#T_3febf_row5_col9, #T_3febf_row8_col9 {\n",
       "  background-color: #c9ddf0;\n",
       "  color: #000000;\n",
       "}\n",
       "#T_3febf_row6_col1 {\n",
       "  background-color: #f5f9fe;\n",
       "  color: #000000;\n",
       "}\n",
       "#T_3febf_row6_col8, #T_3febf_row9_col6 {\n",
       "  background-color: #f0f6fd;\n",
       "  color: #000000;\n",
       "}\n",
       "#T_3febf_row6_col9 {\n",
       "  background-color: #e5eff9;\n",
       "  color: #000000;\n",
       "}\n",
       "#T_3febf_row7_col3 {\n",
       "  background-color: #e6f0f9;\n",
       "  color: #000000;\n",
       "}\n",
       "#T_3febf_row7_col4 {\n",
       "  background-color: #eff6fc;\n",
       "  color: #000000;\n",
       "}\n",
       "#T_3febf_row7_col9, #T_3febf_row9_col0 {\n",
       "  background-color: #d3e3f3;\n",
       "  color: #000000;\n",
       "}\n",
       "#T_3febf_row8_col4 {\n",
       "  background-color: #f3f8fe;\n",
       "  color: #000000;\n",
       "}\n",
       "#T_3febf_row8_col5 {\n",
       "  background-color: #cddff1;\n",
       "  color: #000000;\n",
       "}\n",
       "#T_3febf_row8_col7 {\n",
       "  background-color: #d4e4f4;\n",
       "  color: #000000;\n",
       "}\n",
       "#T_3febf_row9_col3 {\n",
       "  background-color: #d1e2f3;\n",
       "  color: #000000;\n",
       "}\n",
       "#T_3febf_row9_col5 {\n",
       "  background-color: #cadef0;\n",
       "  color: #000000;\n",
       "}\n",
       "#T_3febf_row9_col8 {\n",
       "  background-color: #ccdff1;\n",
       "  color: #000000;\n",
       "}\n",
       "</style>\n",
       "<table id=\"T_3febf_\">\n",
       "  <thead>\n",
       "    <tr>\n",
       "      <th class=\"blank level0\" >&nbsp;</th>\n",
       "      <th class=\"col_heading level0 col0\" >ENSG00000087086</th>\n",
       "      <th class=\"col_heading level0 col1\" >ENSG00000089335</th>\n",
       "      <th class=\"col_heading level0 col2\" >ENSG00000093010</th>\n",
       "      <th class=\"col_heading level0 col3\" >ENSG00000089248</th>\n",
       "      <th class=\"col_heading level0 col4\" >ENSG00000034510</th>\n",
       "      <th class=\"col_heading level0 col5\" >ENSG00000042980</th>\n",
       "      <th class=\"col_heading level0 col6\" >ENSG00000070831</th>\n",
       "      <th class=\"col_heading level0 col7\" >ENSG00000081985</th>\n",
       "      <th class=\"col_heading level0 col8\" >ENSG00000007062</th>\n",
       "      <th class=\"col_heading level0 col9\" >ENSG00000076662</th>\n",
       "    </tr>\n",
       "  </thead>\n",
       "  <tbody>\n",
       "    <tr>\n",
       "      <th id=\"T_3febf_level0_row0\" class=\"row_heading level0 row0\" >ENSG00000087086</th>\n",
       "      <td id=\"T_3febf_row0_col0\" class=\"data row0 col0\" >1.000000</td>\n",
       "      <td id=\"T_3febf_row0_col1\" class=\"data row0 col1\" >-0.004874</td>\n",
       "      <td id=\"T_3febf_row0_col2\" class=\"data row0 col2\" >0.053663</td>\n",
       "      <td id=\"T_3febf_row0_col3\" class=\"data row0 col3\" >0.069793</td>\n",
       "      <td id=\"T_3febf_row0_col4\" class=\"data row0 col4\" >-0.052948</td>\n",
       "      <td id=\"T_3febf_row0_col5\" class=\"data row0 col5\" >0.058742</td>\n",
       "      <td id=\"T_3febf_row0_col6\" class=\"data row0 col6\" >0.071715</td>\n",
       "      <td id=\"T_3febf_row0_col7\" class=\"data row0 col7\" >0.074830</td>\n",
       "      <td id=\"T_3febf_row0_col8\" class=\"data row0 col8\" >0.062210</td>\n",
       "      <td id=\"T_3febf_row0_col9\" class=\"data row0 col9\" >0.142562</td>\n",
       "    </tr>\n",
       "    <tr>\n",
       "      <th id=\"T_3febf_level0_row1\" class=\"row_heading level0 row1\" >ENSG00000089335</th>\n",
       "      <td id=\"T_3febf_row1_col0\" class=\"data row1 col0\" >-0.004874</td>\n",
       "      <td id=\"T_3febf_row1_col1\" class=\"data row1 col1\" >1.000000</td>\n",
       "      <td id=\"T_3febf_row1_col2\" class=\"data row1 col2\" >-0.020912</td>\n",
       "      <td id=\"T_3febf_row1_col3\" class=\"data row1 col3\" >0.018021</td>\n",
       "      <td id=\"T_3febf_row1_col4\" class=\"data row1 col4\" >0.000013</td>\n",
       "      <td id=\"T_3febf_row1_col5\" class=\"data row1 col5\" >-0.012647</td>\n",
       "      <td id=\"T_3febf_row1_col6\" class=\"data row1 col6\" >-0.016092</td>\n",
       "      <td id=\"T_3febf_row1_col7\" class=\"data row1 col7\" >-0.031570</td>\n",
       "      <td id=\"T_3febf_row1_col8\" class=\"data row1 col8\" >-0.027550</td>\n",
       "      <td id=\"T_3febf_row1_col9\" class=\"data row1 col9\" >0.000126</td>\n",
       "    </tr>\n",
       "    <tr>\n",
       "      <th id=\"T_3febf_level0_row2\" class=\"row_heading level0 row2\" >ENSG00000093010</th>\n",
       "      <td id=\"T_3febf_row2_col0\" class=\"data row2 col0\" >0.053663</td>\n",
       "      <td id=\"T_3febf_row2_col1\" class=\"data row2 col1\" >-0.020912</td>\n",
       "      <td id=\"T_3febf_row2_col2\" class=\"data row2 col2\" >1.000000</td>\n",
       "      <td id=\"T_3febf_row2_col3\" class=\"data row2 col3\" >0.063630</td>\n",
       "      <td id=\"T_3febf_row2_col4\" class=\"data row2 col4\" >0.005627</td>\n",
       "      <td id=\"T_3febf_row2_col5\" class=\"data row2 col5\" >0.013052</td>\n",
       "      <td id=\"T_3febf_row2_col6\" class=\"data row2 col6\" >-0.019670</td>\n",
       "      <td id=\"T_3febf_row2_col7\" class=\"data row2 col7\" >0.030557</td>\n",
       "      <td id=\"T_3febf_row2_col8\" class=\"data row2 col8\" >0.034969</td>\n",
       "      <td id=\"T_3febf_row2_col9\" class=\"data row2 col9\" >0.085683</td>\n",
       "    </tr>\n",
       "    <tr>\n",
       "      <th id=\"T_3febf_level0_row3\" class=\"row_heading level0 row3\" >ENSG00000089248</th>\n",
       "      <td id=\"T_3febf_row3_col0\" class=\"data row3 col0\" >0.069793</td>\n",
       "      <td id=\"T_3febf_row3_col1\" class=\"data row3 col1\" >0.018021</td>\n",
       "      <td id=\"T_3febf_row3_col2\" class=\"data row3 col2\" >0.063630</td>\n",
       "      <td id=\"T_3febf_row3_col3\" class=\"data row3 col3\" >1.000000</td>\n",
       "      <td id=\"T_3febf_row3_col4\" class=\"data row3 col4\" >-0.009066</td>\n",
       "      <td id=\"T_3febf_row3_col5\" class=\"data row3 col5\" >0.059407</td>\n",
       "      <td id=\"T_3febf_row3_col6\" class=\"data row3 col6\" >-0.067170</td>\n",
       "      <td id=\"T_3febf_row3_col7\" class=\"data row3 col7\" >0.026542</td>\n",
       "      <td id=\"T_3febf_row3_col8\" class=\"data row3 col8\" >0.017909</td>\n",
       "      <td id=\"T_3febf_row3_col9\" class=\"data row3 col9\" >0.139798</td>\n",
       "    </tr>\n",
       "    <tr>\n",
       "      <th id=\"T_3febf_level0_row4\" class=\"row_heading level0 row4\" >ENSG00000034510</th>\n",
       "      <td id=\"T_3febf_row4_col0\" class=\"data row4 col0\" >-0.052948</td>\n",
       "      <td id=\"T_3febf_row4_col1\" class=\"data row4 col1\" >0.000013</td>\n",
       "      <td id=\"T_3febf_row4_col2\" class=\"data row4 col2\" >0.005627</td>\n",
       "      <td id=\"T_3febf_row4_col3\" class=\"data row4 col3\" >-0.009066</td>\n",
       "      <td id=\"T_3febf_row4_col4\" class=\"data row4 col4\" >1.000000</td>\n",
       "      <td id=\"T_3febf_row4_col5\" class=\"data row4 col5\" >-0.127325</td>\n",
       "      <td id=\"T_3febf_row4_col6\" class=\"data row4 col6\" >0.084873</td>\n",
       "      <td id=\"T_3febf_row4_col7\" class=\"data row4 col7\" >-0.091264</td>\n",
       "      <td id=\"T_3febf_row4_col8\" class=\"data row4 col8\" >-0.114975</td>\n",
       "      <td id=\"T_3febf_row4_col9\" class=\"data row4 col9\" >-0.137304</td>\n",
       "    </tr>\n",
       "    <tr>\n",
       "      <th id=\"T_3febf_level0_row5\" class=\"row_heading level0 row5\" >ENSG00000042980</th>\n",
       "      <td id=\"T_3febf_row5_col0\" class=\"data row5 col0\" >0.058742</td>\n",
       "      <td id=\"T_3febf_row5_col1\" class=\"data row5 col1\" >-0.012647</td>\n",
       "      <td id=\"T_3febf_row5_col2\" class=\"data row5 col2\" >0.013052</td>\n",
       "      <td id=\"T_3febf_row5_col3\" class=\"data row5 col3\" >0.059407</td>\n",
       "      <td id=\"T_3febf_row5_col4\" class=\"data row5 col4\" >-0.127325</td>\n",
       "      <td id=\"T_3febf_row5_col5\" class=\"data row5 col5\" >1.000000</td>\n",
       "      <td id=\"T_3febf_row5_col6\" class=\"data row5 col6\" >-0.004289</td>\n",
       "      <td id=\"T_3febf_row5_col7\" class=\"data row5 col7\" >0.026783</td>\n",
       "      <td id=\"T_3febf_row5_col8\" class=\"data row5 col8\" >0.117825</td>\n",
       "      <td id=\"T_3febf_row5_col9\" class=\"data row5 col9\" >0.130174</td>\n",
       "    </tr>\n",
       "    <tr>\n",
       "      <th id=\"T_3febf_level0_row6\" class=\"row_heading level0 row6\" >ENSG00000070831</th>\n",
       "      <td id=\"T_3febf_row6_col0\" class=\"data row6 col0\" >0.071715</td>\n",
       "      <td id=\"T_3febf_row6_col1\" class=\"data row6 col1\" >-0.016092</td>\n",
       "      <td id=\"T_3febf_row6_col2\" class=\"data row6 col2\" >-0.019670</td>\n",
       "      <td id=\"T_3febf_row6_col3\" class=\"data row6 col3\" >-0.067170</td>\n",
       "      <td id=\"T_3febf_row6_col4\" class=\"data row6 col4\" >0.084873</td>\n",
       "      <td id=\"T_3febf_row6_col5\" class=\"data row6 col5\" >-0.004289</td>\n",
       "      <td id=\"T_3febf_row6_col6\" class=\"data row6 col6\" >1.000000</td>\n",
       "      <td id=\"T_3febf_row6_col7\" class=\"data row6 col7\" >-0.019235</td>\n",
       "      <td id=\"T_3febf_row6_col8\" class=\"data row6 col8\" >-0.072706</td>\n",
       "      <td id=\"T_3febf_row6_col9\" class=\"data row6 col9\" >-0.031789</td>\n",
       "    </tr>\n",
       "    <tr>\n",
       "      <th id=\"T_3febf_level0_row7\" class=\"row_heading level0 row7\" >ENSG00000081985</th>\n",
       "      <td id=\"T_3febf_row7_col0\" class=\"data row7 col0\" >0.074830</td>\n",
       "      <td id=\"T_3febf_row7_col1\" class=\"data row7 col1\" >-0.031570</td>\n",
       "      <td id=\"T_3febf_row7_col2\" class=\"data row7 col2\" >0.030557</td>\n",
       "      <td id=\"T_3febf_row7_col3\" class=\"data row7 col3\" >0.026542</td>\n",
       "      <td id=\"T_3febf_row7_col4\" class=\"data row7 col4\" >-0.091264</td>\n",
       "      <td id=\"T_3febf_row7_col5\" class=\"data row7 col5\" >0.026783</td>\n",
       "      <td id=\"T_3febf_row7_col6\" class=\"data row7 col6\" >-0.019235</td>\n",
       "      <td id=\"T_3febf_row7_col7\" class=\"data row7 col7\" >1.000000</td>\n",
       "      <td id=\"T_3febf_row7_col8\" class=\"data row7 col8\" >0.102939</td>\n",
       "      <td id=\"T_3febf_row7_col9\" class=\"data row7 col9\" >0.074329</td>\n",
       "    </tr>\n",
       "    <tr>\n",
       "      <th id=\"T_3febf_level0_row8\" class=\"row_heading level0 row8\" >ENSG00000007062</th>\n",
       "      <td id=\"T_3febf_row8_col0\" class=\"data row8 col0\" >0.062210</td>\n",
       "      <td id=\"T_3febf_row8_col1\" class=\"data row8 col1\" >-0.027550</td>\n",
       "      <td id=\"T_3febf_row8_col2\" class=\"data row8 col2\" >0.034969</td>\n",
       "      <td id=\"T_3febf_row8_col3\" class=\"data row8 col3\" >0.017909</td>\n",
       "      <td id=\"T_3febf_row8_col4\" class=\"data row8 col4\" >-0.114975</td>\n",
       "      <td id=\"T_3febf_row8_col5\" class=\"data row8 col5\" >0.117825</td>\n",
       "      <td id=\"T_3febf_row8_col6\" class=\"data row8 col6\" >-0.072706</td>\n",
       "      <td id=\"T_3febf_row8_col7\" class=\"data row8 col7\" >0.102939</td>\n",
       "      <td id=\"T_3febf_row8_col8\" class=\"data row8 col8\" >1.000000</td>\n",
       "      <td id=\"T_3febf_row8_col9\" class=\"data row8 col9\" >0.133103</td>\n",
       "    </tr>\n",
       "    <tr>\n",
       "      <th id=\"T_3febf_level0_row9\" class=\"row_heading level0 row9\" >ENSG00000076662</th>\n",
       "      <td id=\"T_3febf_row9_col0\" class=\"data row9 col0\" >0.142562</td>\n",
       "      <td id=\"T_3febf_row9_col1\" class=\"data row9 col1\" >0.000126</td>\n",
       "      <td id=\"T_3febf_row9_col2\" class=\"data row9 col2\" >0.085683</td>\n",
       "      <td id=\"T_3febf_row9_col3\" class=\"data row9 col3\" >0.139798</td>\n",
       "      <td id=\"T_3febf_row9_col4\" class=\"data row9 col4\" >-0.137304</td>\n",
       "      <td id=\"T_3febf_row9_col5\" class=\"data row9 col5\" >0.130174</td>\n",
       "      <td id=\"T_3febf_row9_col6\" class=\"data row9 col6\" >-0.031789</td>\n",
       "      <td id=\"T_3febf_row9_col7\" class=\"data row9 col7\" >0.074329</td>\n",
       "      <td id=\"T_3febf_row9_col8\" class=\"data row9 col8\" >0.133103</td>\n",
       "      <td id=\"T_3febf_row9_col9\" class=\"data row9 col9\" >1.000000</td>\n",
       "    </tr>\n",
       "  </tbody>\n",
       "</table>\n"
      ],
      "text/plain": [
       "<pandas.io.formats.style.Styler at 0x7fc6c7a99850>"
      ]
     },
     "execution_count": 50,
     "metadata": {},
     "output_type": "execute_result"
    }
   ],
   "source": [
    "#Select the 100 features having the largest 100 magnitude correlation values with the class label\n",
    "def corr(X,y):\n",
    "    corr = []\n",
    "    for i in range(len(y)):\n",
    "        corr.append(abs(pearsonr(X.iloc[:,i], y)[0])) \n",
    "    c = sorted(range(len(corr)), key=lambda x: corr[x])[-100:]\n",
    "    return c\n",
    "c_method1 = corr(X,y)\n",
    "print(c_method1)\n",
    "\n",
    "#X with selected features\n",
    "X_method1 = X.iloc[:,c_method1[-10:]]\n",
    "print(c_method1[-10:])\n",
    "\n",
    "# From the selected top 10 features, observe the correlations between features.\n",
    "# Correlation map: display the correlation coefficients\n",
    "X_method1.corr().style.background_gradient(cmap=\"Blues\")"
   ]
  },
  {
   "cell_type": "code",
   "execution_count": 118,
   "id": "7a5ecb97",
   "metadata": {},
   "outputs": [
    {
     "name": "stdout",
     "output_type": "stream",
     "text": [
      "Top 10 features: ['ENSG00000087086', 'ENSG00000089335', 'ENSG00000093010', 'ENSG00000089248', 'ENSG00000034510', 'ENSG00000042980', 'ENSG00000070831', 'ENSG00000081985', 'ENSG00000007062', 'ENSG00000076662']\n"
     ]
    }
   ],
   "source": [
    "X_10 = list(data.index[c[-10:]])\n",
    "print('Top 10 features:', X_10)"
   ]
  },
  {
   "cell_type": "code",
   "execution_count": 81,
   "id": "4528b4ef",
   "metadata": {},
   "outputs": [
    {
     "name": "stdout",
     "output_type": "stream",
     "text": [
      "[0.91183295 0.90930233 0.90930233 0.91162791 0.91395349]\n",
      "accuracy: 0.9112037986294718\n",
      "Error Rate: 0.08879620137052824\n"
     ]
    }
   ],
   "source": [
    "### Show that we cannot use accuracy as the performance metric\n",
    "X_new = X.iloc[:,c]\n",
    "\n",
    "#Estimate the performance of nearest neighbor classifier using k-fold cross-validation\n",
    "k = 5\n",
    "n_neighbors = 2\n",
    "knn = KNeighborsClassifier(n_neighbors = n_neighbors)\n",
    "scores = cross_val_score(knn, X_new, y, cv=k, scoring='accuracy')\n",
    "accuracy = scores.mean()\n",
    "erorr_rate = 1 - accuracy\n",
    "\n",
    "print(scores)\n",
    "print('accuracy:', accuracy)\n",
    "print('Error Rate:', erorr_rate)\n",
    "\n",
    "### Accuracy is not a good measurement since the date is highly imbalanced\n",
    "### Also, 1NN is too simple\n",
    "### Might need to use regression"
   ]
  },
  {
   "cell_type": "code",
   "execution_count": 79,
   "id": "c916542a",
   "metadata": {},
   "outputs": [
    {
     "name": "stdout",
     "output_type": "stream",
     "text": [
      "[0.16666667 0.26415094 0.14925373 0.21818182 0.14925373]\n",
      "F-1 Score: 0.1895013781862557\n"
     ]
    }
   ],
   "source": [
    "k = 5\n",
    "n_neighbors = 1\n",
    "knn = KNeighborsClassifier(n_neighbors = n_neighbors)\n",
    "scores = cross_val_score(knn, X_new, y, cv=k, scoring='f1')\n",
    "f1_score = scores.mean()\n",
    "erorr_rate = 1 - accuracy\n",
    "\n",
    "print(scores)\n",
    "print('F-1 Score:', f1_score)\n",
    "# print('Error Rate:', erorr_rate)\n"
   ]
  },
  {
   "cell_type": "code",
   "execution_count": 82,
   "id": "2c38c895",
   "metadata": {},
   "outputs": [
    {
     "name": "stderr",
     "output_type": "stream",
     "text": [
      "/opt/anaconda3/lib/python3.8/site-packages/scipy/stats/stats.py:4023: PearsonRConstantInputWarning: An input array is constant; the correlation coefficient is not defined.\n",
      "  warnings.warn(PearsonRConstantInputWarning())\n"
     ]
    },
    {
     "name": "stdout",
     "output_type": "stream",
     "text": [
      "[0.9187935034802784, 0.8883720930232558, 0.9023255813953488, 0.9209302325581395, 0.9209302325581395]\n",
      "accuracy: 0.9102703286030325\n",
      "Error Rate: 0.08972967139696753\n"
     ]
    }
   ],
   "source": [
    "#Select the 100 features having the largest 100 magnitude correlation values with the class label for the (k-1)/k fraction of samples\n",
    "k = 5\n",
    "scores_2 = []\n",
    "#We will split the dataset into 4 batches, the training set will include 3 of the 4 batches, which is 3/4 of all sample data.\n",
    "kf = KFold(n_splits=k, shuffle=True)\n",
    "for train_index, test_index in kf.split(X):\n",
    "    X_train, X_test = X.iloc[train_index], X.iloc[test_index]\n",
    "    y_train, y_test = y[train_index], y[test_index]\n",
    "\n",
    "    result1c = corr(X_train, y_train)\n",
    "    #Use the selected features to classify each held-out sample\n",
    "    X_selected = X_train.iloc[:,result1c]\n",
    "    X_test = X_test.iloc[:,result1c]\n",
    "    knn = KNeighborsClassifier(n_neighbors=n_neighbors)\n",
    "    knn.fit(X_selected, y_train)\n",
    "    y_pred = knn.predict(X_test)\n",
    "    scores_2.append(knn.score(X_test, y_test))\n",
    "acc = np.mean(scores_2)\n",
    "print(scores_2)\n",
    "print('accuracy:', acc)\n",
    "\n",
    "#Error Rate\n",
    "err = 1- acc\n",
    "print('Error Rate:', err)"
   ]
  },
  {
   "cell_type": "code",
   "execution_count": 22,
   "id": "46f37197",
   "metadata": {},
   "outputs": [],
   "source": [
    "#Split the data by class\n",
    "index = [i for i in range(len(y)) if y[i] == 0]   #Get the set for class 0\n",
    "X_class0 = data.iloc[:,index]\n",
    "y_class0 = y[index]\n",
    "\n",
    "\n",
    "index = [i for i in range(len(y)) if y[i] == 1]   #Get the set for class 1\n",
    "X_class1 = data.iloc[:,index]\n",
    "y_class1 = y[index]"
   ]
  },
  {
   "cell_type": "code",
   "execution_count": 95,
   "id": "22b449de",
   "metadata": {},
   "outputs": [
    {
     "name": "stdout",
     "output_type": "stream",
     "text": [
      "[4013, 16958, 15245, 6745, 12052, 8295, 2335, 18467, 16764, 20813, 17674, 19906, 5696, 7000, 16161, 17470, 21983, 26334, 3520, 14127, 1318, 11792, 4513, 2573, 14320, 14781, 577, 2617, 5003, 12882, 160, 4521, 26503, 24812, 24103, 12743, 16252, 14427, 4827, 2867, 19723, 16242, 5905, 11931, 7329, 2197, 23405, 4563, 9565, 11679, 9136, 12283, 4302, 17066, 15476, 5441, 9577, 5332, 7901, 6270, 8402, 4120, 17111, 4016, 12472, 19735, 15497, 23229, 1108, 14869, 2023, 2771, 2298, 10763, 11312, 109, 5936, 19390, 23931, 7673, 9241, 8693, 24558, 14828, 204, 17049, 24660, 11670, 19668, 3292, 22509, 4971, 20718, 15987, 11256, 7981, 497, 7466, 8711, 5669]\n",
      "Top 10 features: Index(['ENSG00000113369', 'ENSG00000213058', 'ENSG00000188404',\n",
      "       'ENSG00000135535', 'ENSG00000170345', 'ENSG00000145708',\n",
      "       'ENSG00000100906', 'ENSG00000224114', 'ENSG00000205940',\n",
      "       'ENSG00000233913'],\n",
      "      dtype='object')\n"
     ]
    }
   ],
   "source": [
    "#Select the top 100 most differentially expressed genes/features. (smallest p-value)\n",
    "#Use all samples\n",
    "ranksum = []\n",
    "for i in range(X_class0.shape[0]):\n",
    "    ranksum.append(ranksums(X_class0.iloc[i], X_class1.iloc[i]).pvalue)\n",
    "result = sorted(range(len(ranksum)), key=lambda x: ranksum[x])[:100]\n",
    "print(result)\n",
    "\n",
    "#Print top 10 features\n",
    "X_10 = list(X.index[result[:10]])\n",
    "print('Top 10 features:', X_10)"
   ]
  },
  {
   "cell_type": "code",
   "execution_count": 97,
   "id": "5a54b550",
   "metadata": {},
   "outputs": [],
   "source": [
    "#Select the most differentially expressed genes/features. (p-value <= 0.05)\n",
    "#Use all sample\n",
    "dict = {}\n",
    "for i in range(X_class0.shape[0]):\n",
    "    p = ranksums(X_class0.iloc[i], X_class1.iloc[i]).pvalue\n",
    "    if p <= 0.05:\n",
    "        dict[i] = p\n",
    "\n",
    "index1 = dict.keys()\n"
   ]
  },
  {
   "cell_type": "code",
   "execution_count": null,
   "id": "181dd592",
   "metadata": {},
   "outputs": [],
   "source": [
    "print(list(index1))"
   ]
  },
  {
   "cell_type": "code",
   "execution_count": null,
   "id": "48dc4cb1",
   "metadata": {},
   "outputs": [],
   "source": [
    "#Select the most differentially expressed genes/features. (adjusted p-value <= 0.03)\n",
    "#Use all samples\n",
    "index2 = []\n",
    "for i in range(X_class0.shape[0]):\n",
    "    p = ranksums(X_class0.iloc[i], X_class1.iloc[i]).pvalue\n",
    "    if p <= 0.03:\n",
    "        index2.append(i)\n",
    "\n",
    "print(list(index2))"
   ]
  },
  {
   "cell_type": "code",
   "execution_count": 101,
   "id": "182c1ff8",
   "metadata": {},
   "outputs": [
    {
     "data": {
      "text/plain": [
       "3067"
      ]
     },
     "execution_count": 101,
     "metadata": {},
     "output_type": "execute_result"
    }
   ],
   "source": [
    "len(dict)"
   ]
  },
  {
   "cell_type": "code",
   "execution_count": 24,
   "id": "bc9ab7fa",
   "metadata": {},
   "outputs": [
    {
     "data": {
      "text/plain": [
       "2480"
      ]
     },
     "execution_count": 24,
     "metadata": {},
     "output_type": "execute_result"
    }
   ],
   "source": [
    "len(index2)"
   ]
  },
  {
   "cell_type": "code",
   "execution_count": 16,
   "id": "b7cd5e82",
   "metadata": {},
   "outputs": [],
   "source": [
    "#Get the set for class 0\n",
    "index = [i for i in range(len(y)) if y[i] == 0]\n",
    "data_class0 = data.iloc[:,index]\n",
    "y_class0 = y[index]\n",
    "\n",
    "#Get the set for class 1\n",
    "index = [i for i in range(len(y)) if y[i] == 1]\n",
    "data_class1 = data.iloc[:,index]\n",
    "y_class1 = y[index]\n",
    "\n",
    "# Split Data into training and testing set\n",
    "# Validation will be automatically split when evaluating model with cv\n",
    "X_train0, X_test0, y_train0, y_test0 = train_test_split(data_class0.T, y_class0, test_size=0.3, shuffle=False)\n",
    "X_train1, X_test1, y_train1, y_test1 = train_test_split(data_class1.T, y_class1, test_size=0.3, shuffle=False)\n",
    "X_train = pd.concat([X_train0, X_train1])\n",
    "X_test = pd.concat([X_test0, X_test1])\n",
    "y_train = np.concatenate((y_train0, y_train1))\n",
    "y_test = np.concatenate((y_test0, y_test1))"
   ]
  },
  {
   "cell_type": "code",
   "execution_count": 17,
   "id": "2777b13d",
   "metadata": {},
   "outputs": [
    {
     "name": "stdout",
     "output_type": "stream",
     "text": [
      "[160, 215, 366, 577, 1108, 1117, 1276, 1318, 1679, 1706, 1954, 2048, 2197, 2298, 2335, 2573, 2617, 2771, 2849, 2858, 3034, 3303, 3472, 3520, 3673, 3816, 4013, 4034, 4120, 4302, 4369, 4513, 4521, 4563, 4569, 4827, 4893, 5003, 5332, 5441, 5669, 5696, 5905, 5936, 6270, 6733, 6745, 6866, 7000, 7043, 7145, 7275, 7284, 7329, 7466, 7517, 7645, 7891, 8066, 8266, 8295, 8402, 8693, 8711, 9241, 9402, 9563, 9565, 9997, 10102, 10138, 10763, 11256, 11469, 11483, 11670, 11679, 11792, 11931, 12052, 12160, 12472, 12692, 12743, 12882, 13066, 13084, 13489, 13498, 13521, 13594, 14127, 14153, 14320, 14427, 14586, 14595, 14753, 14776, 14781, 14828, 14941, 15245, 15476, 15497, 15733, 15987, 16161, 16242, 16252, 16475, 16628, 16764, 16819, 16917, 16958, 17049, 17066, 17111, 17470, 17674, 18415, 18467, 18574, 18934, 19096, 19297, 19668, 19906, 20718, 20813, 21689, 21983, 22540, 22616, 22699, 23289, 23405, 23739, 23931, 24103, 24410, 24558, 24812, 25376, 26208, 26236, 26334, 26500, 26503, 26742]\n"
     ]
    }
   ],
   "source": [
    "import statsmodels.stats.multitest as smt\n",
    "#Select the most differentially expressed genes/features. (adjusted p-value <= 0.03)\n",
    "#Use only training set\n",
    "# index3 = []\n",
    "p_val = []\n",
    "for i in range(X_train0.shape[1]):\n",
    "    p = ranksums(X_train0.iloc[:,i], X_train1.iloc[:,i]).pvalue\n",
    "    p_val.append(p)\n",
    "    # if p <= 0.03:\n",
    "    #     index3.append(i)\n",
    "\n",
    "index4 = []\n",
    "adj_p = smt.multipletests(p_val, alpha = 0.03)\n",
    "for index, j in enumerate(adj_p[1]):\n",
    "    if j <= 0.03: \n",
    "        index4.append(index)\n",
    "\n",
    "# print(list(index3))\n",
    "print(list(index4))"
   ]
  },
  {
   "cell_type": "code",
   "execution_count": 18,
   "id": "3a4fb3ae",
   "metadata": {},
   "outputs": [
    {
     "name": "stdout",
     "output_type": "stream",
     "text": [
      "Top 10 features: ['ENSG00000100906', 'ENSG00000109321', 'ENSG00000113369', 'ENSG00000135535', 'ENSG00000145708', 'ENSG00000170345', 'ENSG00000188404', 'ENSG00000205940', 'ENSG00000213058', 'ENSG00000214263']\n"
     ]
    }
   ],
   "source": [
    "result = sorted(range(len(adj_p[1])), key=lambda x: adj_p[1][x])[:10]\n",
    "#Print top 10 features\n",
    "X_10 = list(data.index[result])\n",
    "print('Top 10 features:', X_10)\n"
   ]
  },
  {
   "cell_type": "code",
   "execution_count": 19,
   "id": "a83d9976",
   "metadata": {},
   "outputs": [
    {
     "data": {
      "text/plain": [
       "151"
      ]
     },
     "execution_count": 19,
     "metadata": {},
     "output_type": "execute_result"
    }
   ],
   "source": [
    "len(index4)"
   ]
  },
  {
   "cell_type": "code",
   "execution_count": 28,
   "id": "4585b452",
   "metadata": {},
   "outputs": [
    {
     "data": {
      "text/plain": [
       "(2151, 151)"
      ]
     },
     "execution_count": 28,
     "metadata": {},
     "output_type": "execute_result"
    }
   ],
   "source": [
    "X.iloc[:,index4].shape"
   ]
  },
  {
   "cell_type": "code",
   "execution_count": 29,
   "id": "dc67bdd5",
   "metadata": {},
   "outputs": [
    {
     "name": "stdout",
     "output_type": "stream",
     "text": [
      "[48, 135, 29, 126, 10, 34, 92, 150, 2, 89, 87, 1, 141, 101, 94, 5, 42, 80, 72, 113, 21, 90, 123, 28, 56, 33, 81, 91, 65, 145, 20, 110, 67, 116, 108, 38, 106, 8, 62, 73, 71, 98, 54, 53, 36, 44, 129, 137, 13, 64, 144, 103, 63, 16, 118, 3, 109, 61, 142, 4, 31, 125, 14, 146, 43, 139, 12, 32, 23, 77, 93, 40, 41, 78, 99, 143, 104, 149, 107, 37, 84, 60, 119, 132, 0, 76, 7, 140, 15, 120, 127, 112, 79, 128, 46, 102, 130, 26, 115, 117]\n",
      "[127, 112, 79, 128, 46, 102, 130, 26, 115, 117]\n"
     ]
    },
    {
     "data": {
      "text/html": [
       "<style type=\"text/css\">\n",
       "#T_9497d_row0_col0, #T_9497d_row1_col1, #T_9497d_row2_col2, #T_9497d_row3_col3, #T_9497d_row4_col4, #T_9497d_row5_col5, #T_9497d_row6_col6, #T_9497d_row7_col7, #T_9497d_row8_col8, #T_9497d_row9_col9 {\n",
       "  background-color: #08306b;\n",
       "  color: #f1f1f1;\n",
       "}\n",
       "#T_9497d_row0_col1, #T_9497d_row0_col3, #T_9497d_row0_col5, #T_9497d_row0_col7, #T_9497d_row2_col8, #T_9497d_row3_col7, #T_9497d_row4_col9, #T_9497d_row5_col0, #T_9497d_row5_col8, #T_9497d_row6_col0, #T_9497d_row6_col5, #T_9497d_row6_col9, #T_9497d_row8_col0, #T_9497d_row8_col1 {\n",
       "  background-color: #f5fafe;\n",
       "  color: #000000;\n",
       "}\n",
       "#T_9497d_row0_col2, #T_9497d_row1_col0, #T_9497d_row1_col3, #T_9497d_row1_col7, #T_9497d_row1_col9, #T_9497d_row3_col9, #T_9497d_row7_col0, #T_9497d_row7_col1, #T_9497d_row7_col4, #T_9497d_row8_col2, #T_9497d_row9_col2, #T_9497d_row9_col8 {\n",
       "  background-color: #f6faff;\n",
       "  color: #000000;\n",
       "}\n",
       "#T_9497d_row0_col4, #T_9497d_row5_col3, #T_9497d_row5_col4, #T_9497d_row8_col3 {\n",
       "  background-color: #eef5fc;\n",
       "  color: #000000;\n",
       "}\n",
       "#T_9497d_row0_col6, #T_9497d_row2_col5, #T_9497d_row2_col7, #T_9497d_row5_col6, #T_9497d_row7_col3, #T_9497d_row8_col6 {\n",
       "  background-color: #f5f9fe;\n",
       "  color: #000000;\n",
       "}\n",
       "#T_9497d_row0_col8, #T_9497d_row0_col9, #T_9497d_row1_col2, #T_9497d_row1_col6, #T_9497d_row1_col8, #T_9497d_row2_col9, #T_9497d_row3_col0, #T_9497d_row3_col1, #T_9497d_row3_col2, #T_9497d_row3_col4, #T_9497d_row4_col2, #T_9497d_row4_col3, #T_9497d_row4_col7, #T_9497d_row5_col2, #T_9497d_row5_col7, #T_9497d_row6_col1, #T_9497d_row6_col2, #T_9497d_row6_col8, #T_9497d_row7_col2, #T_9497d_row7_col5, #T_9497d_row7_col9, #T_9497d_row8_col9 {\n",
       "  background-color: #f7fbff;\n",
       "  color: #000000;\n",
       "}\n",
       "#T_9497d_row1_col4, #T_9497d_row3_col5 {\n",
       "  background-color: #eff6fc;\n",
       "  color: #000000;\n",
       "}\n",
       "#T_9497d_row1_col5 {\n",
       "  background-color: #ecf4fb;\n",
       "  color: #000000;\n",
       "}\n",
       "#T_9497d_row2_col0, #T_9497d_row2_col1, #T_9497d_row2_col6, #T_9497d_row3_col6, #T_9497d_row8_col5, #T_9497d_row9_col0, #T_9497d_row9_col7 {\n",
       "  background-color: #f4f9fe;\n",
       "  color: #000000;\n",
       "}\n",
       "#T_9497d_row2_col3, #T_9497d_row2_col4, #T_9497d_row4_col8, #T_9497d_row5_col9, #T_9497d_row6_col3, #T_9497d_row7_col8 {\n",
       "  background-color: #f3f8fe;\n",
       "  color: #000000;\n",
       "}\n",
       "#T_9497d_row3_col8, #T_9497d_row4_col1, #T_9497d_row6_col7, #T_9497d_row7_col6, #T_9497d_row8_col7, #T_9497d_row9_col4 {\n",
       "  background-color: #f1f7fd;\n",
       "  color: #000000;\n",
       "}\n",
       "#T_9497d_row4_col0, #T_9497d_row4_col5, #T_9497d_row6_col4, #T_9497d_row8_col4, #T_9497d_row9_col5 {\n",
       "  background-color: #f0f6fd;\n",
       "  color: #000000;\n",
       "}\n",
       "#T_9497d_row4_col6, #T_9497d_row9_col3, #T_9497d_row9_col6 {\n",
       "  background-color: #f2f7fd;\n",
       "  color: #000000;\n",
       "}\n",
       "#T_9497d_row5_col1 {\n",
       "  background-color: #ebf3fb;\n",
       "  color: #000000;\n",
       "}\n",
       "#T_9497d_row9_col1 {\n",
       "  background-color: #f2f8fd;\n",
       "  color: #000000;\n",
       "}\n",
       "</style>\n",
       "<table id=\"T_9497d_\">\n",
       "  <thead>\n",
       "    <tr>\n",
       "      <th class=\"blank level0\" >&nbsp;</th>\n",
       "      <th class=\"col_heading level0 col0\" >ENSG00000006327</th>\n",
       "      <th class=\"col_heading level0 col1\" >ENSG00000006007</th>\n",
       "      <th class=\"col_heading level0 col2\" >ENSG00000005108</th>\n",
       "      <th class=\"col_heading level0 col3\" >ENSG00000006377</th>\n",
       "      <th class=\"col_heading level0 col4\" >ENSG00000004142</th>\n",
       "      <th class=\"col_heading level0 col5\" >ENSG00000005801</th>\n",
       "      <th class=\"col_heading level0 col6\" >ENSG00000006451</th>\n",
       "      <th class=\"col_heading level0 col7\" >ENSG00000002746</th>\n",
       "      <th class=\"col_heading level0 col8\" >ENSG00000006025</th>\n",
       "      <th class=\"col_heading level0 col9\" >ENSG00000006047</th>\n",
       "    </tr>\n",
       "  </thead>\n",
       "  <tbody>\n",
       "    <tr>\n",
       "      <th id=\"T_9497d_level0_row0\" class=\"row_heading level0 row0\" >ENSG00000006327</th>\n",
       "      <td id=\"T_9497d_row0_col0\" class=\"data row0 col0\" >1.000000</td>\n",
       "      <td id=\"T_9497d_row0_col1\" class=\"data row0 col1\" >-0.015254</td>\n",
       "      <td id=\"T_9497d_row0_col2\" class=\"data row0 col2\" >-0.002465</td>\n",
       "      <td id=\"T_9497d_row0_col3\" class=\"data row0 col3\" >-0.019514</td>\n",
       "      <td id=\"T_9497d_row0_col4\" class=\"data row0 col4\" >0.016855</td>\n",
       "      <td id=\"T_9497d_row0_col5\" class=\"data row0 col5\" >-0.008994</td>\n",
       "      <td id=\"T_9497d_row0_col6\" class=\"data row0 col6\" >-0.009094</td>\n",
       "      <td id=\"T_9497d_row0_col7\" class=\"data row0 col7\" >-0.011787</td>\n",
       "      <td id=\"T_9497d_row0_col8\" class=\"data row0 col8\" >-0.007861</td>\n",
       "      <td id=\"T_9497d_row0_col9\" class=\"data row0 col9\" >-0.003014</td>\n",
       "    </tr>\n",
       "    <tr>\n",
       "      <th id=\"T_9497d_level0_row1\" class=\"row_heading level0 row1\" >ENSG00000006007</th>\n",
       "      <td id=\"T_9497d_row1_col0\" class=\"data row1 col0\" >-0.015254</td>\n",
       "      <td id=\"T_9497d_row1_col1\" class=\"data row1 col1\" >1.000000</td>\n",
       "      <td id=\"T_9497d_row1_col2\" class=\"data row1 col2\" >-0.007323</td>\n",
       "      <td id=\"T_9497d_row1_col3\" class=\"data row1 col3\" >-0.023503</td>\n",
       "      <td id=\"T_9497d_row1_col4\" class=\"data row1 col4\" >0.011977</td>\n",
       "      <td id=\"T_9497d_row1_col5\" class=\"data row1 col5\" >0.037124</td>\n",
       "      <td id=\"T_9497d_row1_col6\" class=\"data row1 col6\" >-0.022537</td>\n",
       "      <td id=\"T_9497d_row1_col7\" class=\"data row1 col7\" >-0.017565</td>\n",
       "      <td id=\"T_9497d_row1_col8\" class=\"data row1 col8\" >-0.011632</td>\n",
       "      <td id=\"T_9497d_row1_col9\" class=\"data row1 col9\" >0.001146</td>\n",
       "    </tr>\n",
       "    <tr>\n",
       "      <th id=\"T_9497d_level0_row2\" class=\"row_heading level0 row2\" >ENSG00000005108</th>\n",
       "      <td id=\"T_9497d_row2_col0\" class=\"data row2 col0\" >-0.002465</td>\n",
       "      <td id=\"T_9497d_row2_col1\" class=\"data row2 col1\" >-0.007323</td>\n",
       "      <td id=\"T_9497d_row2_col2\" class=\"data row2 col2\" >1.000000</td>\n",
       "      <td id=\"T_9497d_row2_col3\" class=\"data row2 col3\" >-0.005179</td>\n",
       "      <td id=\"T_9497d_row2_col4\" class=\"data row2 col4\" >-0.008220</td>\n",
       "      <td id=\"T_9497d_row2_col5\" class=\"data row2 col5\" >-0.007486</td>\n",
       "      <td id=\"T_9497d_row2_col6\" class=\"data row2 col6\" >-0.005258</td>\n",
       "      <td id=\"T_9497d_row2_col7\" class=\"data row2 col7\" >-0.008240</td>\n",
       "      <td id=\"T_9497d_row2_col8\" class=\"data row2 col8\" >-0.003151</td>\n",
       "      <td id=\"T_9497d_row2_col9\" class=\"data row2 col9\" >-0.001075</td>\n",
       "    </tr>\n",
       "    <tr>\n",
       "      <th id=\"T_9497d_level0_row3\" class=\"row_heading level0 row3\" >ENSG00000006377</th>\n",
       "      <td id=\"T_9497d_row3_col0\" class=\"data row3 col0\" >-0.019514</td>\n",
       "      <td id=\"T_9497d_row3_col1\" class=\"data row3 col1\" >-0.023503</td>\n",
       "      <td id=\"T_9497d_row3_col2\" class=\"data row3 col2\" >-0.005179</td>\n",
       "      <td id=\"T_9497d_row3_col3\" class=\"data row3 col3\" >1.000000</td>\n",
       "      <td id=\"T_9497d_row3_col4\" class=\"data row3 col4\" >-0.028758</td>\n",
       "      <td id=\"T_9497d_row3_col5\" class=\"data row3 col5\" >0.020657</td>\n",
       "      <td id=\"T_9497d_row3_col6\" class=\"data row3 col6\" >-0.006203</td>\n",
       "      <td id=\"T_9497d_row3_col7\" class=\"data row3 col7\" >-0.013436</td>\n",
       "      <td id=\"T_9497d_row3_col8\" class=\"data row3 col8\" >0.023046</td>\n",
       "      <td id=\"T_9497d_row3_col9\" class=\"data row3 col9\" >-0.000285</td>\n",
       "    </tr>\n",
       "    <tr>\n",
       "      <th id=\"T_9497d_level0_row4\" class=\"row_heading level0 row4\" >ENSG00000004142</th>\n",
       "      <td id=\"T_9497d_row4_col0\" class=\"data row4 col0\" >0.016855</td>\n",
       "      <td id=\"T_9497d_row4_col1\" class=\"data row4 col1\" >0.011977</td>\n",
       "      <td id=\"T_9497d_row4_col2\" class=\"data row4 col2\" >-0.008220</td>\n",
       "      <td id=\"T_9497d_row4_col3\" class=\"data row4 col3\" >-0.028758</td>\n",
       "      <td id=\"T_9497d_row4_col4\" class=\"data row4 col4\" >1.000000</td>\n",
       "      <td id=\"T_9497d_row4_col5\" class=\"data row4 col5\" >0.019173</td>\n",
       "      <td id=\"T_9497d_row4_col6\" class=\"data row4 col6\" >0.008636</td>\n",
       "      <td id=\"T_9497d_row4_col7\" class=\"data row4 col7\" >-0.022246</td>\n",
       "      <td id=\"T_9497d_row4_col8\" class=\"data row4 col8\" >0.009796</td>\n",
       "      <td id=\"T_9497d_row4_col9\" class=\"data row4 col9\" >0.005295</td>\n",
       "    </tr>\n",
       "    <tr>\n",
       "      <th id=\"T_9497d_level0_row5\" class=\"row_heading level0 row5\" >ENSG00000005801</th>\n",
       "      <td id=\"T_9497d_row5_col0\" class=\"data row5 col0\" >-0.008994</td>\n",
       "      <td id=\"T_9497d_row5_col1\" class=\"data row5 col1\" >0.037124</td>\n",
       "      <td id=\"T_9497d_row5_col2\" class=\"data row5 col2\" >-0.007486</td>\n",
       "      <td id=\"T_9497d_row5_col3\" class=\"data row5 col3\" >0.020657</td>\n",
       "      <td id=\"T_9497d_row5_col4\" class=\"data row5 col4\" >0.019173</td>\n",
       "      <td id=\"T_9497d_row5_col5\" class=\"data row5 col5\" >1.000000</td>\n",
       "      <td id=\"T_9497d_row5_col6\" class=\"data row5 col6\" >-0.008071</td>\n",
       "      <td id=\"T_9497d_row5_col7\" class=\"data row5 col7\" >-0.019953</td>\n",
       "      <td id=\"T_9497d_row5_col8\" class=\"data row5 col8\" >-0.003639</td>\n",
       "      <td id=\"T_9497d_row5_col9\" class=\"data row5 col9\" >0.016690</td>\n",
       "    </tr>\n",
       "    <tr>\n",
       "      <th id=\"T_9497d_level0_row6\" class=\"row_heading level0 row6\" >ENSG00000006451</th>\n",
       "      <td id=\"T_9497d_row6_col0\" class=\"data row6 col0\" >-0.009094</td>\n",
       "      <td id=\"T_9497d_row6_col1\" class=\"data row6 col1\" >-0.022537</td>\n",
       "      <td id=\"T_9497d_row6_col2\" class=\"data row6 col2\" >-0.005258</td>\n",
       "      <td id=\"T_9497d_row6_col3\" class=\"data row6 col3\" >-0.006203</td>\n",
       "      <td id=\"T_9497d_row6_col4\" class=\"data row6 col4\" >0.008636</td>\n",
       "      <td id=\"T_9497d_row6_col5\" class=\"data row6 col5\" >-0.008071</td>\n",
       "      <td id=\"T_9497d_row6_col6\" class=\"data row6 col6\" >1.000000</td>\n",
       "      <td id=\"T_9497d_row6_col7\" class=\"data row6 col7\" >0.009818</td>\n",
       "      <td id=\"T_9497d_row6_col8\" class=\"data row6 col8\" >-0.009812</td>\n",
       "      <td id=\"T_9497d_row6_col9\" class=\"data row6 col9\" >0.006838</td>\n",
       "    </tr>\n",
       "    <tr>\n",
       "      <th id=\"T_9497d_level0_row7\" class=\"row_heading level0 row7\" >ENSG00000002746</th>\n",
       "      <td id=\"T_9497d_row7_col0\" class=\"data row7 col0\" >-0.011787</td>\n",
       "      <td id=\"T_9497d_row7_col1\" class=\"data row7 col1\" >-0.017565</td>\n",
       "      <td id=\"T_9497d_row7_col2\" class=\"data row7 col2\" >-0.008240</td>\n",
       "      <td id=\"T_9497d_row7_col3\" class=\"data row7 col3\" >-0.013436</td>\n",
       "      <td id=\"T_9497d_row7_col4\" class=\"data row7 col4\" >-0.022246</td>\n",
       "      <td id=\"T_9497d_row7_col5\" class=\"data row7 col5\" >-0.019953</td>\n",
       "      <td id=\"T_9497d_row7_col6\" class=\"data row7 col6\" >0.009818</td>\n",
       "      <td id=\"T_9497d_row7_col7\" class=\"data row7 col7\" >1.000000</td>\n",
       "      <td id=\"T_9497d_row7_col8\" class=\"data row7 col8\" >0.009916</td>\n",
       "      <td id=\"T_9497d_row7_col9\" class=\"data row7 col9\" >-0.004488</td>\n",
       "    </tr>\n",
       "    <tr>\n",
       "      <th id=\"T_9497d_level0_row8\" class=\"row_heading level0 row8\" >ENSG00000006025</th>\n",
       "      <td id=\"T_9497d_row8_col0\" class=\"data row8 col0\" >-0.007861</td>\n",
       "      <td id=\"T_9497d_row8_col1\" class=\"data row8 col1\" >-0.011632</td>\n",
       "      <td id=\"T_9497d_row8_col2\" class=\"data row8 col2\" >-0.003151</td>\n",
       "      <td id=\"T_9497d_row8_col3\" class=\"data row8 col3\" >0.023046</td>\n",
       "      <td id=\"T_9497d_row8_col4\" class=\"data row8 col4\" >0.009796</td>\n",
       "      <td id=\"T_9497d_row8_col5\" class=\"data row8 col5\" >-0.003639</td>\n",
       "      <td id=\"T_9497d_row8_col6\" class=\"data row8 col6\" >-0.009812</td>\n",
       "      <td id=\"T_9497d_row8_col7\" class=\"data row8 col7\" >0.009916</td>\n",
       "      <td id=\"T_9497d_row8_col8\" class=\"data row8 col8\" >1.000000</td>\n",
       "      <td id=\"T_9497d_row8_col9\" class=\"data row8 col9\" >-0.003991</td>\n",
       "    </tr>\n",
       "    <tr>\n",
       "      <th id=\"T_9497d_level0_row9\" class=\"row_heading level0 row9\" >ENSG00000006047</th>\n",
       "      <td id=\"T_9497d_row9_col0\" class=\"data row9 col0\" >-0.003014</td>\n",
       "      <td id=\"T_9497d_row9_col1\" class=\"data row9 col1\" >0.001146</td>\n",
       "      <td id=\"T_9497d_row9_col2\" class=\"data row9 col2\" >-0.001075</td>\n",
       "      <td id=\"T_9497d_row9_col3\" class=\"data row9 col3\" >-0.000285</td>\n",
       "      <td id=\"T_9497d_row9_col4\" class=\"data row9 col4\" >0.005295</td>\n",
       "      <td id=\"T_9497d_row9_col5\" class=\"data row9 col5\" >0.016690</td>\n",
       "      <td id=\"T_9497d_row9_col6\" class=\"data row9 col6\" >0.006838</td>\n",
       "      <td id=\"T_9497d_row9_col7\" class=\"data row9 col7\" >-0.004488</td>\n",
       "      <td id=\"T_9497d_row9_col8\" class=\"data row9 col8\" >-0.003991</td>\n",
       "      <td id=\"T_9497d_row9_col9\" class=\"data row9 col9\" >1.000000</td>\n",
       "    </tr>\n",
       "  </tbody>\n",
       "</table>\n"
      ],
      "text/plain": [
       "<pandas.io.formats.style.Styler at 0x7fc6c1d88700>"
      ]
     },
     "execution_count": 29,
     "metadata": {},
     "output_type": "execute_result"
    }
   ],
   "source": [
    "def corr(X,y):\n",
    "    corr = []\n",
    "    for i in range(X.shape[1]):\n",
    "        corr.append(abs(pearsonr(X.iloc[:,i], y)[0])) \n",
    "    c = sorted(range(len(corr)), key=lambda x: corr[x])[-100:]\n",
    "    return c\n",
    "c = corr(X.iloc[:,index4],y)\n",
    "print(c)\n",
    "\n",
    "#X with selected features\n",
    "X_corr = X.iloc[:,c[-10:]]\n",
    "print(c[-10:])\n",
    "\n",
    "# From the selected top 10 features, observe the correlations between features.\n",
    "# Correlation map: display the correlation coefficients\n",
    "X_corr.corr().style.background_gradient(cmap=\"Blues\")"
   ]
  },
  {
   "cell_type": "code",
   "execution_count": 43,
   "id": "5a11d669",
   "metadata": {},
   "outputs": [
    {
     "name": "stdout",
     "output_type": "stream",
     "text": [
      "(2151, 100)\n",
      "Top 10 features: ['ENSG00000229091', 'ENSG00000205940', 'ENSG00000170345', 'ENSG00000230076', 'ENSG00000135535', 'ENSG00000188404', 'ENSG00000233913', 'ENSG00000113369', 'ENSG00000213058', 'ENSG00000213270']\n"
     ]
    }
   ],
   "source": [
    "X_final_features = X.iloc[:,index4].iloc[:,c]\n",
    "print(X_final_features.shape)\n",
    "X_10 = list(X_final_features.T.index)[-10:]\n",
    "print('Top 10 features:', X_10)\n"
   ]
  },
  {
   "cell_type": "markdown",
   "id": "0bdd576f",
   "metadata": {},
   "source": [
    "## Model Training"
   ]
  },
  {
   "cell_type": "code",
   "execution_count": 33,
   "id": "3586093e",
   "metadata": {},
   "outputs": [],
   "source": [
    "from sklearn.model_selection import cross_val_score\n",
    "from sklearn.model_selection import RepeatedStratifiedKFold\n",
    "from sklearn.linear_model import LogisticRegression"
   ]
  },
  {
   "cell_type": "code",
   "execution_count": 31,
   "id": "f42bba3a",
   "metadata": {},
   "outputs": [
    {
     "data": {
      "text/html": [
       "<div>\n",
       "<style scoped>\n",
       "    .dataframe tbody tr th:only-of-type {\n",
       "        vertical-align: middle;\n",
       "    }\n",
       "\n",
       "    .dataframe tbody tr th {\n",
       "        vertical-align: top;\n",
       "    }\n",
       "\n",
       "    .dataframe thead th {\n",
       "        text-align: right;\n",
       "    }\n",
       "</style>\n",
       "<table border=\"1\" class=\"dataframe\">\n",
       "  <thead>\n",
       "    <tr style=\"text-align: right;\">\n",
       "      <th></th>\n",
       "      <th>SRR3052083</th>\n",
       "      <th>SRR3052084</th>\n",
       "      <th>SRR3052085</th>\n",
       "      <th>SRR3052086</th>\n",
       "      <th>SRR3052087</th>\n",
       "      <th>SRR3052088</th>\n",
       "      <th>SRR3052089</th>\n",
       "      <th>SRR3052090</th>\n",
       "      <th>SRR3052091</th>\n",
       "      <th>SRR3052092</th>\n",
       "      <th>...</th>\n",
       "      <th>SRR5456187</th>\n",
       "      <th>SRR5456188</th>\n",
       "      <th>SRR5456189</th>\n",
       "      <th>SRR5456190</th>\n",
       "      <th>SRR5456191</th>\n",
       "      <th>SRR5456192</th>\n",
       "      <th>SRR5456193</th>\n",
       "      <th>SRR5456194</th>\n",
       "      <th>SRR5456195</th>\n",
       "      <th>SRR5456196</th>\n",
       "    </tr>\n",
       "  </thead>\n",
       "  <tbody>\n",
       "    <tr>\n",
       "      <th>ENSG00000000457</th>\n",
       "      <td>14.105330</td>\n",
       "      <td>45.350548</td>\n",
       "      <td>27.500156</td>\n",
       "      <td>24.328178</td>\n",
       "      <td>21.817270</td>\n",
       "      <td>15.758317</td>\n",
       "      <td>3.566042</td>\n",
       "      <td>19.376453</td>\n",
       "      <td>23.881630</td>\n",
       "      <td>37.535576</td>\n",
       "      <td>...</td>\n",
       "      <td>18.358406</td>\n",
       "      <td>1588.417800</td>\n",
       "      <td>40.131010</td>\n",
       "      <td>13.045530</td>\n",
       "      <td>34.460392</td>\n",
       "      <td>13.971558</td>\n",
       "      <td>27.200650</td>\n",
       "      <td>30.016335</td>\n",
       "      <td>12.008236</td>\n",
       "      <td>14.492656</td>\n",
       "    </tr>\n",
       "    <tr>\n",
       "      <th>ENSG00000001561</th>\n",
       "      <td>1.844266</td>\n",
       "      <td>0.000000</td>\n",
       "      <td>0.000000</td>\n",
       "      <td>0.000000</td>\n",
       "      <td>0.000000</td>\n",
       "      <td>678.772640</td>\n",
       "      <td>0.255180</td>\n",
       "      <td>670.084200</td>\n",
       "      <td>1.969075</td>\n",
       "      <td>630.539100</td>\n",
       "      <td>...</td>\n",
       "      <td>262.822720</td>\n",
       "      <td>0.000000</td>\n",
       "      <td>0.000000</td>\n",
       "      <td>0.000000</td>\n",
       "      <td>0.000000</td>\n",
       "      <td>0.000000</td>\n",
       "      <td>0.000000</td>\n",
       "      <td>0.000000</td>\n",
       "      <td>0.000000</td>\n",
       "      <td>0.000000</td>\n",
       "    </tr>\n",
       "    <tr>\n",
       "      <th>ENSG00000002016</th>\n",
       "      <td>0.922133</td>\n",
       "      <td>156.519320</td>\n",
       "      <td>1.601177</td>\n",
       "      <td>112.938820</td>\n",
       "      <td>1.302134</td>\n",
       "      <td>2.913187</td>\n",
       "      <td>0.765541</td>\n",
       "      <td>1.542196</td>\n",
       "      <td>0.000000</td>\n",
       "      <td>0.823158</td>\n",
       "      <td>...</td>\n",
       "      <td>0.000000</td>\n",
       "      <td>0.363453</td>\n",
       "      <td>7.933804</td>\n",
       "      <td>0.303850</td>\n",
       "      <td>0.819847</td>\n",
       "      <td>1.273660</td>\n",
       "      <td>4.596179</td>\n",
       "      <td>1.319836</td>\n",
       "      <td>0.000000</td>\n",
       "      <td>0.287090</td>\n",
       "    </tr>\n",
       "    <tr>\n",
       "      <th>ENSG00000003056</th>\n",
       "      <td>434.112880</td>\n",
       "      <td>0.000000</td>\n",
       "      <td>0.803775</td>\n",
       "      <td>638.390870</td>\n",
       "      <td>511.915650</td>\n",
       "      <td>586.804600</td>\n",
       "      <td>0.510361</td>\n",
       "      <td>0.000000</td>\n",
       "      <td>1101.268600</td>\n",
       "      <td>0.000000</td>\n",
       "      <td>...</td>\n",
       "      <td>104.363120</td>\n",
       "      <td>0.000000</td>\n",
       "      <td>0.258903</td>\n",
       "      <td>479.690000</td>\n",
       "      <td>2.049616</td>\n",
       "      <td>0.424553</td>\n",
       "      <td>13.788538</td>\n",
       "      <td>290.433780</td>\n",
       "      <td>5.087919</td>\n",
       "      <td>0.287090</td>\n",
       "    </tr>\n",
       "    <tr>\n",
       "      <th>ENSG00000003147</th>\n",
       "      <td>256.082730</td>\n",
       "      <td>0.000000</td>\n",
       "      <td>0.189454</td>\n",
       "      <td>27.471605</td>\n",
       "      <td>1.953201</td>\n",
       "      <td>707.540340</td>\n",
       "      <td>0.510361</td>\n",
       "      <td>0.000000</td>\n",
       "      <td>1.416437</td>\n",
       "      <td>1.024247</td>\n",
       "      <td>...</td>\n",
       "      <td>9.923048</td>\n",
       "      <td>0.363634</td>\n",
       "      <td>3.373493</td>\n",
       "      <td>0.000000</td>\n",
       "      <td>185.695240</td>\n",
       "      <td>121.459470</td>\n",
       "      <td>0.000000</td>\n",
       "      <td>471.181370</td>\n",
       "      <td>1.453691</td>\n",
       "      <td>1.909870</td>\n",
       "    </tr>\n",
       "    <tr>\n",
       "      <th>...</th>\n",
       "      <td>...</td>\n",
       "      <td>...</td>\n",
       "      <td>...</td>\n",
       "      <td>...</td>\n",
       "      <td>...</td>\n",
       "      <td>...</td>\n",
       "      <td>...</td>\n",
       "      <td>...</td>\n",
       "      <td>...</td>\n",
       "      <td>...</td>\n",
       "      <td>...</td>\n",
       "      <td>...</td>\n",
       "      <td>...</td>\n",
       "      <td>...</td>\n",
       "      <td>...</td>\n",
       "      <td>...</td>\n",
       "      <td>...</td>\n",
       "      <td>...</td>\n",
       "      <td>...</td>\n",
       "      <td>...</td>\n",
       "      <td>...</td>\n",
       "    </tr>\n",
       "    <tr>\n",
       "      <th>ENSG00000286001</th>\n",
       "      <td>3.954249</td>\n",
       "      <td>0.000000</td>\n",
       "      <td>3.343875</td>\n",
       "      <td>16.208473</td>\n",
       "      <td>25.249277</td>\n",
       "      <td>13.889814</td>\n",
       "      <td>187.463460</td>\n",
       "      <td>13.542480</td>\n",
       "      <td>4.006792</td>\n",
       "      <td>1.240002</td>\n",
       "      <td>...</td>\n",
       "      <td>9.056852</td>\n",
       "      <td>15.438485</td>\n",
       "      <td>0.000000</td>\n",
       "      <td>3.817992</td>\n",
       "      <td>0.000000</td>\n",
       "      <td>0.000000</td>\n",
       "      <td>0.000000</td>\n",
       "      <td>0.000000</td>\n",
       "      <td>2.990777</td>\n",
       "      <td>0.000000</td>\n",
       "    </tr>\n",
       "    <tr>\n",
       "      <th>ENSG00000286073</th>\n",
       "      <td>4.754004</td>\n",
       "      <td>0.000000</td>\n",
       "      <td>0.000000</td>\n",
       "      <td>0.000000</td>\n",
       "      <td>1.964281</td>\n",
       "      <td>0.000000</td>\n",
       "      <td>10.490871</td>\n",
       "      <td>0.000000</td>\n",
       "      <td>0.000000</td>\n",
       "      <td>0.000000</td>\n",
       "      <td>...</td>\n",
       "      <td>0.000000</td>\n",
       "      <td>0.000000</td>\n",
       "      <td>0.000000</td>\n",
       "      <td>0.000000</td>\n",
       "      <td>0.000000</td>\n",
       "      <td>0.000000</td>\n",
       "      <td>0.000000</td>\n",
       "      <td>0.000000</td>\n",
       "      <td>0.000000</td>\n",
       "      <td>0.000000</td>\n",
       "    </tr>\n",
       "    <tr>\n",
       "      <th>ENSG00000286151</th>\n",
       "      <td>143.709440</td>\n",
       "      <td>4.192482</td>\n",
       "      <td>0.401888</td>\n",
       "      <td>3.052401</td>\n",
       "      <td>222.002730</td>\n",
       "      <td>2.913187</td>\n",
       "      <td>172.218350</td>\n",
       "      <td>31.615020</td>\n",
       "      <td>0.000000</td>\n",
       "      <td>0.000000</td>\n",
       "      <td>...</td>\n",
       "      <td>0.000000</td>\n",
       "      <td>0.000000</td>\n",
       "      <td>0.000000</td>\n",
       "      <td>0.000000</td>\n",
       "      <td>0.000000</td>\n",
       "      <td>0.000000</td>\n",
       "      <td>0.000000</td>\n",
       "      <td>0.000000</td>\n",
       "      <td>0.000000</td>\n",
       "      <td>0.000000</td>\n",
       "    </tr>\n",
       "    <tr>\n",
       "      <th>ENSG00000287276</th>\n",
       "      <td>36.604362</td>\n",
       "      <td>0.000000</td>\n",
       "      <td>73.917076</td>\n",
       "      <td>40.414440</td>\n",
       "      <td>2.604268</td>\n",
       "      <td>2.061551</td>\n",
       "      <td>0.255180</td>\n",
       "      <td>0.000000</td>\n",
       "      <td>0.000000</td>\n",
       "      <td>0.411579</td>\n",
       "      <td>...</td>\n",
       "      <td>0.000000</td>\n",
       "      <td>0.000000</td>\n",
       "      <td>0.000000</td>\n",
       "      <td>0.000000</td>\n",
       "      <td>0.000000</td>\n",
       "      <td>0.000000</td>\n",
       "      <td>0.000000</td>\n",
       "      <td>2.639672</td>\n",
       "      <td>120.646230</td>\n",
       "      <td>0.000000</td>\n",
       "    </tr>\n",
       "    <tr>\n",
       "      <th>ENSG00000288534</th>\n",
       "      <td>0.000000</td>\n",
       "      <td>0.000000</td>\n",
       "      <td>0.000000</td>\n",
       "      <td>29.308508</td>\n",
       "      <td>0.000000</td>\n",
       "      <td>0.000000</td>\n",
       "      <td>0.000000</td>\n",
       "      <td>3.393232</td>\n",
       "      <td>0.000000</td>\n",
       "      <td>0.000000</td>\n",
       "      <td>...</td>\n",
       "      <td>0.000000</td>\n",
       "      <td>0.000000</td>\n",
       "      <td>0.000000</td>\n",
       "      <td>110.181200</td>\n",
       "      <td>0.000000</td>\n",
       "      <td>0.000000</td>\n",
       "      <td>0.000000</td>\n",
       "      <td>0.000000</td>\n",
       "      <td>0.000596</td>\n",
       "      <td>0.000000</td>\n",
       "    </tr>\n",
       "  </tbody>\n",
       "</table>\n",
       "<p>2480 rows × 2151 columns</p>\n",
       "</div>"
      ],
      "text/plain": [
       "                 SRR3052083  SRR3052084  SRR3052085  SRR3052086  SRR3052087  \\\n",
       "ENSG00000000457   14.105330   45.350548   27.500156   24.328178   21.817270   \n",
       "ENSG00000001561    1.844266    0.000000    0.000000    0.000000    0.000000   \n",
       "ENSG00000002016    0.922133  156.519320    1.601177  112.938820    1.302134   \n",
       "ENSG00000003056  434.112880    0.000000    0.803775  638.390870  511.915650   \n",
       "ENSG00000003147  256.082730    0.000000    0.189454   27.471605    1.953201   \n",
       "...                     ...         ...         ...         ...         ...   \n",
       "ENSG00000286001    3.954249    0.000000    3.343875   16.208473   25.249277   \n",
       "ENSG00000286073    4.754004    0.000000    0.000000    0.000000    1.964281   \n",
       "ENSG00000286151  143.709440    4.192482    0.401888    3.052401  222.002730   \n",
       "ENSG00000287276   36.604362    0.000000   73.917076   40.414440    2.604268   \n",
       "ENSG00000288534    0.000000    0.000000    0.000000   29.308508    0.000000   \n",
       "\n",
       "                 SRR3052088  SRR3052089  SRR3052090   SRR3052091  SRR3052092  \\\n",
       "ENSG00000000457   15.758317    3.566042   19.376453    23.881630   37.535576   \n",
       "ENSG00000001561  678.772640    0.255180  670.084200     1.969075  630.539100   \n",
       "ENSG00000002016    2.913187    0.765541    1.542196     0.000000    0.823158   \n",
       "ENSG00000003056  586.804600    0.510361    0.000000  1101.268600    0.000000   \n",
       "ENSG00000003147  707.540340    0.510361    0.000000     1.416437    1.024247   \n",
       "...                     ...         ...         ...          ...         ...   \n",
       "ENSG00000286001   13.889814  187.463460   13.542480     4.006792    1.240002   \n",
       "ENSG00000286073    0.000000   10.490871    0.000000     0.000000    0.000000   \n",
       "ENSG00000286151    2.913187  172.218350   31.615020     0.000000    0.000000   \n",
       "ENSG00000287276    2.061551    0.255180    0.000000     0.000000    0.411579   \n",
       "ENSG00000288534    0.000000    0.000000    3.393232     0.000000    0.000000   \n",
       "\n",
       "                 ...  SRR5456187   SRR5456188  SRR5456189  SRR5456190  \\\n",
       "ENSG00000000457  ...   18.358406  1588.417800   40.131010   13.045530   \n",
       "ENSG00000001561  ...  262.822720     0.000000    0.000000    0.000000   \n",
       "ENSG00000002016  ...    0.000000     0.363453    7.933804    0.303850   \n",
       "ENSG00000003056  ...  104.363120     0.000000    0.258903  479.690000   \n",
       "ENSG00000003147  ...    9.923048     0.363634    3.373493    0.000000   \n",
       "...              ...         ...          ...         ...         ...   \n",
       "ENSG00000286001  ...    9.056852    15.438485    0.000000    3.817992   \n",
       "ENSG00000286073  ...    0.000000     0.000000    0.000000    0.000000   \n",
       "ENSG00000286151  ...    0.000000     0.000000    0.000000    0.000000   \n",
       "ENSG00000287276  ...    0.000000     0.000000    0.000000    0.000000   \n",
       "ENSG00000288534  ...    0.000000     0.000000    0.000000  110.181200   \n",
       "\n",
       "                 SRR5456191  SRR5456192  SRR5456193  SRR5456194  SRR5456195  \\\n",
       "ENSG00000000457   34.460392   13.971558   27.200650   30.016335   12.008236   \n",
       "ENSG00000001561    0.000000    0.000000    0.000000    0.000000    0.000000   \n",
       "ENSG00000002016    0.819847    1.273660    4.596179    1.319836    0.000000   \n",
       "ENSG00000003056    2.049616    0.424553   13.788538  290.433780    5.087919   \n",
       "ENSG00000003147  185.695240  121.459470    0.000000  471.181370    1.453691   \n",
       "...                     ...         ...         ...         ...         ...   \n",
       "ENSG00000286001    0.000000    0.000000    0.000000    0.000000    2.990777   \n",
       "ENSG00000286073    0.000000    0.000000    0.000000    0.000000    0.000000   \n",
       "ENSG00000286151    0.000000    0.000000    0.000000    0.000000    0.000000   \n",
       "ENSG00000287276    0.000000    0.000000    0.000000    2.639672  120.646230   \n",
       "ENSG00000288534    0.000000    0.000000    0.000000    0.000000    0.000596   \n",
       "\n",
       "                 SRR5456196  \n",
       "ENSG00000000457   14.492656  \n",
       "ENSG00000001561    0.000000  \n",
       "ENSG00000002016    0.287090  \n",
       "ENSG00000003056    0.287090  \n",
       "ENSG00000003147    1.909870  \n",
       "...                     ...  \n",
       "ENSG00000286001    0.000000  \n",
       "ENSG00000286073    0.000000  \n",
       "ENSG00000286151    0.000000  \n",
       "ENSG00000287276    0.000000  \n",
       "ENSG00000288534    0.000000  \n",
       "\n",
       "[2480 rows x 2151 columns]"
      ]
     },
     "execution_count": 31,
     "metadata": {},
     "output_type": "execute_result"
    }
   ],
   "source": [
    "data.iloc[index2]"
   ]
  },
  {
   "cell_type": "code",
   "execution_count": 72,
   "id": "3d74ad43",
   "metadata": {},
   "outputs": [
    {
     "data": {
      "text/plain": [
       "(1504, 27118)"
      ]
     },
     "execution_count": 72,
     "metadata": {},
     "output_type": "execute_result"
    }
   ],
   "source": [
    "X_train.shape"
   ]
  },
  {
   "cell_type": "code",
   "execution_count": 74,
   "id": "82145909",
   "metadata": {},
   "outputs": [],
   "source": [
    "#data with only the selected features\n",
    "X_train_selected = X_train.iloc[:,index4]\n",
    "X_test_selected = X_test.iloc[:, index4]"
   ]
  },
  {
   "cell_type": "markdown",
   "id": "8db55adc",
   "metadata": {},
   "source": [
    "### Standard LR"
   ]
  },
  {
   "cell_type": "code",
   "execution_count": 82,
   "id": "9e423763",
   "metadata": {},
   "outputs": [
    {
     "name": "stdout",
     "output_type": "stream",
     "text": [
      "0.9041731066460588\n"
     ]
    },
    {
     "name": "stderr",
     "output_type": "stream",
     "text": [
      "/opt/anaconda3/lib/python3.8/site-packages/sklearn/linear_model/_logistic.py:814: ConvergenceWarning: lbfgs failed to converge (status=1):\n",
      "STOP: TOTAL NO. of ITERATIONS REACHED LIMIT.\n",
      "\n",
      "Increase the number of iterations (max_iter) or scale the data as shown in:\n",
      "    https://scikit-learn.org/stable/modules/preprocessing.html\n",
      "Please also refer to the documentation for alternative solver options:\n",
      "    https://scikit-learn.org/stable/modules/linear_model.html#logistic-regression\n",
      "  n_iter_i = _check_optimize_result(\n"
     ]
    },
    {
     "data": {
      "text/plain": [
       "Text(0.5, 1.0, 'Accuracy Score: 0.9041731066460588')"
      ]
     },
     "execution_count": 82,
     "metadata": {},
     "output_type": "execute_result"
    },
    {
     "data": {
      "image/png": "[encoded data removed]",
      "text/plain": [
       "<Figure size 648x648 with 2 Axes>"
      ]
     },
     "metadata": {
      "needs_background": "light"
     },
     "output_type": "display_data"
    }
   ],
   "source": [
    "import matplotlib.pyplot as plt\n",
    "import seaborn as sns\n",
    "from sklearn import metrics\n",
    "\n",
    "model = LogisticRegression().fit(X_train_selected, y_train)\n",
    "\n",
    "#Accuracy as performance metric\n",
    "pred = model.predict(X_test_selected)\n",
    "score = model.score(X_test_selected, y_test)\n",
    "print(score)\n",
    "\n",
    "cm = metrics.confusion_matrix(y_test, pred)\n",
    "plt.figure(figsize=(9,9))\n",
    "sns.heatmap(cm, annot=True, fmt=\".3f\", linewidths=.5, square = True, cmap = 'Blues_r')\n",
    "plt.ylabel('Actual label')\n",
    "plt.xlabel('Predicted label')\n",
    "all_sample_title = 'Accuracy Score: {0}'.format(score)\n",
    "plt.title(all_sample_title, size = 15)"
   ]
  },
  {
   "cell_type": "code",
   "execution_count": 36,
   "id": "23fb35e8",
   "metadata": {},
   "outputs": [
    {
     "name": "stdout",
     "output_type": "stream",
     "text": [
      "Mean ROC AUC: 0.980\n"
     ]
    }
   ],
   "source": [
    "# Fit a standard Logistic Regression model on the dataset\n",
    "model = LogisticRegression(solver='lbfgs')\n",
    "\n",
    "# Use repeated cross-validation to evaluate the model, with three repeats of 10-fold cross-validation\n",
    "cv = RepeatedStratifiedKFold(n_splits=10, n_repeats=3, random_state=1)\n",
    "\n",
    "# evaluate model\n",
    "scores = cross_val_score(model, data.iloc[index3].T, y, scoring='roc_auc', cv=cv, n_jobs=-1)\n",
    "\n",
    "# summarize performance\n",
    "print('Mean ROC AUC: %.3f' % np.mean(scores))"
   ]
  },
  {
   "cell_type": "markdown",
   "id": "2f81c137",
   "metadata": {},
   "source": [
    "### Cost-sensitive LR"
   ]
  },
  {
   "cell_type": "code",
   "execution_count": 83,
   "id": "0b4e3acb",
   "metadata": {},
   "outputs": [
    {
     "name": "stdout",
     "output_type": "stream",
     "text": [
      "0.9041731066460588\n"
     ]
    },
    {
     "name": "stderr",
     "output_type": "stream",
     "text": [
      "/opt/anaconda3/lib/python3.8/site-packages/sklearn/linear_model/_logistic.py:814: ConvergenceWarning: lbfgs failed to converge (status=1):\n",
      "STOP: TOTAL NO. of ITERATIONS REACHED LIMIT.\n",
      "\n",
      "Increase the number of iterations (max_iter) or scale the data as shown in:\n",
      "    https://scikit-learn.org/stable/modules/preprocessing.html\n",
      "Please also refer to the documentation for alternative solver options:\n",
      "    https://scikit-learn.org/stable/modules/linear_model.html#logistic-regression\n",
      "  n_iter_i = _check_optimize_result(\n"
     ]
    },
    {
     "data": {
      "text/plain": [
       "Text(0.5, 1.0, 'Accuracy Score: 0.9041731066460588')"
      ]
     },
     "execution_count": 83,
     "metadata": {},
     "output_type": "execute_result"
    },
    {
     "data": {
      "image/png": "[encoded data removed]",
      "text/plain": [
       "<Figure size 648x648 with 2 Axes>"
      ]
     },
     "metadata": {
      "needs_background": "light"
     },
     "output_type": "display_data"
    }
   ],
   "source": [
    "weights = {0:1.0, 1:10.5}\n",
    "model = LogisticRegression(class_weight=weights).fit(X_train_selected, y_train)\n",
    "\n",
    "#Accuracy as performance metric\n",
    "pred = model.predict(X_test_selected)\n",
    "score = model.score(X_test_selected, y_test)\n",
    "print(score)\n",
    "\n",
    "cm = metrics.confusion_matrix(y_test, pred)\n",
    "plt.figure(figsize=(9,9))\n",
    "sns.heatmap(cm, annot=True, fmt=\".3f\", linewidths=.5, square = True, cmap = 'Blues_r')\n",
    "plt.ylabel('Actual label')\n",
    "plt.xlabel('Predicted label')\n",
    "all_sample_title = 'Accuracy Score: {0}'.format(score)\n",
    "plt.title(all_sample_title, size = 15)"
   ]
  },
  {
   "cell_type": "code",
   "execution_count": 43,
   "id": "412036bc",
   "metadata": {},
   "outputs": [
    {
     "name": "stdout",
     "output_type": "stream",
     "text": [
      "Mean ROC AUC: 0.980\n"
     ]
    }
   ],
   "source": [
    "# calculate class weighting\n",
    "from sklearn.utils.class_weight import compute_class_weight\n",
    "class_weights = compute_class_weight(\n",
    "                                        class_weight = \"balanced\",\n",
    "                                        classes = [0,1],\n",
    "                                        y = y                                                    \n",
    "                                    )\n",
    "class_weights = dict(zip([0,1], class_weights))\n",
    "\n",
    "# define model\n",
    "model = LogisticRegression(solver='lbfgs', class_weight='balanced')\n",
    "\n",
    "# define evaluation procedure\n",
    "cv = RepeatedStratifiedKFold(n_splits=10, n_repeats=3, random_state=1)\n",
    "\n",
    "# evaluate model\n",
    "scores = cross_val_score(model, data.iloc[index2].T, y, scoring='roc_auc', cv=cv, n_jobs=-1)\n",
    "\n",
    "# summarize performance\n",
    "print('Mean ROC AUC: %.3f' % np.mean(scores))\n"
   ]
  },
  {
   "cell_type": "code",
   "execution_count": 104,
   "id": "28c37502",
   "metadata": {},
   "outputs": [
    {
     "name": "stdout",
     "output_type": "stream",
     "text": [
      "[0.94983278 0.94927536 0.92363434 0.86566332 0.98933184 0.98371701\n",
      " 0.98708591 0.94946659 0.9270073  0.96967996 0.96376812 0.93924192\n",
      " 0.96098105 0.98104794 0.98315553 0.87984278 0.94216732 0.96631106\n",
      " 0.99213925 0.94834363 0.8400223  0.97101449 0.97435897 0.97826087\n",
      " 0.94778214 0.93823695 0.93374509 0.92195396 0.98371701 0.98933184]\n",
      "Mean ROC AUC: 0.951\n"
     ]
    }
   ],
   "source": [
    "#Logistic Regression for Imbalanced Classification\n",
    "# define model\n",
    "weights = {0:1.0, 1:10.5}\n",
    "model = LogisticRegression(solver='lbfgs', class_weight=weights)\n",
    "\n",
    "# define evaluation procedure\n",
    "cv = RepeatedStratifiedKFold(n_splits=10, n_repeats=3, random_state=1)\n",
    "\n",
    "# evaluate model\n",
    "scores = cross_val_score(model, X_train_selected, y_train, scoring='roc_auc', cv=cv, n_jobs=-1)\n",
    "print(scores)\n",
    "\n",
    "# summarize performance\n",
    "print('Mean ROC AUC: %.3f' % np.mean(scores))\n"
   ]
  },
  {
   "cell_type": "markdown",
   "id": "35de59a2",
   "metadata": {},
   "source": [
    "## Plot"
   ]
  },
  {
   "cell_type": "code",
   "execution_count": 101,
   "id": "b2000436",
   "metadata": {},
   "outputs": [
    {
     "name": "stdout",
     "output_type": "stream",
     "text": [
      "No Skill: ROC AUC=0.500\n",
      "Logistic: ROC AUC=0.808\n"
     ]
    },
    {
     "name": "stderr",
     "output_type": "stream",
     "text": [
      "/opt/anaconda3/lib/python3.8/site-packages/sklearn/linear_model/_logistic.py:814: ConvergenceWarning: lbfgs failed to converge (status=1):\n",
      "STOP: TOTAL NO. of ITERATIONS REACHED LIMIT.\n",
      "\n",
      "Increase the number of iterations (max_iter) or scale the data as shown in:\n",
      "    https://scikit-learn.org/stable/modules/preprocessing.html\n",
      "Please also refer to the documentation for alternative solver options:\n",
      "    https://scikit-learn.org/stable/modules/linear_model.html#logistic-regression\n",
      "  n_iter_i = _check_optimize_result(\n"
     ]
    },
    {
     "data": {
      "image/png": "[encoded data removed]",
      "text/plain": [
       "<Figure size 432x288 with 1 Axes>"
      ]
     },
     "metadata": {
      "needs_background": "light"
     },
     "output_type": "display_data"
    }
   ],
   "source": [
    "from sklearn.metrics import roc_curve, roc_auc_score\n",
    "weights = {0:1.0, 1:10.5}\n",
    "model = LogisticRegression(solver='lbfgs')\n",
    "model.fit(X_train_selected, y_train) #.decision_function(X_test_selected)\n",
    "lr_probs = model.predict_proba(X_test_selected)\n",
    "lr_probs = lr_probs[:, 1]\n",
    "ns_probs = [0 for _ in range(len(y_test))]\n",
    "# calculate scores\n",
    "ns_auc = roc_auc_score(y_test, ns_probs)\n",
    "lr_auc = roc_auc_score(y_test, lr_probs)\n",
    "# summarize scores\n",
    "print('No Skill: ROC AUC=%.3f' % (ns_auc))\n",
    "print('Logistic: ROC AUC=%.3f' % (lr_auc))\n",
    "# calculate roc curves\n",
    "ns_fpr, ns_tpr, _ = roc_curve(y_test, ns_probs)\n",
    "lr_fpr, lr_tpr, _ = roc_curve(y_test, lr_probs)\n",
    "# axis labels\n",
    "plt.plot(ns_fpr, ns_tpr, linestyle='--', label='No Skill')\n",
    "plt.plot(lr_fpr, lr_tpr, marker = '.', label='Logistic')\n",
    "plt.title('ROC Curve for Testing Set')\n",
    "plt.ylabel('True Positive Rate')\n",
    "plt.xlabel('False Positive Rate')\n",
    "plt.legend()\n",
    "plt.show()"
   ]
  },
  {
   "cell_type": "code",
   "execution_count": 102,
   "id": "bb2b942f",
   "metadata": {},
   "outputs": [
    {
     "name": "stdout",
     "output_type": "stream",
     "text": [
      "No Skill: ROC AUC=0.500\n",
      "Logistic: ROC AUC=0.829\n"
     ]
    },
    {
     "name": "stderr",
     "output_type": "stream",
     "text": [
      "/opt/anaconda3/lib/python3.8/site-packages/sklearn/linear_model/_logistic.py:814: ConvergenceWarning: lbfgs failed to converge (status=1):\n",
      "STOP: TOTAL NO. of ITERATIONS REACHED LIMIT.\n",
      "\n",
      "Increase the number of iterations (max_iter) or scale the data as shown in:\n",
      "    https://scikit-learn.org/stable/modules/preprocessing.html\n",
      "Please also refer to the documentation for alternative solver options:\n",
      "    https://scikit-learn.org/stable/modules/linear_model.html#logistic-regression\n",
      "  n_iter_i = _check_optimize_result(\n"
     ]
    },
    {
     "data": {
      "image/png": "[encoded data removed]",
      "text/plain": [
       "<Figure size 432x288 with 1 Axes>"
      ]
     },
     "metadata": {
      "needs_background": "light"
     },
     "output_type": "display_data"
    }
   ],
   "source": [
    "from sklearn.metrics import roc_curve, roc_auc_score\n",
    "weights = {0:1.0, 1:10.5}\n",
    "model = LogisticRegression(solver='lbfgs', class_weight=weights)\n",
    "model.fit(X_train_selected, y_train) #.decision_function(X_test_selected)\n",
    "lr_probs = model.predict_proba(X_test_selected)\n",
    "lr_probs = lr_probs[:, 1]\n",
    "ns_probs = [0 for _ in range(len(y_test))]\n",
    "# calculate scores\n",
    "ns_auc = roc_auc_score(y_test, ns_probs)\n",
    "lr_auc = roc_auc_score(y_test, lr_probs)\n",
    "# summarize scores\n",
    "print('No Skill: ROC AUC=%.3f' % (ns_auc))\n",
    "print('Logistic: ROC AUC=%.3f' % (lr_auc))\n",
    "# calculate roc curves\n",
    "ns_fpr, ns_tpr, _ = roc_curve(y_test, ns_probs)\n",
    "lr_fpr, lr_tpr, _ = roc_curve(y_test, lr_probs)\n",
    "# axis labels\n",
    "plt.plot(ns_fpr, ns_tpr, linestyle='--', label='No Skill')\n",
    "plt.plot(lr_fpr, lr_tpr, marker = '.', label='Logistic')\n",
    "plt.title('ROC Curve for Testing Set')\n",
    "plt.ylabel('True Positive Rate')\n",
    "plt.xlabel('False Positive Rate')\n",
    "plt.legend()\n",
    "plt.show()"
   ]
  },
  {
   "cell_type": "code",
   "execution_count": 124,
   "id": "22c64391",
   "metadata": {},
   "outputs": [
    {
     "name": "stdout",
     "output_type": "stream",
     "text": [
      "No Skill: ROC AUC=0.500\n",
      "Logistic: ROC AUC=0.544\n"
     ]
    },
    {
     "data": {
      "image/png": "[encoded data removed]",
      "text/plain": [
       "<Figure size 432x288 with 1 Axes>"
      ]
     },
     "metadata": {
      "needs_background": "light"
     },
     "output_type": "display_data"
    }
   ],
   "source": [
    "from sklearn import tree\n",
    "clf = tree.DecisionTreeClassifier()\n",
    "clf.fit(X_train_selected, y_train)\n",
    "lr_probs = clf.predict_proba(X_test_selected)\n",
    "lr_probs = lr_probs[:, 1]\n",
    "ns_probs = [0 for _ in range(len(y_test))]\n",
    "# calculate scores\n",
    "ns_auc = roc_auc_score(y_test, ns_probs)\n",
    "lr_auc = roc_auc_score(y_test, lr_probs)\n",
    "# summarize scores\n",
    "print('No Skill: ROC AUC=%.3f' % (ns_auc))\n",
    "print('Logistic: ROC AUC=%.3f' % (lr_auc))\n",
    "# calculate roc curves\n",
    "ns_fpr, ns_tpr, _ = roc_curve(y_test, ns_probs)\n",
    "lr_fpr, lr_tpr, _ = roc_curve(y_test, lr_probs)\n",
    "# axis labels\n",
    "plt.plot(ns_fpr, ns_tpr, linestyle='--', label='No Skill')\n",
    "plt.plot(lr_fpr, lr_tpr, marker = '.', label='Logistic')\n",
    "plt.title('ROC Curve for Testing Set')\n",
    "plt.ylabel('True Positive Rate')\n",
    "plt.xlabel('False Positive Rate')\n",
    "plt.legend()\n",
    "plt.show()"
   ]
  },
  {
   "cell_type": "code",
   "execution_count": 120,
   "id": "1f1b3a4e",
   "metadata": {},
   "outputs": [
    {
     "name": "stdout",
     "output_type": "stream",
     "text": [
      "No Skill: ROC AUC=0.500\n",
      "Logistic: ROC AUC=0.638\n"
     ]
    },
    {
     "data": {
      "image/png": "[encoded data removed]",
      "text/plain": [
       "<Figure size 432x288 with 1 Axes>"
      ]
     },
     "metadata": {
      "needs_background": "light"
     },
     "output_type": "display_data"
    }
   ],
   "source": [
    "from sklearn import tree\n",
    "clf = tree.DecisionTreeClassifier(class_weight=weights)\n",
    "clf.fit(X_train_selected, y_train)\n",
    "lr_probs = clf.predict_proba(X_test_selected)\n",
    "lr_probs = lr_probs[:, 1]\n",
    "ns_probs = [0 for _ in range(len(y_test))]\n",
    "# calculate scores\n",
    "ns_auc = roc_auc_score(y_test, ns_probs)\n",
    "lr_auc = roc_auc_score(y_test, lr_probs)\n",
    "# summarize scores\n",
    "print('No Skill: ROC AUC=%.3f' % (ns_auc))\n",
    "print('Logistic: ROC AUC=%.3f' % (lr_auc))\n",
    "# calculate roc curves\n",
    "ns_fpr, ns_tpr, _ = roc_curve(y_test, ns_probs)\n",
    "lr_fpr, lr_tpr, _ = roc_curve(y_test, lr_probs)\n",
    "# axis labels\n",
    "plt.plot(ns_fpr, ns_tpr, linestyle='--', label='No Skill')\n",
    "plt.plot(lr_fpr, lr_tpr, marker = '.', label='Logistic')\n",
    "plt.title('ROC Curve for Testing Set')\n",
    "plt.ylabel('True Positive Rate')\n",
    "plt.xlabel('False Positive Rate')\n",
    "plt.legend()\n",
    "plt.show()"
   ]
  },
  {
   "cell_type": "code",
   "execution_count": null,
   "id": "2c4fa56e",
   "metadata": {},
   "outputs": [],
   "source": [
    "from sklearn.metrics import roc_curve\n",
    "#Plot ROC Curve\n",
    "lr_probs = model.predict_proba(X_test)[:,1]\n",
    "lr_auc = roc_auc_score(y_test, lr_probs)\n",
    "print('Logistic: ROC AUC=%.3f' % (lr_auc))\n",
    "lr_fpr, lr_tpr, _ = roc_curve(y_test, lr_probs)\n",
    "plt.plot(lr_fpr, lr_tpr)\n",
    "plt.title('ROC Curve for Training Set')\n",
    "plt.ylabel('True Positive Rate')\n",
    "plt.xlabel('False Positive Rate')\n",
    "plt.show()"
   ]
  },
  {
   "cell_type": "code",
   "execution_count": null,
   "id": "506e36a2",
   "metadata": {},
   "outputs": [],
   "source": [
    "# Enrichment Analysis\n",
    "from scipy.stats import pearsonr, hypergeom \n",
    "# split X into 20 pathways\n",
    "pathway = []\n",
    "for i in range(20):\n",
    "    pathway.append([x for x in range(i*10,(i+1)*10)])\n",
    "\n",
    "n = 10\n",
    "M = 200\n",
    "N = 25\n",
    "p_val = [0]*11\n",
    "for k in range(10):\n",
    "    prob = hypergeom.pmf(k,M,n,N)\n",
    "    p_val[:k+1] += prob\n",
    "    prob = 0\n",
    "    print(p_val)"
   ]
  },
  {
   "cell_type": "code",
   "execution_count": null,
   "id": "5413bfa4",
   "metadata": {},
   "outputs": [],
   "source": [
    "enrichment = []\n",
    "p_value = []\n",
    "for i in range(len(pathway)):\n",
    "    temp = set(pathway[i]).intersection(result)\n",
    "    enrichment.append(len(temp))\n",
    "    p_value.append(p_val[enrichment[-1]])\n",
    "result2 = np.argpartition(enrichment, -3)[-3:]\n",
    "result2 = [x+1 for x in result2]\n",
    "print(result2)\n",
    "p_value = [round(item,4) for item in p_value]\n",
    "print(p_value)"
   ]
  },
  {
   "cell_type": "code",
   "execution_count": 46,
   "id": "fbe02196",
   "metadata": {},
   "outputs": [],
   "source": [
    "#Using features selected after two types of feature selection\n",
    "#Get the set for class 0\n",
    "index_f = [i for i in range(len(y)) if y[i] == 0]\n",
    "data_class0_f = X_final_features.iloc[index_f]\n",
    "y_class0_f = y[index_f]\n",
    "\n",
    "#Get the set for class 1\n",
    "index_f = [i for i in range(len(y)) if y[i] == 1]\n",
    "data_class1_f = X_final_features.iloc[index_f]\n",
    "y_class1_f = y[index_f]\n",
    "\n",
    "# Split Data into training and testing set\n",
    "# Validation will be automatically split when evaluating model with cv\n",
    "X_train0_f, X_test0_f, y_train0_f, y_test0_f = train_test_split(data_class0_f, y_class0_f, test_size=0.3, shuffle=False)\n",
    "X_train1_f, X_test1_f, y_train1_f, y_test1_f = train_test_split(data_class1_f, y_class1_f, test_size=0.3, shuffle=False)\n",
    "X_train_f = pd.concat([X_train0_f, X_train1_f])\n",
    "X_test_f = pd.concat([X_test0_f, X_test1_f])\n",
    "y_train_f = np.concatenate((y_train0_f, y_train1_f))\n",
    "y_test_f = np.concatenate((y_test0_f, y_test1_f))"
   ]
  },
  {
   "cell_type": "code",
   "execution_count": 49,
   "id": "90a41ab9",
   "metadata": {},
   "outputs": [
    {
     "name": "stdout",
     "output_type": "stream",
     "text": [
      "No Skill: ROC AUC=0.500\n",
      "Logistic: ROC AUC=0.886\n"
     ]
    },
    {
     "name": "stderr",
     "output_type": "stream",
     "text": [
      "/opt/anaconda3/lib/python3.8/site-packages/sklearn/linear_model/_logistic.py:814: ConvergenceWarning: lbfgs failed to converge (status=1):\n",
      "STOP: TOTAL NO. of ITERATIONS REACHED LIMIT.\n",
      "\n",
      "Increase the number of iterations (max_iter) or scale the data as shown in:\n",
      "    https://scikit-learn.org/stable/modules/preprocessing.html\n",
      "Please also refer to the documentation for alternative solver options:\n",
      "    https://scikit-learn.org/stable/modules/linear_model.html#logistic-regression\n",
      "  n_iter_i = _check_optimize_result(\n"
     ]
    },
    {
     "data": {
      "image/png": "[encoded data removed]",
      "text/plain": [
       "<Figure size 432x288 with 1 Axes>"
      ]
     },
     "metadata": {
      "needs_background": "light"
     },
     "output_type": "display_data"
    }
   ],
   "source": [
    "from sklearn.metrics import roc_curve, roc_auc_score\n",
    "from sklearn.linear_model import LogisticRegression\n",
    "import matplotlib.pyplot as plt\n",
    "weights = {0:1.0, 1:10.5}\n",
    "model = LogisticRegression(solver='lbfgs', class_weight=weights)\n",
    "model.fit(X_train_f, y_train) #.decision_function(X_test_selected)\n",
    "lr_probs = model.predict_proba(X_test_f)\n",
    "lr_probs = lr_probs[:, 1]\n",
    "ns_probs = [0 for _ in range(len(y_test_f))]\n",
    "# calculate scores\n",
    "ns_auc = roc_auc_score(y_test_f, ns_probs)\n",
    "lr_auc = roc_auc_score(y_test_f, lr_probs)\n",
    "# summarize scores\n",
    "print('No Skill: ROC AUC=%.3f' % (ns_auc))\n",
    "print('Logistic: ROC AUC=%.3f' % (lr_auc))\n",
    "# calculate roc curves\n",
    "ns_fpr, ns_tpr, _ = roc_curve(y_test_f, ns_probs)\n",
    "lr_fpr, lr_tpr, _ = roc_curve(y_test_f, lr_probs)\n",
    "# axis labels\n",
    "plt.plot(ns_fpr, ns_tpr, linestyle='--', label='No Skill')\n",
    "plt.plot(lr_fpr, lr_tpr, marker = '.', label='Logistic')\n",
    "plt.title('ROC Curve for Testing Set')\n",
    "plt.ylabel('True Positive Rate')\n",
    "plt.xlabel('False Positive Rate')\n",
    "plt.legend()\n",
    "plt.show()"
   ]
  },
  {
   "cell_type": "code",
   "execution_count": 53,
   "id": "6b333755",
   "metadata": {},
   "outputs": [],
   "source": [
    "#Using features selected from method 1\n",
    "#Get the set for class 0\n",
    "index_f = [i for i in range(len(y)) if y[i] == 0]\n",
    "data_class0_m1 = X_method1.iloc[index_f]\n",
    "y_class0_f = y[index_f]\n",
    "\n",
    "#Get the set for class 1\n",
    "index_f = [i for i in range(len(y)) if y[i] == 1]\n",
    "data_class1_m1 = X_method1.iloc[index_f]\n",
    "y_class1_f = y[index_f]\n",
    "\n",
    "# Split Data into training and testing set\n",
    "# Validation will be automatically split when evaluating model with cv\n",
    "X_train0_m1, X_test0_m1, y_train0_f, y_test0_f = train_test_split(data_class0_m1, y_class0_f, test_size=0.3, shuffle=False)\n",
    "X_train1_m1, X_test1_m1, y_train1_f, y_test1_f = train_test_split(data_class1_m1, y_class1_f, test_size=0.3, shuffle=False)\n",
    "X_train_m1 = pd.concat([X_train0_m1, X_train1_m1])\n",
    "X_test_m1 = pd.concat([X_test0_m1, X_test1_m1])\n",
    "# y_train_f = np.concatenate((y_train0_f, y_train1_f))\n",
    "# y_test_f = np.concatenate((y_test0_f, y_test1_f))"
   ]
  },
  {
   "cell_type": "code",
   "execution_count": 54,
   "id": "06d4cc27",
   "metadata": {},
   "outputs": [
    {
     "name": "stdout",
     "output_type": "stream",
     "text": [
      "No Skill: ROC AUC=0.500\n",
      "Logistic: ROC AUC=0.861\n"
     ]
    },
    {
     "data": {
      "image/png": "[encoded data removed]",
      "text/plain": [
       "<Figure size 432x288 with 1 Axes>"
      ]
     },
     "metadata": {
      "needs_background": "light"
     },
     "output_type": "display_data"
    }
   ],
   "source": [
    "weights = {0:1.0, 1:10.5}\n",
    "model = LogisticRegression(solver='lbfgs', class_weight=weights)\n",
    "model.fit(X_train_m1, y_train) #.decision_function(X_test_selected)\n",
    "lr_probs = model.predict_proba(X_test_m1)\n",
    "lr_probs = lr_probs[:, 1]\n",
    "ns_probs = [0 for _ in range(len(y_test_f))]\n",
    "# calculate scores\n",
    "ns_auc = roc_auc_score(y_test_f, ns_probs)\n",
    "lr_auc = roc_auc_score(y_test_f, lr_probs)\n",
    "# summarize scores\n",
    "print('No Skill: ROC AUC=%.3f' % (ns_auc))\n",
    "print('Logistic: ROC AUC=%.3f' % (lr_auc))\n",
    "# calculate roc curves\n",
    "ns_fpr, ns_tpr, _ = roc_curve(y_test_f, ns_probs)\n",
    "lr_fpr, lr_tpr, _ = roc_curve(y_test_f, lr_probs)\n",
    "# axis labels\n",
    "plt.plot(ns_fpr, ns_tpr, linestyle='--', label='No Skill')\n",
    "plt.plot(lr_fpr, lr_tpr, marker = '.', label='Logistic')\n",
    "plt.title('ROC Curve for Testing Set')\n",
    "plt.ylabel('True Positive Rate')\n",
    "plt.xlabel('False Positive Rate')\n",
    "plt.legend()\n",
    "plt.show()"
   ]
  },
  {
   "cell_type": "code",
   "execution_count": 59,
   "id": "a643a41a",
   "metadata": {},
   "outputs": [],
   "source": [
    "#Use correlation with splitting by class label\n",
    "# Split Data into training and testing set\n",
    "# Validation will be automatically split when evaluating model with cv\n",
    "X_train_m1, X_test_m1, y_train_f, y_test_f = train_test_split(X_method1, y, test_size=0.3, shuffle=False)\n",
    "# X_train1_m1, X_test1_m1, y_train1_f, y_test1_f = train_test_split(X_method1, y, test_size=0.3, shuffle=False)\n",
    "# X_train_m1 = pd.concat([X_train0_m1, X_train1_m1])\n",
    "# X_test_m1 = pd.concat([X_test0_m1, X_test1_m1])\n",
    "# y_train_f = np.concatenate((y_train0_f, y_train1_f))\n",
    "# y_test_f = np.concatenate((y_test0_f, y_test1_f))"
   ]
  },
  {
   "cell_type": "code",
   "execution_count": 60,
   "id": "8121a7a8",
   "metadata": {},
   "outputs": [
    {
     "name": "stdout",
     "output_type": "stream",
     "text": [
      "No Skill: ROC AUC=0.500\n",
      "Logistic: ROC AUC=0.892\n"
     ]
    },
    {
     "data": {
      "image/png": "[encoded data removed]",
      "text/plain": [
       "<Figure size 432x288 with 1 Axes>"
      ]
     },
     "metadata": {
      "needs_background": "light"
     },
     "output_type": "display_data"
    }
   ],
   "source": [
    "weights = {0:1.0, 1:10.5}\n",
    "model = LogisticRegression(solver='lbfgs', class_weight=weights)\n",
    "model.fit(X_train_m1, y_train_f) #.decision_function(X_test_selected)\n",
    "lr_probs = model.predict_proba(X_test_m1)\n",
    "lr_probs = lr_probs[:, 1]\n",
    "ns_probs = [0 for _ in range(len(y_test_f))]\n",
    "# calculate scores\n",
    "ns_auc = roc_auc_score(y_test_f, ns_probs)\n",
    "lr_auc = roc_auc_score(y_test_f, lr_probs)\n",
    "# summarize scores\n",
    "print('No Skill: ROC AUC=%.3f' % (ns_auc))\n",
    "print('Logistic: ROC AUC=%.3f' % (lr_auc))\n",
    "# calculate roc curves\n",
    "ns_fpr, ns_tpr, _ = roc_curve(y_test_f, ns_probs)\n",
    "lr_fpr, lr_tpr, _ = roc_curve(y_test_f, lr_probs)\n",
    "# axis labels\n",
    "plt.plot(ns_fpr, ns_tpr, linestyle='--', label='No Skill')\n",
    "plt.plot(lr_fpr, lr_tpr, marker = '.', label='Logistic')\n",
    "plt.title('ROC Curve for Testing Set')\n",
    "plt.ylabel('True Positive Rate')\n",
    "plt.xlabel('False Positive Rate')\n",
    "plt.legend()\n",
    "plt.show()"
   ]
  },
  {
   "cell_type": "code",
   "execution_count": 69,
   "id": "8e144087",
   "metadata": {},
   "outputs": [],
   "source": [
    "X_train_m1, X_test_m1, y_train_f, y_test_f = train_test_split(X, y, test_size=0.3, shuffle=True)"
   ]
  },
  {
   "cell_type": "code",
   "execution_count": 70,
   "id": "d677c24c",
   "metadata": {},
   "outputs": [
    {
     "name": "stderr",
     "output_type": "stream",
     "text": [
      "/opt/anaconda3/lib/python3.8/site-packages/scipy/stats/stats.py:4023: PearsonRConstantInputWarning: An input array is constant; the correlation coefficient is not defined.\n",
      "  warnings.warn(PearsonRConstantInputWarning())\n"
     ]
    },
    {
     "name": "stdout",
     "output_type": "stream",
     "text": [
      "[25096, 26561, 25485, 13529, 13489, 26369, 25475, 25445, 25927, 26199, 25323, 25054, 26867, 20071, 25652, 13320, 25901, 26912, 25771, 20059, 13498, 25960, 26929, 22782, 25325, 22805, 26812, 24999, 25680, 26526, 26248, 25843, 25784, 26059, 20023, 26270, 25129, 25593, 26496, 26721, 25559, 13410, 26301, 26958, 25649, 26630, 13388, 25740, 13171, 22802, 22729, 26757, 27072, 25890, 26686, 13560, 26208, 13406, 25376, 26751, 26698, 26371, 26742, 25956, 26572, 26172, 25503, 25032, 24947, 26194, 25866, 25994, 26949, 22879, 23615, 26161, 20143, 25060, 23631, 26677, 13265, 27033, 20307, 25201, 26687, 26649, 25146, 22792, 12882, 26236, 24812, 23387, 26503, 24660, 19906, 22920, 19499, 25775, 25156, 17066]\n"
     ]
    }
   ],
   "source": [
    "# Use training data only\n",
    "#Select the 100 features having the largest 100 magnitude correlation values with the class label\n",
    "def corr(X,y):\n",
    "    corr = []\n",
    "    for i in range(X.shape[1]):\n",
    "        corr.append(abs(pearsonr(X.iloc[:,i], y)[0])) \n",
    "    c = sorted(range(len(corr)), key=lambda x: corr[x])[-100:]\n",
    "    return c\n",
    "c_method1 = corr(X_train_m1,y_train_f)\n",
    "print(c_method1)\n",
    "\n",
    "#X with selected features\n",
    "X_method1 = X.iloc[:,c_method1]"
   ]
  },
  {
   "cell_type": "code",
   "execution_count": 71,
   "id": "b9fe3792",
   "metadata": {},
   "outputs": [
    {
     "name": "stderr",
     "output_type": "stream",
     "text": [
      "/opt/anaconda3/lib/python3.8/site-packages/sklearn/linear_model/_logistic.py:814: ConvergenceWarning: lbfgs failed to converge (status=1):\n",
      "STOP: TOTAL NO. of ITERATIONS REACHED LIMIT.\n",
      "\n",
      "Increase the number of iterations (max_iter) or scale the data as shown in:\n",
      "    https://scikit-learn.org/stable/modules/preprocessing.html\n",
      "Please also refer to the documentation for alternative solver options:\n",
      "    https://scikit-learn.org/stable/modules/linear_model.html#logistic-regression\n",
      "  n_iter_i = _check_optimize_result(\n"
     ]
    },
    {
     "name": "stdout",
     "output_type": "stream",
     "text": [
      "No Skill: ROC AUC=0.500\n",
      "Logistic: ROC AUC=0.954\n"
     ]
    },
    {
     "data": {
      "image/png": "[encoded data removed]",
      "text/plain": [
       "<Figure size 432x288 with 1 Axes>"
      ]
     },
     "metadata": {
      "needs_background": "light"
     },
     "output_type": "display_data"
    }
   ],
   "source": [
    "#Shuffle = True\n",
    "weights = {0:1.0, 1:10.5}\n",
    "model = LogisticRegression(solver='lbfgs', class_weight=weights)\n",
    "model.fit(X_train_m1, y_train_f) #.decision_function(X_test_selected)\n",
    "lr_probs = model.predict_proba(X_test_m1)\n",
    "lr_probs = lr_probs[:, 1]\n",
    "ns_probs = [0 for _ in range(len(y_test_f))]\n",
    "# calculate scores\n",
    "ns_auc = roc_auc_score(y_test_f, ns_probs)\n",
    "lr_auc = roc_auc_score(y_test_f, lr_probs)\n",
    "# summarize scores\n",
    "print('No Skill: ROC AUC=%.3f' % (ns_auc))\n",
    "print('Logistic: ROC AUC=%.3f' % (lr_auc))\n",
    "# calculate roc curves\n",
    "ns_fpr, ns_tpr, _ = roc_curve(y_test_f, ns_probs)\n",
    "lr_fpr, lr_tpr, _ = roc_curve(y_test_f, lr_probs)\n",
    "# axis labels\n",
    "plt.plot(ns_fpr, ns_tpr, linestyle='--', label='No Skill')\n",
    "plt.plot(lr_fpr, lr_tpr, marker = '.', label='Logistic')\n",
    "plt.title('ROC Curve for Testing Set')\n",
    "plt.ylabel('True Positive Rate')\n",
    "plt.xlabel('False Positive Rate')\n",
    "plt.legend()\n",
    "plt.show()"
   ]
  },
  {
   "cell_type": "code",
   "execution_count": 68,
   "id": "eef65cb3",
   "metadata": {},
   "outputs": [
    {
     "name": "stderr",
     "output_type": "stream",
     "text": [
      "/opt/anaconda3/lib/python3.8/site-packages/sklearn/linear_model/_logistic.py:814: ConvergenceWarning: lbfgs failed to converge (status=1):\n",
      "STOP: TOTAL NO. of ITERATIONS REACHED LIMIT.\n",
      "\n",
      "Increase the number of iterations (max_iter) or scale the data as shown in:\n",
      "    https://scikit-learn.org/stable/modules/preprocessing.html\n",
      "Please also refer to the documentation for alternative solver options:\n",
      "    https://scikit-learn.org/stable/modules/linear_model.html#logistic-regression\n",
      "  n_iter_i = _check_optimize_result(\n"
     ]
    },
    {
     "name": "stdout",
     "output_type": "stream",
     "text": [
      "No Skill: ROC AUC=0.500\n",
      "Logistic: ROC AUC=0.928\n"
     ]
    },
    {
     "data": {
      "image/png": "[encoded data removed]",
      "text/plain": [
       "<Figure size 432x288 with 1 Axes>"
      ]
     },
     "metadata": {
      "needs_background": "light"
     },
     "output_type": "display_data"
    }
   ],
   "source": [
    "# Shuffle = False\n",
    "weights = {0:1.0, 1:10.5}\n",
    "model = LogisticRegression(solver='lbfgs', class_weight=weights)\n",
    "model.fit(X_train_m1, y_train_f) #.decision_function(X_test_selected)\n",
    "lr_probs = model.predict_proba(X_test_m1)\n",
    "lr_probs = lr_probs[:, 1]\n",
    "ns_probs = [0 for _ in range(len(y_test_f))]\n",
    "# calculate scores\n",
    "ns_auc = roc_auc_score(y_test_f, ns_probs)\n",
    "lr_auc = roc_auc_score(y_test_f, lr_probs)\n",
    "# summarize scores\n",
    "print('No Skill: ROC AUC=%.3f' % (ns_auc))\n",
    "print('Logistic: ROC AUC=%.3f' % (lr_auc))\n",
    "# calculate roc curves\n",
    "ns_fpr, ns_tpr, _ = roc_curve(y_test_f, ns_probs)\n",
    "lr_fpr, lr_tpr, _ = roc_curve(y_test_f, lr_probs)\n",
    "# axis labels\n",
    "plt.plot(ns_fpr, ns_tpr, linestyle='--', label='No Skill')\n",
    "plt.plot(lr_fpr, lr_tpr, marker = '.', label='Logistic')\n",
    "plt.title('ROC Curve for Testing Set')\n",
    "plt.ylabel('True Positive Rate')\n",
    "plt.xlabel('False Positive Rate')\n",
    "plt.legend()\n",
    "plt.show()"
   ]
  }
 ],
 "metadata": {
  "kernelspec": {
   "display_name": "Python 3 (ipykernel)",
   "language": "python",
   "name": "python3"
  },
  "language_info": {
   "codemirror_mode": {
    "name": "ipython",
    "version": 3
   },
   "file_extension": ".py",
   "mimetype": "text/x-python",
   "name": "python",
   "nbconvert_exporter": "python",
   "pygments_lexer": "ipython3",
   "version": "3.8.8"
  }
 },
 "nbformat": 4,
 "nbformat_minor": 5
}
